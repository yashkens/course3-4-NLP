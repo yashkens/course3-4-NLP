{
  "nbformat": 4,
  "nbformat_minor": 0,
  "metadata": {
    "colab": {
      "name": "hw5_collocations_reviews.ipynb",
      "provenance": [],
      "collapsed_sections": [
        "ES3ec8o6_tPJ"
      ],
      "include_colab_link": true
    },
    "kernelspec": {
      "name": "python3",
      "display_name": "Python 3"
    },
    "language_info": {
      "name": "python"
    },
    "accelerator": "GPU",
    "widgets": {
      "application/vnd.jupyter.widget-state+json": {
        "02f8e7bc25d14ff2aa8053ab409b3ed1": {
          "model_module": "@jupyter-widgets/controls",
          "model_name": "HBoxModel",
          "model_module_version": "1.5.0",
          "state": {
            "_view_name": "HBoxView",
            "_dom_classes": [],
            "_model_name": "HBoxModel",
            "_view_module": "@jupyter-widgets/controls",
            "_model_module_version": "1.5.0",
            "_view_count": null,
            "_view_module_version": "1.5.0",
            "box_style": "",
            "layout": "IPY_MODEL_cf3c4893f09b4ae99d8aa1de3c5d5803",
            "_model_module": "@jupyter-widgets/controls",
            "children": [
              "IPY_MODEL_f9b987437fd04f79a802f4caa46b42cd",
              "IPY_MODEL_a2d222b324444a73ae5d0993407bffd8",
              "IPY_MODEL_c02e4ae4f7634e24abdd12cac3500403"
            ]
          }
        },
        "cf3c4893f09b4ae99d8aa1de3c5d5803": {
          "model_module": "@jupyter-widgets/base",
          "model_name": "LayoutModel",
          "model_module_version": "1.2.0",
          "state": {
            "_view_name": "LayoutView",
            "grid_template_rows": null,
            "right": null,
            "justify_content": null,
            "_view_module": "@jupyter-widgets/base",
            "overflow": null,
            "_model_module_version": "1.2.0",
            "_view_count": null,
            "flex_flow": null,
            "width": null,
            "min_width": null,
            "border": null,
            "align_items": null,
            "bottom": null,
            "_model_module": "@jupyter-widgets/base",
            "top": null,
            "grid_column": null,
            "overflow_y": null,
            "overflow_x": null,
            "grid_auto_flow": null,
            "grid_area": null,
            "grid_template_columns": null,
            "flex": null,
            "_model_name": "LayoutModel",
            "justify_items": null,
            "grid_row": null,
            "max_height": null,
            "align_content": null,
            "visibility": null,
            "align_self": null,
            "height": null,
            "min_height": null,
            "padding": null,
            "grid_auto_rows": null,
            "grid_gap": null,
            "max_width": null,
            "order": null,
            "_view_module_version": "1.2.0",
            "grid_template_areas": null,
            "object_position": null,
            "object_fit": null,
            "grid_auto_columns": null,
            "margin": null,
            "display": null,
            "left": null
          }
        },
        "f9b987437fd04f79a802f4caa46b42cd": {
          "model_module": "@jupyter-widgets/controls",
          "model_name": "HTMLModel",
          "model_module_version": "1.5.0",
          "state": {
            "_view_name": "HTMLView",
            "style": "IPY_MODEL_e46ce93f55364997ab188633e2115fed",
            "_dom_classes": [],
            "description": "",
            "_model_name": "HTMLModel",
            "placeholder": "​",
            "_view_module": "@jupyter-widgets/controls",
            "_model_module_version": "1.5.0",
            "value": "Downloading: 100%",
            "_view_count": null,
            "_view_module_version": "1.5.0",
            "description_tooltip": null,
            "_model_module": "@jupyter-widgets/controls",
            "layout": "IPY_MODEL_45d50f9dac4c45cf9824c80a64f77a28"
          }
        },
        "a2d222b324444a73ae5d0993407bffd8": {
          "model_module": "@jupyter-widgets/controls",
          "model_name": "FloatProgressModel",
          "model_module_version": "1.5.0",
          "state": {
            "_view_name": "ProgressView",
            "style": "IPY_MODEL_2693e5c61eac41c0bdc18e983c104071",
            "_dom_classes": [],
            "description": "",
            "_model_name": "FloatProgressModel",
            "bar_style": "success",
            "max": 521,
            "_view_module": "@jupyter-widgets/controls",
            "_model_module_version": "1.5.0",
            "value": 521,
            "_view_count": null,
            "_view_module_version": "1.5.0",
            "orientation": "horizontal",
            "min": 0,
            "description_tooltip": null,
            "_model_module": "@jupyter-widgets/controls",
            "layout": "IPY_MODEL_c0c5b12f63e4436f87d8ce0a139f2842"
          }
        },
        "c02e4ae4f7634e24abdd12cac3500403": {
          "model_module": "@jupyter-widgets/controls",
          "model_name": "HTMLModel",
          "model_module_version": "1.5.0",
          "state": {
            "_view_name": "HTMLView",
            "style": "IPY_MODEL_53d5f65c47df4f5e9ad0a29688a67aa0",
            "_dom_classes": [],
            "description": "",
            "_model_name": "HTMLModel",
            "placeholder": "​",
            "_view_module": "@jupyter-widgets/controls",
            "_model_module_version": "1.5.0",
            "value": " 521/521 [00:00&lt;00:00, 12.9kB/s]",
            "_view_count": null,
            "_view_module_version": "1.5.0",
            "description_tooltip": null,
            "_model_module": "@jupyter-widgets/controls",
            "layout": "IPY_MODEL_6002f68372324eadb091ac4641d1331d"
          }
        },
        "e46ce93f55364997ab188633e2115fed": {
          "model_module": "@jupyter-widgets/controls",
          "model_name": "DescriptionStyleModel",
          "model_module_version": "1.5.0",
          "state": {
            "_view_name": "StyleView",
            "_model_name": "DescriptionStyleModel",
            "description_width": "",
            "_view_module": "@jupyter-widgets/base",
            "_model_module_version": "1.5.0",
            "_view_count": null,
            "_view_module_version": "1.2.0",
            "_model_module": "@jupyter-widgets/controls"
          }
        },
        "45d50f9dac4c45cf9824c80a64f77a28": {
          "model_module": "@jupyter-widgets/base",
          "model_name": "LayoutModel",
          "model_module_version": "1.2.0",
          "state": {
            "_view_name": "LayoutView",
            "grid_template_rows": null,
            "right": null,
            "justify_content": null,
            "_view_module": "@jupyter-widgets/base",
            "overflow": null,
            "_model_module_version": "1.2.0",
            "_view_count": null,
            "flex_flow": null,
            "width": null,
            "min_width": null,
            "border": null,
            "align_items": null,
            "bottom": null,
            "_model_module": "@jupyter-widgets/base",
            "top": null,
            "grid_column": null,
            "overflow_y": null,
            "overflow_x": null,
            "grid_auto_flow": null,
            "grid_area": null,
            "grid_template_columns": null,
            "flex": null,
            "_model_name": "LayoutModel",
            "justify_items": null,
            "grid_row": null,
            "max_height": null,
            "align_content": null,
            "visibility": null,
            "align_self": null,
            "height": null,
            "min_height": null,
            "padding": null,
            "grid_auto_rows": null,
            "grid_gap": null,
            "max_width": null,
            "order": null,
            "_view_module_version": "1.2.0",
            "grid_template_areas": null,
            "object_position": null,
            "object_fit": null,
            "grid_auto_columns": null,
            "margin": null,
            "display": null,
            "left": null
          }
        },
        "2693e5c61eac41c0bdc18e983c104071": {
          "model_module": "@jupyter-widgets/controls",
          "model_name": "ProgressStyleModel",
          "model_module_version": "1.5.0",
          "state": {
            "_view_name": "StyleView",
            "_model_name": "ProgressStyleModel",
            "description_width": "",
            "_view_module": "@jupyter-widgets/base",
            "_model_module_version": "1.5.0",
            "_view_count": null,
            "_view_module_version": "1.2.0",
            "bar_color": null,
            "_model_module": "@jupyter-widgets/controls"
          }
        },
        "c0c5b12f63e4436f87d8ce0a139f2842": {
          "model_module": "@jupyter-widgets/base",
          "model_name": "LayoutModel",
          "model_module_version": "1.2.0",
          "state": {
            "_view_name": "LayoutView",
            "grid_template_rows": null,
            "right": null,
            "justify_content": null,
            "_view_module": "@jupyter-widgets/base",
            "overflow": null,
            "_model_module_version": "1.2.0",
            "_view_count": null,
            "flex_flow": null,
            "width": null,
            "min_width": null,
            "border": null,
            "align_items": null,
            "bottom": null,
            "_model_module": "@jupyter-widgets/base",
            "top": null,
            "grid_column": null,
            "overflow_y": null,
            "overflow_x": null,
            "grid_auto_flow": null,
            "grid_area": null,
            "grid_template_columns": null,
            "flex": null,
            "_model_name": "LayoutModel",
            "justify_items": null,
            "grid_row": null,
            "max_height": null,
            "align_content": null,
            "visibility": null,
            "align_self": null,
            "height": null,
            "min_height": null,
            "padding": null,
            "grid_auto_rows": null,
            "grid_gap": null,
            "max_width": null,
            "order": null,
            "_view_module_version": "1.2.0",
            "grid_template_areas": null,
            "object_position": null,
            "object_fit": null,
            "grid_auto_columns": null,
            "margin": null,
            "display": null,
            "left": null
          }
        },
        "53d5f65c47df4f5e9ad0a29688a67aa0": {
          "model_module": "@jupyter-widgets/controls",
          "model_name": "DescriptionStyleModel",
          "model_module_version": "1.5.0",
          "state": {
            "_view_name": "StyleView",
            "_model_name": "DescriptionStyleModel",
            "description_width": "",
            "_view_module": "@jupyter-widgets/base",
            "_model_module_version": "1.5.0",
            "_view_count": null,
            "_view_module_version": "1.2.0",
            "_model_module": "@jupyter-widgets/controls"
          }
        },
        "6002f68372324eadb091ac4641d1331d": {
          "model_module": "@jupyter-widgets/base",
          "model_name": "LayoutModel",
          "model_module_version": "1.2.0",
          "state": {
            "_view_name": "LayoutView",
            "grid_template_rows": null,
            "right": null,
            "justify_content": null,
            "_view_module": "@jupyter-widgets/base",
            "overflow": null,
            "_model_module_version": "1.2.0",
            "_view_count": null,
            "flex_flow": null,
            "width": null,
            "min_width": null,
            "border": null,
            "align_items": null,
            "bottom": null,
            "_model_module": "@jupyter-widgets/base",
            "top": null,
            "grid_column": null,
            "overflow_y": null,
            "overflow_x": null,
            "grid_auto_flow": null,
            "grid_area": null,
            "grid_template_columns": null,
            "flex": null,
            "_model_name": "LayoutModel",
            "justify_items": null,
            "grid_row": null,
            "max_height": null,
            "align_content": null,
            "visibility": null,
            "align_self": null,
            "height": null,
            "min_height": null,
            "padding": null,
            "grid_auto_rows": null,
            "grid_gap": null,
            "max_width": null,
            "order": null,
            "_view_module_version": "1.2.0",
            "grid_template_areas": null,
            "object_position": null,
            "object_fit": null,
            "grid_auto_columns": null,
            "margin": null,
            "display": null,
            "left": null
          }
        },
        "8d0f199f03064e14b3c7ab74496461c0": {
          "model_module": "@jupyter-widgets/controls",
          "model_name": "HBoxModel",
          "model_module_version": "1.5.0",
          "state": {
            "_view_name": "HBoxView",
            "_dom_classes": [],
            "_model_name": "HBoxModel",
            "_view_module": "@jupyter-widgets/controls",
            "_model_module_version": "1.5.0",
            "_view_count": null,
            "_view_module_version": "1.5.0",
            "box_style": "",
            "layout": "IPY_MODEL_022a4f6a35584cc99a54090614421c27",
            "_model_module": "@jupyter-widgets/controls",
            "children": [
              "IPY_MODEL_6e5a7bf218ba4601b9a390e35791b3da",
              "IPY_MODEL_c13eebf4dcdc425b984b40e07a16e90d",
              "IPY_MODEL_419da9a029464f8daab403e7d02e97a9"
            ]
          }
        },
        "022a4f6a35584cc99a54090614421c27": {
          "model_module": "@jupyter-widgets/base",
          "model_name": "LayoutModel",
          "model_module_version": "1.2.0",
          "state": {
            "_view_name": "LayoutView",
            "grid_template_rows": null,
            "right": null,
            "justify_content": null,
            "_view_module": "@jupyter-widgets/base",
            "overflow": null,
            "_model_module_version": "1.2.0",
            "_view_count": null,
            "flex_flow": null,
            "width": null,
            "min_width": null,
            "border": null,
            "align_items": null,
            "bottom": null,
            "_model_module": "@jupyter-widgets/base",
            "top": null,
            "grid_column": null,
            "overflow_y": null,
            "overflow_x": null,
            "grid_auto_flow": null,
            "grid_area": null,
            "grid_template_columns": null,
            "flex": null,
            "_model_name": "LayoutModel",
            "justify_items": null,
            "grid_row": null,
            "max_height": null,
            "align_content": null,
            "visibility": null,
            "align_self": null,
            "height": null,
            "min_height": null,
            "padding": null,
            "grid_auto_rows": null,
            "grid_gap": null,
            "max_width": null,
            "order": null,
            "_view_module_version": "1.2.0",
            "grid_template_areas": null,
            "object_position": null,
            "object_fit": null,
            "grid_auto_columns": null,
            "margin": null,
            "display": null,
            "left": null
          }
        },
        "6e5a7bf218ba4601b9a390e35791b3da": {
          "model_module": "@jupyter-widgets/controls",
          "model_name": "HTMLModel",
          "model_module_version": "1.5.0",
          "state": {
            "_view_name": "HTMLView",
            "style": "IPY_MODEL_099c6e64fb544575a4c976004bba574f",
            "_dom_classes": [],
            "description": "",
            "_model_name": "HTMLModel",
            "placeholder": "​",
            "_view_module": "@jupyter-widgets/controls",
            "_model_module_version": "1.5.0",
            "value": "Downloading: 100%",
            "_view_count": null,
            "_view_module_version": "1.5.0",
            "description_tooltip": null,
            "_model_module": "@jupyter-widgets/controls",
            "layout": "IPY_MODEL_48925c10fda240c491ac54138cd8ef1b"
          }
        },
        "c13eebf4dcdc425b984b40e07a16e90d": {
          "model_module": "@jupyter-widgets/controls",
          "model_name": "FloatProgressModel",
          "model_module_version": "1.5.0",
          "state": {
            "_view_name": "ProgressView",
            "style": "IPY_MODEL_dcc897dcaabb44b6a0918fa29c7479f8",
            "_dom_classes": [],
            "description": "",
            "_model_name": "FloatProgressModel",
            "bar_style": "success",
            "max": 213450,
            "_view_module": "@jupyter-widgets/controls",
            "_model_module_version": "1.5.0",
            "value": 213450,
            "_view_count": null,
            "_view_module_version": "1.5.0",
            "orientation": "horizontal",
            "min": 0,
            "description_tooltip": null,
            "_model_module": "@jupyter-widgets/controls",
            "layout": "IPY_MODEL_5a7f8c9c4d0542e2a8a70f0c6362ade2"
          }
        },
        "419da9a029464f8daab403e7d02e97a9": {
          "model_module": "@jupyter-widgets/controls",
          "model_name": "HTMLModel",
          "model_module_version": "1.5.0",
          "state": {
            "_view_name": "HTMLView",
            "style": "IPY_MODEL_ce297270215841d5aa89c02af28277ef",
            "_dom_classes": [],
            "description": "",
            "_model_name": "HTMLModel",
            "placeholder": "​",
            "_view_module": "@jupyter-widgets/controls",
            "_model_module_version": "1.5.0",
            "value": " 213k/213k [00:00&lt;00:00, 1.00MB/s]",
            "_view_count": null,
            "_view_module_version": "1.5.0",
            "description_tooltip": null,
            "_model_module": "@jupyter-widgets/controls",
            "layout": "IPY_MODEL_3c99172dbf7d468b9ac4c4668079ca1b"
          }
        },
        "099c6e64fb544575a4c976004bba574f": {
          "model_module": "@jupyter-widgets/controls",
          "model_name": "DescriptionStyleModel",
          "model_module_version": "1.5.0",
          "state": {
            "_view_name": "StyleView",
            "_model_name": "DescriptionStyleModel",
            "description_width": "",
            "_view_module": "@jupyter-widgets/base",
            "_model_module_version": "1.5.0",
            "_view_count": null,
            "_view_module_version": "1.2.0",
            "_model_module": "@jupyter-widgets/controls"
          }
        },
        "48925c10fda240c491ac54138cd8ef1b": {
          "model_module": "@jupyter-widgets/base",
          "model_name": "LayoutModel",
          "model_module_version": "1.2.0",
          "state": {
            "_view_name": "LayoutView",
            "grid_template_rows": null,
            "right": null,
            "justify_content": null,
            "_view_module": "@jupyter-widgets/base",
            "overflow": null,
            "_model_module_version": "1.2.0",
            "_view_count": null,
            "flex_flow": null,
            "width": null,
            "min_width": null,
            "border": null,
            "align_items": null,
            "bottom": null,
            "_model_module": "@jupyter-widgets/base",
            "top": null,
            "grid_column": null,
            "overflow_y": null,
            "overflow_x": null,
            "grid_auto_flow": null,
            "grid_area": null,
            "grid_template_columns": null,
            "flex": null,
            "_model_name": "LayoutModel",
            "justify_items": null,
            "grid_row": null,
            "max_height": null,
            "align_content": null,
            "visibility": null,
            "align_self": null,
            "height": null,
            "min_height": null,
            "padding": null,
            "grid_auto_rows": null,
            "grid_gap": null,
            "max_width": null,
            "order": null,
            "_view_module_version": "1.2.0",
            "grid_template_areas": null,
            "object_position": null,
            "object_fit": null,
            "grid_auto_columns": null,
            "margin": null,
            "display": null,
            "left": null
          }
        },
        "dcc897dcaabb44b6a0918fa29c7479f8": {
          "model_module": "@jupyter-widgets/controls",
          "model_name": "ProgressStyleModel",
          "model_module_version": "1.5.0",
          "state": {
            "_view_name": "StyleView",
            "_model_name": "ProgressStyleModel",
            "description_width": "",
            "_view_module": "@jupyter-widgets/base",
            "_model_module_version": "1.5.0",
            "_view_count": null,
            "_view_module_version": "1.2.0",
            "bar_color": null,
            "_model_module": "@jupyter-widgets/controls"
          }
        },
        "5a7f8c9c4d0542e2a8a70f0c6362ade2": {
          "model_module": "@jupyter-widgets/base",
          "model_name": "LayoutModel",
          "model_module_version": "1.2.0",
          "state": {
            "_view_name": "LayoutView",
            "grid_template_rows": null,
            "right": null,
            "justify_content": null,
            "_view_module": "@jupyter-widgets/base",
            "overflow": null,
            "_model_module_version": "1.2.0",
            "_view_count": null,
            "flex_flow": null,
            "width": null,
            "min_width": null,
            "border": null,
            "align_items": null,
            "bottom": null,
            "_model_module": "@jupyter-widgets/base",
            "top": null,
            "grid_column": null,
            "overflow_y": null,
            "overflow_x": null,
            "grid_auto_flow": null,
            "grid_area": null,
            "grid_template_columns": null,
            "flex": null,
            "_model_name": "LayoutModel",
            "justify_items": null,
            "grid_row": null,
            "max_height": null,
            "align_content": null,
            "visibility": null,
            "align_self": null,
            "height": null,
            "min_height": null,
            "padding": null,
            "grid_auto_rows": null,
            "grid_gap": null,
            "max_width": null,
            "order": null,
            "_view_module_version": "1.2.0",
            "grid_template_areas": null,
            "object_position": null,
            "object_fit": null,
            "grid_auto_columns": null,
            "margin": null,
            "display": null,
            "left": null
          }
        },
        "ce297270215841d5aa89c02af28277ef": {
          "model_module": "@jupyter-widgets/controls",
          "model_name": "DescriptionStyleModel",
          "model_module_version": "1.5.0",
          "state": {
            "_view_name": "StyleView",
            "_model_name": "DescriptionStyleModel",
            "description_width": "",
            "_view_module": "@jupyter-widgets/base",
            "_model_module_version": "1.5.0",
            "_view_count": null,
            "_view_module_version": "1.2.0",
            "_model_module": "@jupyter-widgets/controls"
          }
        },
        "3c99172dbf7d468b9ac4c4668079ca1b": {
          "model_module": "@jupyter-widgets/base",
          "model_name": "LayoutModel",
          "model_module_version": "1.2.0",
          "state": {
            "_view_name": "LayoutView",
            "grid_template_rows": null,
            "right": null,
            "justify_content": null,
            "_view_module": "@jupyter-widgets/base",
            "overflow": null,
            "_model_module_version": "1.2.0",
            "_view_count": null,
            "flex_flow": null,
            "width": null,
            "min_width": null,
            "border": null,
            "align_items": null,
            "bottom": null,
            "_model_module": "@jupyter-widgets/base",
            "top": null,
            "grid_column": null,
            "overflow_y": null,
            "overflow_x": null,
            "grid_auto_flow": null,
            "grid_area": null,
            "grid_template_columns": null,
            "flex": null,
            "_model_name": "LayoutModel",
            "justify_items": null,
            "grid_row": null,
            "max_height": null,
            "align_content": null,
            "visibility": null,
            "align_self": null,
            "height": null,
            "min_height": null,
            "padding": null,
            "grid_auto_rows": null,
            "grid_gap": null,
            "max_width": null,
            "order": null,
            "_view_module_version": "1.2.0",
            "grid_template_areas": null,
            "object_position": null,
            "object_fit": null,
            "grid_auto_columns": null,
            "margin": null,
            "display": null,
            "left": null
          }
        },
        "a369fb3eaf5148eb80ef1e13df7cdcdd": {
          "model_module": "@jupyter-widgets/controls",
          "model_name": "HBoxModel",
          "model_module_version": "1.5.0",
          "state": {
            "_view_name": "HBoxView",
            "_dom_classes": [],
            "_model_name": "HBoxModel",
            "_view_module": "@jupyter-widgets/controls",
            "_model_module_version": "1.5.0",
            "_view_count": null,
            "_view_module_version": "1.5.0",
            "box_style": "",
            "layout": "IPY_MODEL_dc099c7b9fa747538f6fc64bf52aa8ae",
            "_model_module": "@jupyter-widgets/controls",
            "children": [
              "IPY_MODEL_6ecdfd0e1d6e45ecb0c63b1d96404176",
              "IPY_MODEL_776949b507e443a38b64282d83165c25",
              "IPY_MODEL_7a6ac9ff63ba40c79696a1f5bcf395f4"
            ]
          }
        },
        "dc099c7b9fa747538f6fc64bf52aa8ae": {
          "model_module": "@jupyter-widgets/base",
          "model_name": "LayoutModel",
          "model_module_version": "1.2.0",
          "state": {
            "_view_name": "LayoutView",
            "grid_template_rows": null,
            "right": null,
            "justify_content": null,
            "_view_module": "@jupyter-widgets/base",
            "overflow": null,
            "_model_module_version": "1.2.0",
            "_view_count": null,
            "flex_flow": null,
            "width": null,
            "min_width": null,
            "border": null,
            "align_items": null,
            "bottom": null,
            "_model_module": "@jupyter-widgets/base",
            "top": null,
            "grid_column": null,
            "overflow_y": null,
            "overflow_x": null,
            "grid_auto_flow": null,
            "grid_area": null,
            "grid_template_columns": null,
            "flex": null,
            "_model_name": "LayoutModel",
            "justify_items": null,
            "grid_row": null,
            "max_height": null,
            "align_content": null,
            "visibility": null,
            "align_self": null,
            "height": null,
            "min_height": null,
            "padding": null,
            "grid_auto_rows": null,
            "grid_gap": null,
            "max_width": null,
            "order": null,
            "_view_module_version": "1.2.0",
            "grid_template_areas": null,
            "object_position": null,
            "object_fit": null,
            "grid_auto_columns": null,
            "margin": null,
            "display": null,
            "left": null
          }
        },
        "6ecdfd0e1d6e45ecb0c63b1d96404176": {
          "model_module": "@jupyter-widgets/controls",
          "model_name": "HTMLModel",
          "model_module_version": "1.5.0",
          "state": {
            "_view_name": "HTMLView",
            "style": "IPY_MODEL_e5a5f09458b449ac967cfff9fafe6e04",
            "_dom_classes": [],
            "description": "",
            "_model_name": "HTMLModel",
            "placeholder": "​",
            "_view_module": "@jupyter-widgets/controls",
            "_model_module_version": "1.5.0",
            "value": "Downloading: 100%",
            "_view_count": null,
            "_view_module_version": "1.5.0",
            "description_tooltip": null,
            "_model_module": "@jupyter-widgets/controls",
            "layout": "IPY_MODEL_d95b551cd4274cd886dc24d64444b477"
          }
        },
        "776949b507e443a38b64282d83165c25": {
          "model_module": "@jupyter-widgets/controls",
          "model_name": "FloatProgressModel",
          "model_module_version": "1.5.0",
          "state": {
            "_view_name": "ProgressView",
            "style": "IPY_MODEL_a52139b99ea94664a667280b2b391da1",
            "_dom_classes": [],
            "description": "",
            "_model_name": "FloatProgressModel",
            "bar_style": "success",
            "max": 112,
            "_view_module": "@jupyter-widgets/controls",
            "_model_module_version": "1.5.0",
            "value": 112,
            "_view_count": null,
            "_view_module_version": "1.5.0",
            "orientation": "horizontal",
            "min": 0,
            "description_tooltip": null,
            "_model_module": "@jupyter-widgets/controls",
            "layout": "IPY_MODEL_65ebdcf9cf4f4b1d8cbb4950a7e2fded"
          }
        },
        "7a6ac9ff63ba40c79696a1f5bcf395f4": {
          "model_module": "@jupyter-widgets/controls",
          "model_name": "HTMLModel",
          "model_module_version": "1.5.0",
          "state": {
            "_view_name": "HTMLView",
            "style": "IPY_MODEL_98a038d5732846c5885be41c3274882b",
            "_dom_classes": [],
            "description": "",
            "_model_name": "HTMLModel",
            "placeholder": "​",
            "_view_module": "@jupyter-widgets/controls",
            "_model_module_version": "1.5.0",
            "value": " 112/112 [00:00&lt;00:00, 2.91kB/s]",
            "_view_count": null,
            "_view_module_version": "1.5.0",
            "description_tooltip": null,
            "_model_module": "@jupyter-widgets/controls",
            "layout": "IPY_MODEL_2f22d198fda1466eb33057456e70dbaf"
          }
        },
        "e5a5f09458b449ac967cfff9fafe6e04": {
          "model_module": "@jupyter-widgets/controls",
          "model_name": "DescriptionStyleModel",
          "model_module_version": "1.5.0",
          "state": {
            "_view_name": "StyleView",
            "_model_name": "DescriptionStyleModel",
            "description_width": "",
            "_view_module": "@jupyter-widgets/base",
            "_model_module_version": "1.5.0",
            "_view_count": null,
            "_view_module_version": "1.2.0",
            "_model_module": "@jupyter-widgets/controls"
          }
        },
        "d95b551cd4274cd886dc24d64444b477": {
          "model_module": "@jupyter-widgets/base",
          "model_name": "LayoutModel",
          "model_module_version": "1.2.0",
          "state": {
            "_view_name": "LayoutView",
            "grid_template_rows": null,
            "right": null,
            "justify_content": null,
            "_view_module": "@jupyter-widgets/base",
            "overflow": null,
            "_model_module_version": "1.2.0",
            "_view_count": null,
            "flex_flow": null,
            "width": null,
            "min_width": null,
            "border": null,
            "align_items": null,
            "bottom": null,
            "_model_module": "@jupyter-widgets/base",
            "top": null,
            "grid_column": null,
            "overflow_y": null,
            "overflow_x": null,
            "grid_auto_flow": null,
            "grid_area": null,
            "grid_template_columns": null,
            "flex": null,
            "_model_name": "LayoutModel",
            "justify_items": null,
            "grid_row": null,
            "max_height": null,
            "align_content": null,
            "visibility": null,
            "align_self": null,
            "height": null,
            "min_height": null,
            "padding": null,
            "grid_auto_rows": null,
            "grid_gap": null,
            "max_width": null,
            "order": null,
            "_view_module_version": "1.2.0",
            "grid_template_areas": null,
            "object_position": null,
            "object_fit": null,
            "grid_auto_columns": null,
            "margin": null,
            "display": null,
            "left": null
          }
        },
        "a52139b99ea94664a667280b2b391da1": {
          "model_module": "@jupyter-widgets/controls",
          "model_name": "ProgressStyleModel",
          "model_module_version": "1.5.0",
          "state": {
            "_view_name": "StyleView",
            "_model_name": "ProgressStyleModel",
            "description_width": "",
            "_view_module": "@jupyter-widgets/base",
            "_model_module_version": "1.5.0",
            "_view_count": null,
            "_view_module_version": "1.2.0",
            "bar_color": null,
            "_model_module": "@jupyter-widgets/controls"
          }
        },
        "65ebdcf9cf4f4b1d8cbb4950a7e2fded": {
          "model_module": "@jupyter-widgets/base",
          "model_name": "LayoutModel",
          "model_module_version": "1.2.0",
          "state": {
            "_view_name": "LayoutView",
            "grid_template_rows": null,
            "right": null,
            "justify_content": null,
            "_view_module": "@jupyter-widgets/base",
            "overflow": null,
            "_model_module_version": "1.2.0",
            "_view_count": null,
            "flex_flow": null,
            "width": null,
            "min_width": null,
            "border": null,
            "align_items": null,
            "bottom": null,
            "_model_module": "@jupyter-widgets/base",
            "top": null,
            "grid_column": null,
            "overflow_y": null,
            "overflow_x": null,
            "grid_auto_flow": null,
            "grid_area": null,
            "grid_template_columns": null,
            "flex": null,
            "_model_name": "LayoutModel",
            "justify_items": null,
            "grid_row": null,
            "max_height": null,
            "align_content": null,
            "visibility": null,
            "align_self": null,
            "height": null,
            "min_height": null,
            "padding": null,
            "grid_auto_rows": null,
            "grid_gap": null,
            "max_width": null,
            "order": null,
            "_view_module_version": "1.2.0",
            "grid_template_areas": null,
            "object_position": null,
            "object_fit": null,
            "grid_auto_columns": null,
            "margin": null,
            "display": null,
            "left": null
          }
        },
        "98a038d5732846c5885be41c3274882b": {
          "model_module": "@jupyter-widgets/controls",
          "model_name": "DescriptionStyleModel",
          "model_module_version": "1.5.0",
          "state": {
            "_view_name": "StyleView",
            "_model_name": "DescriptionStyleModel",
            "description_width": "",
            "_view_module": "@jupyter-widgets/base",
            "_model_module_version": "1.5.0",
            "_view_count": null,
            "_view_module_version": "1.2.0",
            "_model_module": "@jupyter-widgets/controls"
          }
        },
        "2f22d198fda1466eb33057456e70dbaf": {
          "model_module": "@jupyter-widgets/base",
          "model_name": "LayoutModel",
          "model_module_version": "1.2.0",
          "state": {
            "_view_name": "LayoutView",
            "grid_template_rows": null,
            "right": null,
            "justify_content": null,
            "_view_module": "@jupyter-widgets/base",
            "overflow": null,
            "_model_module_version": "1.2.0",
            "_view_count": null,
            "flex_flow": null,
            "width": null,
            "min_width": null,
            "border": null,
            "align_items": null,
            "bottom": null,
            "_model_module": "@jupyter-widgets/base",
            "top": null,
            "grid_column": null,
            "overflow_y": null,
            "overflow_x": null,
            "grid_auto_flow": null,
            "grid_area": null,
            "grid_template_columns": null,
            "flex": null,
            "_model_name": "LayoutModel",
            "justify_items": null,
            "grid_row": null,
            "max_height": null,
            "align_content": null,
            "visibility": null,
            "align_self": null,
            "height": null,
            "min_height": null,
            "padding": null,
            "grid_auto_rows": null,
            "grid_gap": null,
            "max_width": null,
            "order": null,
            "_view_module_version": "1.2.0",
            "grid_template_areas": null,
            "object_position": null,
            "object_fit": null,
            "grid_auto_columns": null,
            "margin": null,
            "display": null,
            "left": null
          }
        },
        "ae0cdcaf853f47c0812911f27a401176": {
          "model_module": "@jupyter-widgets/controls",
          "model_name": "HBoxModel",
          "model_module_version": "1.5.0",
          "state": {
            "_view_name": "HBoxView",
            "_dom_classes": [],
            "_model_name": "HBoxModel",
            "_view_module": "@jupyter-widgets/controls",
            "_model_module_version": "1.5.0",
            "_view_count": null,
            "_view_module_version": "1.5.0",
            "box_style": "",
            "layout": "IPY_MODEL_35e668f69dcb4e0fb0865758fb00d138",
            "_model_module": "@jupyter-widgets/controls",
            "children": [
              "IPY_MODEL_970c961cd695433ba416799bc5fbaead",
              "IPY_MODEL_44d7370f050945e580830b9182265172",
              "IPY_MODEL_b92aaa5613674def9fa9d67bbeb27b7d"
            ]
          }
        },
        "35e668f69dcb4e0fb0865758fb00d138": {
          "model_module": "@jupyter-widgets/base",
          "model_name": "LayoutModel",
          "model_module_version": "1.2.0",
          "state": {
            "_view_name": "LayoutView",
            "grid_template_rows": null,
            "right": null,
            "justify_content": null,
            "_view_module": "@jupyter-widgets/base",
            "overflow": null,
            "_model_module_version": "1.2.0",
            "_view_count": null,
            "flex_flow": null,
            "width": null,
            "min_width": null,
            "border": null,
            "align_items": null,
            "bottom": null,
            "_model_module": "@jupyter-widgets/base",
            "top": null,
            "grid_column": null,
            "overflow_y": null,
            "overflow_x": null,
            "grid_auto_flow": null,
            "grid_area": null,
            "grid_template_columns": null,
            "flex": null,
            "_model_name": "LayoutModel",
            "justify_items": null,
            "grid_row": null,
            "max_height": null,
            "align_content": null,
            "visibility": null,
            "align_self": null,
            "height": null,
            "min_height": null,
            "padding": null,
            "grid_auto_rows": null,
            "grid_gap": null,
            "max_width": null,
            "order": null,
            "_view_module_version": "1.2.0",
            "grid_template_areas": null,
            "object_position": null,
            "object_fit": null,
            "grid_auto_columns": null,
            "margin": null,
            "display": null,
            "left": null
          }
        },
        "970c961cd695433ba416799bc5fbaead": {
          "model_module": "@jupyter-widgets/controls",
          "model_name": "HTMLModel",
          "model_module_version": "1.5.0",
          "state": {
            "_view_name": "HTMLView",
            "style": "IPY_MODEL_bcb0e8cacab84061b1001115da2f2895",
            "_dom_classes": [],
            "description": "",
            "_model_name": "HTMLModel",
            "placeholder": "​",
            "_view_module": "@jupyter-widgets/controls",
            "_model_module_version": "1.5.0",
            "value": "Downloading: 100%",
            "_view_count": null,
            "_view_module_version": "1.5.0",
            "description_tooltip": null,
            "_model_module": "@jupyter-widgets/controls",
            "layout": "IPY_MODEL_a4b4a3194df64c1fb7e1c65e362adc68"
          }
        },
        "44d7370f050945e580830b9182265172": {
          "model_module": "@jupyter-widgets/controls",
          "model_name": "FloatProgressModel",
          "model_module_version": "1.5.0",
          "state": {
            "_view_name": "ProgressView",
            "style": "IPY_MODEL_46ce4577dafe45a4ab316455b5783cff",
            "_dom_classes": [],
            "description": "",
            "_model_name": "FloatProgressModel",
            "bar_style": "success",
            "max": 252,
            "_view_module": "@jupyter-widgets/controls",
            "_model_module_version": "1.5.0",
            "value": 252,
            "_view_count": null,
            "_view_module_version": "1.5.0",
            "orientation": "horizontal",
            "min": 0,
            "description_tooltip": null,
            "_model_module": "@jupyter-widgets/controls",
            "layout": "IPY_MODEL_0816a1c0d64149e1aad9f6a3c11596a4"
          }
        },
        "b92aaa5613674def9fa9d67bbeb27b7d": {
          "model_module": "@jupyter-widgets/controls",
          "model_name": "HTMLModel",
          "model_module_version": "1.5.0",
          "state": {
            "_view_name": "HTMLView",
            "style": "IPY_MODEL_57a8eee4aa3546cd8b71c52c2c149a2c",
            "_dom_classes": [],
            "description": "",
            "_model_name": "HTMLModel",
            "placeholder": "​",
            "_view_module": "@jupyter-widgets/controls",
            "_model_module_version": "1.5.0",
            "value": " 252/252 [00:00&lt;00:00, 6.41kB/s]",
            "_view_count": null,
            "_view_module_version": "1.5.0",
            "description_tooltip": null,
            "_model_module": "@jupyter-widgets/controls",
            "layout": "IPY_MODEL_abc11d6afcd743179a9fa868c244c671"
          }
        },
        "bcb0e8cacab84061b1001115da2f2895": {
          "model_module": "@jupyter-widgets/controls",
          "model_name": "DescriptionStyleModel",
          "model_module_version": "1.5.0",
          "state": {
            "_view_name": "StyleView",
            "_model_name": "DescriptionStyleModel",
            "description_width": "",
            "_view_module": "@jupyter-widgets/base",
            "_model_module_version": "1.5.0",
            "_view_count": null,
            "_view_module_version": "1.2.0",
            "_model_module": "@jupyter-widgets/controls"
          }
        },
        "a4b4a3194df64c1fb7e1c65e362adc68": {
          "model_module": "@jupyter-widgets/base",
          "model_name": "LayoutModel",
          "model_module_version": "1.2.0",
          "state": {
            "_view_name": "LayoutView",
            "grid_template_rows": null,
            "right": null,
            "justify_content": null,
            "_view_module": "@jupyter-widgets/base",
            "overflow": null,
            "_model_module_version": "1.2.0",
            "_view_count": null,
            "flex_flow": null,
            "width": null,
            "min_width": null,
            "border": null,
            "align_items": null,
            "bottom": null,
            "_model_module": "@jupyter-widgets/base",
            "top": null,
            "grid_column": null,
            "overflow_y": null,
            "overflow_x": null,
            "grid_auto_flow": null,
            "grid_area": null,
            "grid_template_columns": null,
            "flex": null,
            "_model_name": "LayoutModel",
            "justify_items": null,
            "grid_row": null,
            "max_height": null,
            "align_content": null,
            "visibility": null,
            "align_self": null,
            "height": null,
            "min_height": null,
            "padding": null,
            "grid_auto_rows": null,
            "grid_gap": null,
            "max_width": null,
            "order": null,
            "_view_module_version": "1.2.0",
            "grid_template_areas": null,
            "object_position": null,
            "object_fit": null,
            "grid_auto_columns": null,
            "margin": null,
            "display": null,
            "left": null
          }
        },
        "46ce4577dafe45a4ab316455b5783cff": {
          "model_module": "@jupyter-widgets/controls",
          "model_name": "ProgressStyleModel",
          "model_module_version": "1.5.0",
          "state": {
            "_view_name": "StyleView",
            "_model_name": "ProgressStyleModel",
            "description_width": "",
            "_view_module": "@jupyter-widgets/base",
            "_model_module_version": "1.5.0",
            "_view_count": null,
            "_view_module_version": "1.2.0",
            "bar_color": null,
            "_model_module": "@jupyter-widgets/controls"
          }
        },
        "0816a1c0d64149e1aad9f6a3c11596a4": {
          "model_module": "@jupyter-widgets/base",
          "model_name": "LayoutModel",
          "model_module_version": "1.2.0",
          "state": {
            "_view_name": "LayoutView",
            "grid_template_rows": null,
            "right": null,
            "justify_content": null,
            "_view_module": "@jupyter-widgets/base",
            "overflow": null,
            "_model_module_version": "1.2.0",
            "_view_count": null,
            "flex_flow": null,
            "width": null,
            "min_width": null,
            "border": null,
            "align_items": null,
            "bottom": null,
            "_model_module": "@jupyter-widgets/base",
            "top": null,
            "grid_column": null,
            "overflow_y": null,
            "overflow_x": null,
            "grid_auto_flow": null,
            "grid_area": null,
            "grid_template_columns": null,
            "flex": null,
            "_model_name": "LayoutModel",
            "justify_items": null,
            "grid_row": null,
            "max_height": null,
            "align_content": null,
            "visibility": null,
            "align_self": null,
            "height": null,
            "min_height": null,
            "padding": null,
            "grid_auto_rows": null,
            "grid_gap": null,
            "max_width": null,
            "order": null,
            "_view_module_version": "1.2.0",
            "grid_template_areas": null,
            "object_position": null,
            "object_fit": null,
            "grid_auto_columns": null,
            "margin": null,
            "display": null,
            "left": null
          }
        },
        "57a8eee4aa3546cd8b71c52c2c149a2c": {
          "model_module": "@jupyter-widgets/controls",
          "model_name": "DescriptionStyleModel",
          "model_module_version": "1.5.0",
          "state": {
            "_view_name": "StyleView",
            "_model_name": "DescriptionStyleModel",
            "description_width": "",
            "_view_module": "@jupyter-widgets/base",
            "_model_module_version": "1.5.0",
            "_view_count": null,
            "_view_module_version": "1.2.0",
            "_model_module": "@jupyter-widgets/controls"
          }
        },
        "abc11d6afcd743179a9fa868c244c671": {
          "model_module": "@jupyter-widgets/base",
          "model_name": "LayoutModel",
          "model_module_version": "1.2.0",
          "state": {
            "_view_name": "LayoutView",
            "grid_template_rows": null,
            "right": null,
            "justify_content": null,
            "_view_module": "@jupyter-widgets/base",
            "overflow": null,
            "_model_module_version": "1.2.0",
            "_view_count": null,
            "flex_flow": null,
            "width": null,
            "min_width": null,
            "border": null,
            "align_items": null,
            "bottom": null,
            "_model_module": "@jupyter-widgets/base",
            "top": null,
            "grid_column": null,
            "overflow_y": null,
            "overflow_x": null,
            "grid_auto_flow": null,
            "grid_area": null,
            "grid_template_columns": null,
            "flex": null,
            "_model_name": "LayoutModel",
            "justify_items": null,
            "grid_row": null,
            "max_height": null,
            "align_content": null,
            "visibility": null,
            "align_self": null,
            "height": null,
            "min_height": null,
            "padding": null,
            "grid_auto_rows": null,
            "grid_gap": null,
            "max_width": null,
            "order": null,
            "_view_module_version": "1.2.0",
            "grid_template_areas": null,
            "object_position": null,
            "object_fit": null,
            "grid_auto_columns": null,
            "margin": null,
            "display": null,
            "left": null
          }
        },
        "e09346be931d4c5dbf43cfd9efb1ee79": {
          "model_module": "@jupyter-widgets/controls",
          "model_name": "HBoxModel",
          "model_module_version": "1.5.0",
          "state": {
            "_view_name": "HBoxView",
            "_dom_classes": [],
            "_model_name": "HBoxModel",
            "_view_module": "@jupyter-widgets/controls",
            "_model_module_version": "1.5.0",
            "_view_count": null,
            "_view_module_version": "1.5.0",
            "box_style": "",
            "layout": "IPY_MODEL_aef1109d1b3e4f0c92b9446765c4a9ff",
            "_model_module": "@jupyter-widgets/controls",
            "children": [
              "IPY_MODEL_12785e20151848118c7760d5fbc0e3ea",
              "IPY_MODEL_f9372702f8fb4977b1152b6432d90f23",
              "IPY_MODEL_7d63164f945749ee86e33264722af734"
            ]
          }
        },
        "aef1109d1b3e4f0c92b9446765c4a9ff": {
          "model_module": "@jupyter-widgets/base",
          "model_name": "LayoutModel",
          "model_module_version": "1.2.0",
          "state": {
            "_view_name": "LayoutView",
            "grid_template_rows": null,
            "right": null,
            "justify_content": null,
            "_view_module": "@jupyter-widgets/base",
            "overflow": null,
            "_model_module_version": "1.2.0",
            "_view_count": null,
            "flex_flow": null,
            "width": null,
            "min_width": null,
            "border": null,
            "align_items": null,
            "bottom": null,
            "_model_module": "@jupyter-widgets/base",
            "top": null,
            "grid_column": null,
            "overflow_y": null,
            "overflow_x": null,
            "grid_auto_flow": null,
            "grid_area": null,
            "grid_template_columns": null,
            "flex": null,
            "_model_name": "LayoutModel",
            "justify_items": null,
            "grid_row": null,
            "max_height": null,
            "align_content": null,
            "visibility": null,
            "align_self": null,
            "height": null,
            "min_height": null,
            "padding": null,
            "grid_auto_rows": null,
            "grid_gap": null,
            "max_width": null,
            "order": null,
            "_view_module_version": "1.2.0",
            "grid_template_areas": null,
            "object_position": null,
            "object_fit": null,
            "grid_auto_columns": null,
            "margin": null,
            "display": null,
            "left": null
          }
        },
        "12785e20151848118c7760d5fbc0e3ea": {
          "model_module": "@jupyter-widgets/controls",
          "model_name": "HTMLModel",
          "model_module_version": "1.5.0",
          "state": {
            "_view_name": "HTMLView",
            "style": "IPY_MODEL_6484ada8fc424650bcb3a7c2d6f16d31",
            "_dom_classes": [],
            "description": "",
            "_model_name": "HTMLModel",
            "placeholder": "​",
            "_view_module": "@jupyter-widgets/controls",
            "_model_module_version": "1.5.0",
            "value": "Downloading: 100%",
            "_view_count": null,
            "_view_module_version": "1.5.0",
            "description_tooltip": null,
            "_model_module": "@jupyter-widgets/controls",
            "layout": "IPY_MODEL_490ebfc990f4449d94c5600b5559ef43"
          }
        },
        "f9372702f8fb4977b1152b6432d90f23": {
          "model_module": "@jupyter-widgets/controls",
          "model_name": "FloatProgressModel",
          "model_module_version": "1.5.0",
          "state": {
            "_view_name": "ProgressView",
            "style": "IPY_MODEL_3ba183e1fb5e49aeb3850fcaa2415db0",
            "_dom_classes": [],
            "description": "",
            "_model_name": "FloatProgressModel",
            "bar_style": "success",
            "max": 1334406708,
            "_view_module": "@jupyter-widgets/controls",
            "_model_module_version": "1.5.0",
            "value": 1334406708,
            "_view_count": null,
            "_view_module_version": "1.5.0",
            "orientation": "horizontal",
            "min": 0,
            "description_tooltip": null,
            "_model_module": "@jupyter-widgets/controls",
            "layout": "IPY_MODEL_41fed5ac76724443aeebf0805f5a7083"
          }
        },
        "7d63164f945749ee86e33264722af734": {
          "model_module": "@jupyter-widgets/controls",
          "model_name": "HTMLModel",
          "model_module_version": "1.5.0",
          "state": {
            "_view_name": "HTMLView",
            "style": "IPY_MODEL_db44a2b1ccea4639b44ffc4f8d2fbd21",
            "_dom_classes": [],
            "description": "",
            "_model_name": "HTMLModel",
            "placeholder": "​",
            "_view_module": "@jupyter-widgets/controls",
            "_model_module_version": "1.5.0",
            "value": " 1.33G/1.33G [00:43&lt;00:00, 32.5MB/s]",
            "_view_count": null,
            "_view_module_version": "1.5.0",
            "description_tooltip": null,
            "_model_module": "@jupyter-widgets/controls",
            "layout": "IPY_MODEL_543171da10724f598d0221683f13e4d2"
          }
        },
        "6484ada8fc424650bcb3a7c2d6f16d31": {
          "model_module": "@jupyter-widgets/controls",
          "model_name": "DescriptionStyleModel",
          "model_module_version": "1.5.0",
          "state": {
            "_view_name": "StyleView",
            "_model_name": "DescriptionStyleModel",
            "description_width": "",
            "_view_module": "@jupyter-widgets/base",
            "_model_module_version": "1.5.0",
            "_view_count": null,
            "_view_module_version": "1.2.0",
            "_model_module": "@jupyter-widgets/controls"
          }
        },
        "490ebfc990f4449d94c5600b5559ef43": {
          "model_module": "@jupyter-widgets/base",
          "model_name": "LayoutModel",
          "model_module_version": "1.2.0",
          "state": {
            "_view_name": "LayoutView",
            "grid_template_rows": null,
            "right": null,
            "justify_content": null,
            "_view_module": "@jupyter-widgets/base",
            "overflow": null,
            "_model_module_version": "1.2.0",
            "_view_count": null,
            "flex_flow": null,
            "width": null,
            "min_width": null,
            "border": null,
            "align_items": null,
            "bottom": null,
            "_model_module": "@jupyter-widgets/base",
            "top": null,
            "grid_column": null,
            "overflow_y": null,
            "overflow_x": null,
            "grid_auto_flow": null,
            "grid_area": null,
            "grid_template_columns": null,
            "flex": null,
            "_model_name": "LayoutModel",
            "justify_items": null,
            "grid_row": null,
            "max_height": null,
            "align_content": null,
            "visibility": null,
            "align_self": null,
            "height": null,
            "min_height": null,
            "padding": null,
            "grid_auto_rows": null,
            "grid_gap": null,
            "max_width": null,
            "order": null,
            "_view_module_version": "1.2.0",
            "grid_template_areas": null,
            "object_position": null,
            "object_fit": null,
            "grid_auto_columns": null,
            "margin": null,
            "display": null,
            "left": null
          }
        },
        "3ba183e1fb5e49aeb3850fcaa2415db0": {
          "model_module": "@jupyter-widgets/controls",
          "model_name": "ProgressStyleModel",
          "model_module_version": "1.5.0",
          "state": {
            "_view_name": "StyleView",
            "_model_name": "ProgressStyleModel",
            "description_width": "",
            "_view_module": "@jupyter-widgets/base",
            "_model_module_version": "1.5.0",
            "_view_count": null,
            "_view_module_version": "1.2.0",
            "bar_color": null,
            "_model_module": "@jupyter-widgets/controls"
          }
        },
        "41fed5ac76724443aeebf0805f5a7083": {
          "model_module": "@jupyter-widgets/base",
          "model_name": "LayoutModel",
          "model_module_version": "1.2.0",
          "state": {
            "_view_name": "LayoutView",
            "grid_template_rows": null,
            "right": null,
            "justify_content": null,
            "_view_module": "@jupyter-widgets/base",
            "overflow": null,
            "_model_module_version": "1.2.0",
            "_view_count": null,
            "flex_flow": null,
            "width": null,
            "min_width": null,
            "border": null,
            "align_items": null,
            "bottom": null,
            "_model_module": "@jupyter-widgets/base",
            "top": null,
            "grid_column": null,
            "overflow_y": null,
            "overflow_x": null,
            "grid_auto_flow": null,
            "grid_area": null,
            "grid_template_columns": null,
            "flex": null,
            "_model_name": "LayoutModel",
            "justify_items": null,
            "grid_row": null,
            "max_height": null,
            "align_content": null,
            "visibility": null,
            "align_self": null,
            "height": null,
            "min_height": null,
            "padding": null,
            "grid_auto_rows": null,
            "grid_gap": null,
            "max_width": null,
            "order": null,
            "_view_module_version": "1.2.0",
            "grid_template_areas": null,
            "object_position": null,
            "object_fit": null,
            "grid_auto_columns": null,
            "margin": null,
            "display": null,
            "left": null
          }
        },
        "db44a2b1ccea4639b44ffc4f8d2fbd21": {
          "model_module": "@jupyter-widgets/controls",
          "model_name": "DescriptionStyleModel",
          "model_module_version": "1.5.0",
          "state": {
            "_view_name": "StyleView",
            "_model_name": "DescriptionStyleModel",
            "description_width": "",
            "_view_module": "@jupyter-widgets/base",
            "_model_module_version": "1.5.0",
            "_view_count": null,
            "_view_module_version": "1.2.0",
            "_model_module": "@jupyter-widgets/controls"
          }
        },
        "543171da10724f598d0221683f13e4d2": {
          "model_module": "@jupyter-widgets/base",
          "model_name": "LayoutModel",
          "model_module_version": "1.2.0",
          "state": {
            "_view_name": "LayoutView",
            "grid_template_rows": null,
            "right": null,
            "justify_content": null,
            "_view_module": "@jupyter-widgets/base",
            "overflow": null,
            "_model_module_version": "1.2.0",
            "_view_count": null,
            "flex_flow": null,
            "width": null,
            "min_width": null,
            "border": null,
            "align_items": null,
            "bottom": null,
            "_model_module": "@jupyter-widgets/base",
            "top": null,
            "grid_column": null,
            "overflow_y": null,
            "overflow_x": null,
            "grid_auto_flow": null,
            "grid_area": null,
            "grid_template_columns": null,
            "flex": null,
            "_model_name": "LayoutModel",
            "justify_items": null,
            "grid_row": null,
            "max_height": null,
            "align_content": null,
            "visibility": null,
            "align_self": null,
            "height": null,
            "min_height": null,
            "padding": null,
            "grid_auto_rows": null,
            "grid_gap": null,
            "max_width": null,
            "order": null,
            "_view_module_version": "1.2.0",
            "grid_template_areas": null,
            "object_position": null,
            "object_fit": null,
            "grid_auto_columns": null,
            "margin": null,
            "display": null,
            "left": null
          }
        },
        "1c18ca5ca40344dd8677d64c2e47d253": {
          "model_module": "@jupyter-widgets/controls",
          "model_name": "HBoxModel",
          "model_module_version": "1.5.0",
          "state": {
            "_view_name": "HBoxView",
            "_dom_classes": [],
            "_model_name": "HBoxModel",
            "_view_module": "@jupyter-widgets/controls",
            "_model_module_version": "1.5.0",
            "_view_count": null,
            "_view_module_version": "1.5.0",
            "box_style": "",
            "layout": "IPY_MODEL_00e42c3c739b416083ae2149ba032a71",
            "_model_module": "@jupyter-widgets/controls",
            "children": [
              "IPY_MODEL_264428a03a364ba082b1f3b10344ef67",
              "IPY_MODEL_360485de7a9e4713b15fc09cdbb58951",
              "IPY_MODEL_6529459ffd034937b0f58f88e5804194"
            ]
          }
        },
        "00e42c3c739b416083ae2149ba032a71": {
          "model_module": "@jupyter-widgets/base",
          "model_name": "LayoutModel",
          "model_module_version": "1.2.0",
          "state": {
            "_view_name": "LayoutView",
            "grid_template_rows": null,
            "right": null,
            "justify_content": null,
            "_view_module": "@jupyter-widgets/base",
            "overflow": null,
            "_model_module_version": "1.2.0",
            "_view_count": null,
            "flex_flow": null,
            "width": null,
            "min_width": null,
            "border": null,
            "align_items": null,
            "bottom": null,
            "_model_module": "@jupyter-widgets/base",
            "top": null,
            "grid_column": null,
            "overflow_y": null,
            "overflow_x": null,
            "grid_auto_flow": null,
            "grid_area": null,
            "grid_template_columns": null,
            "flex": null,
            "_model_name": "LayoutModel",
            "justify_items": null,
            "grid_row": null,
            "max_height": null,
            "align_content": null,
            "visibility": null,
            "align_self": null,
            "height": null,
            "min_height": null,
            "padding": null,
            "grid_auto_rows": null,
            "grid_gap": null,
            "max_width": null,
            "order": null,
            "_view_module_version": "1.2.0",
            "grid_template_areas": null,
            "object_position": null,
            "object_fit": null,
            "grid_auto_columns": null,
            "margin": null,
            "display": null,
            "left": null
          }
        },
        "264428a03a364ba082b1f3b10344ef67": {
          "model_module": "@jupyter-widgets/controls",
          "model_name": "HTMLModel",
          "model_module_version": "1.5.0",
          "state": {
            "_view_name": "HTMLView",
            "style": "IPY_MODEL_95867a6b34014dd0981a37cbc09a0095",
            "_dom_classes": [],
            "description": "",
            "_model_name": "HTMLModel",
            "placeholder": "​",
            "_view_module": "@jupyter-widgets/controls",
            "_model_module_version": "1.5.0",
            "value": "Downloading: 100%",
            "_view_count": null,
            "_view_module_version": "1.5.0",
            "description_tooltip": null,
            "_model_module": "@jupyter-widgets/controls",
            "layout": "IPY_MODEL_7665e26d22ef4b60bbf7ee1e167aa253"
          }
        },
        "360485de7a9e4713b15fc09cdbb58951": {
          "model_module": "@jupyter-widgets/controls",
          "model_name": "FloatProgressModel",
          "model_module_version": "1.5.0",
          "state": {
            "_view_name": "ProgressView",
            "style": "IPY_MODEL_c04d9be00cb74173ad319417ffd02f7e",
            "_dom_classes": [],
            "description": "",
            "_model_name": "FloatProgressModel",
            "bar_style": "success",
            "max": 414,
            "_view_module": "@jupyter-widgets/controls",
            "_model_module_version": "1.5.0",
            "value": 414,
            "_view_count": null,
            "_view_module_version": "1.5.0",
            "orientation": "horizontal",
            "min": 0,
            "description_tooltip": null,
            "_model_module": "@jupyter-widgets/controls",
            "layout": "IPY_MODEL_c0ec6c8dfb384ff78d1d9dfcd874f012"
          }
        },
        "6529459ffd034937b0f58f88e5804194": {
          "model_module": "@jupyter-widgets/controls",
          "model_name": "HTMLModel",
          "model_module_version": "1.5.0",
          "state": {
            "_view_name": "HTMLView",
            "style": "IPY_MODEL_e33671833990414aa164c05a104c2363",
            "_dom_classes": [],
            "description": "",
            "_model_name": "HTMLModel",
            "placeholder": "​",
            "_view_module": "@jupyter-widgets/controls",
            "_model_module_version": "1.5.0",
            "value": " 414/414 [00:00&lt;00:00, 5.73kB/s]",
            "_view_count": null,
            "_view_module_version": "1.5.0",
            "description_tooltip": null,
            "_model_module": "@jupyter-widgets/controls",
            "layout": "IPY_MODEL_839a5e6f144b470c92f12e0d503ab816"
          }
        },
        "95867a6b34014dd0981a37cbc09a0095": {
          "model_module": "@jupyter-widgets/controls",
          "model_name": "DescriptionStyleModel",
          "model_module_version": "1.5.0",
          "state": {
            "_view_name": "StyleView",
            "_model_name": "DescriptionStyleModel",
            "description_width": "",
            "_view_module": "@jupyter-widgets/base",
            "_model_module_version": "1.5.0",
            "_view_count": null,
            "_view_module_version": "1.2.0",
            "_model_module": "@jupyter-widgets/controls"
          }
        },
        "7665e26d22ef4b60bbf7ee1e167aa253": {
          "model_module": "@jupyter-widgets/base",
          "model_name": "LayoutModel",
          "model_module_version": "1.2.0",
          "state": {
            "_view_name": "LayoutView",
            "grid_template_rows": null,
            "right": null,
            "justify_content": null,
            "_view_module": "@jupyter-widgets/base",
            "overflow": null,
            "_model_module_version": "1.2.0",
            "_view_count": null,
            "flex_flow": null,
            "width": null,
            "min_width": null,
            "border": null,
            "align_items": null,
            "bottom": null,
            "_model_module": "@jupyter-widgets/base",
            "top": null,
            "grid_column": null,
            "overflow_y": null,
            "overflow_x": null,
            "grid_auto_flow": null,
            "grid_area": null,
            "grid_template_columns": null,
            "flex": null,
            "_model_name": "LayoutModel",
            "justify_items": null,
            "grid_row": null,
            "max_height": null,
            "align_content": null,
            "visibility": null,
            "align_self": null,
            "height": null,
            "min_height": null,
            "padding": null,
            "grid_auto_rows": null,
            "grid_gap": null,
            "max_width": null,
            "order": null,
            "_view_module_version": "1.2.0",
            "grid_template_areas": null,
            "object_position": null,
            "object_fit": null,
            "grid_auto_columns": null,
            "margin": null,
            "display": null,
            "left": null
          }
        },
        "c04d9be00cb74173ad319417ffd02f7e": {
          "model_module": "@jupyter-widgets/controls",
          "model_name": "ProgressStyleModel",
          "model_module_version": "1.5.0",
          "state": {
            "_view_name": "StyleView",
            "_model_name": "ProgressStyleModel",
            "description_width": "",
            "_view_module": "@jupyter-widgets/base",
            "_model_module_version": "1.5.0",
            "_view_count": null,
            "_view_module_version": "1.2.0",
            "bar_color": null,
            "_model_module": "@jupyter-widgets/controls"
          }
        },
        "c0ec6c8dfb384ff78d1d9dfcd874f012": {
          "model_module": "@jupyter-widgets/base",
          "model_name": "LayoutModel",
          "model_module_version": "1.2.0",
          "state": {
            "_view_name": "LayoutView",
            "grid_template_rows": null,
            "right": null,
            "justify_content": null,
            "_view_module": "@jupyter-widgets/base",
            "overflow": null,
            "_model_module_version": "1.2.0",
            "_view_count": null,
            "flex_flow": null,
            "width": null,
            "min_width": null,
            "border": null,
            "align_items": null,
            "bottom": null,
            "_model_module": "@jupyter-widgets/base",
            "top": null,
            "grid_column": null,
            "overflow_y": null,
            "overflow_x": null,
            "grid_auto_flow": null,
            "grid_area": null,
            "grid_template_columns": null,
            "flex": null,
            "_model_name": "LayoutModel",
            "justify_items": null,
            "grid_row": null,
            "max_height": null,
            "align_content": null,
            "visibility": null,
            "align_self": null,
            "height": null,
            "min_height": null,
            "padding": null,
            "grid_auto_rows": null,
            "grid_gap": null,
            "max_width": null,
            "order": null,
            "_view_module_version": "1.2.0",
            "grid_template_areas": null,
            "object_position": null,
            "object_fit": null,
            "grid_auto_columns": null,
            "margin": null,
            "display": null,
            "left": null
          }
        },
        "e33671833990414aa164c05a104c2363": {
          "model_module": "@jupyter-widgets/controls",
          "model_name": "DescriptionStyleModel",
          "model_module_version": "1.5.0",
          "state": {
            "_view_name": "StyleView",
            "_model_name": "DescriptionStyleModel",
            "description_width": "",
            "_view_module": "@jupyter-widgets/base",
            "_model_module_version": "1.5.0",
            "_view_count": null,
            "_view_module_version": "1.2.0",
            "_model_module": "@jupyter-widgets/controls"
          }
        },
        "839a5e6f144b470c92f12e0d503ab816": {
          "model_module": "@jupyter-widgets/base",
          "model_name": "LayoutModel",
          "model_module_version": "1.2.0",
          "state": {
            "_view_name": "LayoutView",
            "grid_template_rows": null,
            "right": null,
            "justify_content": null,
            "_view_module": "@jupyter-widgets/base",
            "overflow": null,
            "_model_module_version": "1.2.0",
            "_view_count": null,
            "flex_flow": null,
            "width": null,
            "min_width": null,
            "border": null,
            "align_items": null,
            "bottom": null,
            "_model_module": "@jupyter-widgets/base",
            "top": null,
            "grid_column": null,
            "overflow_y": null,
            "overflow_x": null,
            "grid_auto_flow": null,
            "grid_area": null,
            "grid_template_columns": null,
            "flex": null,
            "_model_name": "LayoutModel",
            "justify_items": null,
            "grid_row": null,
            "max_height": null,
            "align_content": null,
            "visibility": null,
            "align_self": null,
            "height": null,
            "min_height": null,
            "padding": null,
            "grid_auto_rows": null,
            "grid_gap": null,
            "max_width": null,
            "order": null,
            "_view_module_version": "1.2.0",
            "grid_template_areas": null,
            "object_position": null,
            "object_fit": null,
            "grid_auto_columns": null,
            "margin": null,
            "display": null,
            "left": null
          }
        },
        "729cab0ff18343c0bc317c7081d679c4": {
          "model_module": "@jupyter-widgets/controls",
          "model_name": "HBoxModel",
          "model_module_version": "1.5.0",
          "state": {
            "_view_name": "HBoxView",
            "_dom_classes": [],
            "_model_name": "HBoxModel",
            "_view_module": "@jupyter-widgets/controls",
            "_model_module_version": "1.5.0",
            "_view_count": null,
            "_view_module_version": "1.5.0",
            "box_style": "",
            "layout": "IPY_MODEL_3e77e3b797a24db5a67a0f8e8a35e9a4",
            "_model_module": "@jupyter-widgets/controls",
            "children": [
              "IPY_MODEL_4ca99d3a6ff444faaeff759d912641b0",
              "IPY_MODEL_ce1325afb42e469c99e723f063b549c0",
              "IPY_MODEL_3db9890e81cb4232a2a6c667bf5276fd"
            ]
          }
        },
        "3e77e3b797a24db5a67a0f8e8a35e9a4": {
          "model_module": "@jupyter-widgets/base",
          "model_name": "LayoutModel",
          "model_module_version": "1.2.0",
          "state": {
            "_view_name": "LayoutView",
            "grid_template_rows": null,
            "right": null,
            "justify_content": null,
            "_view_module": "@jupyter-widgets/base",
            "overflow": null,
            "_model_module_version": "1.2.0",
            "_view_count": null,
            "flex_flow": null,
            "width": null,
            "min_width": null,
            "border": null,
            "align_items": null,
            "bottom": null,
            "_model_module": "@jupyter-widgets/base",
            "top": null,
            "grid_column": null,
            "overflow_y": null,
            "overflow_x": null,
            "grid_auto_flow": null,
            "grid_area": null,
            "grid_template_columns": null,
            "flex": null,
            "_model_name": "LayoutModel",
            "justify_items": null,
            "grid_row": null,
            "max_height": null,
            "align_content": null,
            "visibility": null,
            "align_self": null,
            "height": null,
            "min_height": null,
            "padding": null,
            "grid_auto_rows": null,
            "grid_gap": null,
            "max_width": null,
            "order": null,
            "_view_module_version": "1.2.0",
            "grid_template_areas": null,
            "object_position": null,
            "object_fit": null,
            "grid_auto_columns": null,
            "margin": null,
            "display": null,
            "left": null
          }
        },
        "4ca99d3a6ff444faaeff759d912641b0": {
          "model_module": "@jupyter-widgets/controls",
          "model_name": "HTMLModel",
          "model_module_version": "1.5.0",
          "state": {
            "_view_name": "HTMLView",
            "style": "IPY_MODEL_fd2e2752fa064e50b66f3eef45301020",
            "_dom_classes": [],
            "description": "",
            "_model_name": "HTMLModel",
            "placeholder": "​",
            "_view_module": "@jupyter-widgets/controls",
            "_model_module_version": "1.5.0",
            "value": "Downloading: 100%",
            "_view_count": null,
            "_view_module_version": "1.5.0",
            "description_tooltip": null,
            "_model_module": "@jupyter-widgets/controls",
            "layout": "IPY_MODEL_6a19ce1c5a5d4fa5950ada0cef6d36b1"
          }
        },
        "ce1325afb42e469c99e723f063b549c0": {
          "model_module": "@jupyter-widgets/controls",
          "model_name": "FloatProgressModel",
          "model_module_version": "1.5.0",
          "state": {
            "_view_name": "ProgressView",
            "style": "IPY_MODEL_12957058c69947e9aec0bb89daa2616e",
            "_dom_classes": [],
            "description": "",
            "_model_name": "FloatProgressModel",
            "bar_style": "success",
            "max": 213450,
            "_view_module": "@jupyter-widgets/controls",
            "_model_module_version": "1.5.0",
            "value": 213450,
            "_view_count": null,
            "_view_module_version": "1.5.0",
            "orientation": "horizontal",
            "min": 0,
            "description_tooltip": null,
            "_model_module": "@jupyter-widgets/controls",
            "layout": "IPY_MODEL_5ad9fdae680449f3b840fa2fc5249525"
          }
        },
        "3db9890e81cb4232a2a6c667bf5276fd": {
          "model_module": "@jupyter-widgets/controls",
          "model_name": "HTMLModel",
          "model_module_version": "1.5.0",
          "state": {
            "_view_name": "HTMLView",
            "style": "IPY_MODEL_269c5d5b9dd640c58d81dc7e979640d2",
            "_dom_classes": [],
            "description": "",
            "_model_name": "HTMLModel",
            "placeholder": "​",
            "_view_module": "@jupyter-widgets/controls",
            "_model_module_version": "1.5.0",
            "value": " 213k/213k [00:00&lt;00:00, 778kB/s]",
            "_view_count": null,
            "_view_module_version": "1.5.0",
            "description_tooltip": null,
            "_model_module": "@jupyter-widgets/controls",
            "layout": "IPY_MODEL_bf9f63782962467c813d4fec5ca905d9"
          }
        },
        "fd2e2752fa064e50b66f3eef45301020": {
          "model_module": "@jupyter-widgets/controls",
          "model_name": "DescriptionStyleModel",
          "model_module_version": "1.5.0",
          "state": {
            "_view_name": "StyleView",
            "_model_name": "DescriptionStyleModel",
            "description_width": "",
            "_view_module": "@jupyter-widgets/base",
            "_model_module_version": "1.5.0",
            "_view_count": null,
            "_view_module_version": "1.2.0",
            "_model_module": "@jupyter-widgets/controls"
          }
        },
        "6a19ce1c5a5d4fa5950ada0cef6d36b1": {
          "model_module": "@jupyter-widgets/base",
          "model_name": "LayoutModel",
          "model_module_version": "1.2.0",
          "state": {
            "_view_name": "LayoutView",
            "grid_template_rows": null,
            "right": null,
            "justify_content": null,
            "_view_module": "@jupyter-widgets/base",
            "overflow": null,
            "_model_module_version": "1.2.0",
            "_view_count": null,
            "flex_flow": null,
            "width": null,
            "min_width": null,
            "border": null,
            "align_items": null,
            "bottom": null,
            "_model_module": "@jupyter-widgets/base",
            "top": null,
            "grid_column": null,
            "overflow_y": null,
            "overflow_x": null,
            "grid_auto_flow": null,
            "grid_area": null,
            "grid_template_columns": null,
            "flex": null,
            "_model_name": "LayoutModel",
            "justify_items": null,
            "grid_row": null,
            "max_height": null,
            "align_content": null,
            "visibility": null,
            "align_self": null,
            "height": null,
            "min_height": null,
            "padding": null,
            "grid_auto_rows": null,
            "grid_gap": null,
            "max_width": null,
            "order": null,
            "_view_module_version": "1.2.0",
            "grid_template_areas": null,
            "object_position": null,
            "object_fit": null,
            "grid_auto_columns": null,
            "margin": null,
            "display": null,
            "left": null
          }
        },
        "12957058c69947e9aec0bb89daa2616e": {
          "model_module": "@jupyter-widgets/controls",
          "model_name": "ProgressStyleModel",
          "model_module_version": "1.5.0",
          "state": {
            "_view_name": "StyleView",
            "_model_name": "ProgressStyleModel",
            "description_width": "",
            "_view_module": "@jupyter-widgets/base",
            "_model_module_version": "1.5.0",
            "_view_count": null,
            "_view_module_version": "1.2.0",
            "bar_color": null,
            "_model_module": "@jupyter-widgets/controls"
          }
        },
        "5ad9fdae680449f3b840fa2fc5249525": {
          "model_module": "@jupyter-widgets/base",
          "model_name": "LayoutModel",
          "model_module_version": "1.2.0",
          "state": {
            "_view_name": "LayoutView",
            "grid_template_rows": null,
            "right": null,
            "justify_content": null,
            "_view_module": "@jupyter-widgets/base",
            "overflow": null,
            "_model_module_version": "1.2.0",
            "_view_count": null,
            "flex_flow": null,
            "width": null,
            "min_width": null,
            "border": null,
            "align_items": null,
            "bottom": null,
            "_model_module": "@jupyter-widgets/base",
            "top": null,
            "grid_column": null,
            "overflow_y": null,
            "overflow_x": null,
            "grid_auto_flow": null,
            "grid_area": null,
            "grid_template_columns": null,
            "flex": null,
            "_model_name": "LayoutModel",
            "justify_items": null,
            "grid_row": null,
            "max_height": null,
            "align_content": null,
            "visibility": null,
            "align_self": null,
            "height": null,
            "min_height": null,
            "padding": null,
            "grid_auto_rows": null,
            "grid_gap": null,
            "max_width": null,
            "order": null,
            "_view_module_version": "1.2.0",
            "grid_template_areas": null,
            "object_position": null,
            "object_fit": null,
            "grid_auto_columns": null,
            "margin": null,
            "display": null,
            "left": null
          }
        },
        "269c5d5b9dd640c58d81dc7e979640d2": {
          "model_module": "@jupyter-widgets/controls",
          "model_name": "DescriptionStyleModel",
          "model_module_version": "1.5.0",
          "state": {
            "_view_name": "StyleView",
            "_model_name": "DescriptionStyleModel",
            "description_width": "",
            "_view_module": "@jupyter-widgets/base",
            "_model_module_version": "1.5.0",
            "_view_count": null,
            "_view_module_version": "1.2.0",
            "_model_module": "@jupyter-widgets/controls"
          }
        },
        "bf9f63782962467c813d4fec5ca905d9": {
          "model_module": "@jupyter-widgets/base",
          "model_name": "LayoutModel",
          "model_module_version": "1.2.0",
          "state": {
            "_view_name": "LayoutView",
            "grid_template_rows": null,
            "right": null,
            "justify_content": null,
            "_view_module": "@jupyter-widgets/base",
            "overflow": null,
            "_model_module_version": "1.2.0",
            "_view_count": null,
            "flex_flow": null,
            "width": null,
            "min_width": null,
            "border": null,
            "align_items": null,
            "bottom": null,
            "_model_module": "@jupyter-widgets/base",
            "top": null,
            "grid_column": null,
            "overflow_y": null,
            "overflow_x": null,
            "grid_auto_flow": null,
            "grid_area": null,
            "grid_template_columns": null,
            "flex": null,
            "_model_name": "LayoutModel",
            "justify_items": null,
            "grid_row": null,
            "max_height": null,
            "align_content": null,
            "visibility": null,
            "align_self": null,
            "height": null,
            "min_height": null,
            "padding": null,
            "grid_auto_rows": null,
            "grid_gap": null,
            "max_width": null,
            "order": null,
            "_view_module_version": "1.2.0",
            "grid_template_areas": null,
            "object_position": null,
            "object_fit": null,
            "grid_auto_columns": null,
            "margin": null,
            "display": null,
            "left": null
          }
        },
        "f2046ee849744e838de49692c359f9e4": {
          "model_module": "@jupyter-widgets/controls",
          "model_name": "HBoxModel",
          "model_module_version": "1.5.0",
          "state": {
            "_view_name": "HBoxView",
            "_dom_classes": [],
            "_model_name": "HBoxModel",
            "_view_module": "@jupyter-widgets/controls",
            "_model_module_version": "1.5.0",
            "_view_count": null,
            "_view_module_version": "1.5.0",
            "box_style": "",
            "layout": "IPY_MODEL_ec31a78397ce4ee29af72f85d0c6986f",
            "_model_module": "@jupyter-widgets/controls",
            "children": [
              "IPY_MODEL_6a37d00145eb4840a5e43e3a01389eb3",
              "IPY_MODEL_14a0a11c6d5b481a93108061a34d4bc9",
              "IPY_MODEL_ae0c54a9db124320bf382804c50959a2"
            ]
          }
        },
        "ec31a78397ce4ee29af72f85d0c6986f": {
          "model_module": "@jupyter-widgets/base",
          "model_name": "LayoutModel",
          "model_module_version": "1.2.0",
          "state": {
            "_view_name": "LayoutView",
            "grid_template_rows": null,
            "right": null,
            "justify_content": null,
            "_view_module": "@jupyter-widgets/base",
            "overflow": null,
            "_model_module_version": "1.2.0",
            "_view_count": null,
            "flex_flow": null,
            "width": null,
            "min_width": null,
            "border": null,
            "align_items": null,
            "bottom": null,
            "_model_module": "@jupyter-widgets/base",
            "top": null,
            "grid_column": null,
            "overflow_y": null,
            "overflow_x": null,
            "grid_auto_flow": null,
            "grid_area": null,
            "grid_template_columns": null,
            "flex": null,
            "_model_name": "LayoutModel",
            "justify_items": null,
            "grid_row": null,
            "max_height": null,
            "align_content": null,
            "visibility": null,
            "align_self": null,
            "height": null,
            "min_height": null,
            "padding": null,
            "grid_auto_rows": null,
            "grid_gap": null,
            "max_width": null,
            "order": null,
            "_view_module_version": "1.2.0",
            "grid_template_areas": null,
            "object_position": null,
            "object_fit": null,
            "grid_auto_columns": null,
            "margin": null,
            "display": null,
            "left": null
          }
        },
        "6a37d00145eb4840a5e43e3a01389eb3": {
          "model_module": "@jupyter-widgets/controls",
          "model_name": "HTMLModel",
          "model_module_version": "1.5.0",
          "state": {
            "_view_name": "HTMLView",
            "style": "IPY_MODEL_fa7437f6d40f46b4aa64282640ca4607",
            "_dom_classes": [],
            "description": "",
            "_model_name": "HTMLModel",
            "placeholder": "​",
            "_view_module": "@jupyter-widgets/controls",
            "_model_module_version": "1.5.0",
            "value": "Downloading: 100%",
            "_view_count": null,
            "_view_module_version": "1.5.0",
            "description_tooltip": null,
            "_model_module": "@jupyter-widgets/controls",
            "layout": "IPY_MODEL_4007dbe0a471483c86ce3990b3ec9eb8"
          }
        },
        "14a0a11c6d5b481a93108061a34d4bc9": {
          "model_module": "@jupyter-widgets/controls",
          "model_name": "FloatProgressModel",
          "model_module_version": "1.5.0",
          "state": {
            "_view_name": "ProgressView",
            "style": "IPY_MODEL_123aa01f05e84becbc91fbc807b40804",
            "_dom_classes": [],
            "description": "",
            "_model_name": "FloatProgressModel",
            "bar_style": "success",
            "max": 665132540,
            "_view_module": "@jupyter-widgets/controls",
            "_model_module_version": "1.5.0",
            "value": 665132540,
            "_view_count": null,
            "_view_module_version": "1.5.0",
            "orientation": "horizontal",
            "min": 0,
            "description_tooltip": null,
            "_model_module": "@jupyter-widgets/controls",
            "layout": "IPY_MODEL_2ed6ee0875cc432fa5024421b2ae25c3"
          }
        },
        "ae0c54a9db124320bf382804c50959a2": {
          "model_module": "@jupyter-widgets/controls",
          "model_name": "HTMLModel",
          "model_module_version": "1.5.0",
          "state": {
            "_view_name": "HTMLView",
            "style": "IPY_MODEL_052871f9467540d390967c38da9d250f",
            "_dom_classes": [],
            "description": "",
            "_model_name": "HTMLModel",
            "placeholder": "​",
            "_view_module": "@jupyter-widgets/controls",
            "_model_module_version": "1.5.0",
            "value": " 665M/665M [00:22&lt;00:00, 32.5MB/s]",
            "_view_count": null,
            "_view_module_version": "1.5.0",
            "description_tooltip": null,
            "_model_module": "@jupyter-widgets/controls",
            "layout": "IPY_MODEL_4739d15c165646ea9f7220a8849ee081"
          }
        },
        "fa7437f6d40f46b4aa64282640ca4607": {
          "model_module": "@jupyter-widgets/controls",
          "model_name": "DescriptionStyleModel",
          "model_module_version": "1.5.0",
          "state": {
            "_view_name": "StyleView",
            "_model_name": "DescriptionStyleModel",
            "description_width": "",
            "_view_module": "@jupyter-widgets/base",
            "_model_module_version": "1.5.0",
            "_view_count": null,
            "_view_module_version": "1.2.0",
            "_model_module": "@jupyter-widgets/controls"
          }
        },
        "4007dbe0a471483c86ce3990b3ec9eb8": {
          "model_module": "@jupyter-widgets/base",
          "model_name": "LayoutModel",
          "model_module_version": "1.2.0",
          "state": {
            "_view_name": "LayoutView",
            "grid_template_rows": null,
            "right": null,
            "justify_content": null,
            "_view_module": "@jupyter-widgets/base",
            "overflow": null,
            "_model_module_version": "1.2.0",
            "_view_count": null,
            "flex_flow": null,
            "width": null,
            "min_width": null,
            "border": null,
            "align_items": null,
            "bottom": null,
            "_model_module": "@jupyter-widgets/base",
            "top": null,
            "grid_column": null,
            "overflow_y": null,
            "overflow_x": null,
            "grid_auto_flow": null,
            "grid_area": null,
            "grid_template_columns": null,
            "flex": null,
            "_model_name": "LayoutModel",
            "justify_items": null,
            "grid_row": null,
            "max_height": null,
            "align_content": null,
            "visibility": null,
            "align_self": null,
            "height": null,
            "min_height": null,
            "padding": null,
            "grid_auto_rows": null,
            "grid_gap": null,
            "max_width": null,
            "order": null,
            "_view_module_version": "1.2.0",
            "grid_template_areas": null,
            "object_position": null,
            "object_fit": null,
            "grid_auto_columns": null,
            "margin": null,
            "display": null,
            "left": null
          }
        },
        "123aa01f05e84becbc91fbc807b40804": {
          "model_module": "@jupyter-widgets/controls",
          "model_name": "ProgressStyleModel",
          "model_module_version": "1.5.0",
          "state": {
            "_view_name": "StyleView",
            "_model_name": "ProgressStyleModel",
            "description_width": "",
            "_view_module": "@jupyter-widgets/base",
            "_model_module_version": "1.5.0",
            "_view_count": null,
            "_view_module_version": "1.2.0",
            "bar_color": null,
            "_model_module": "@jupyter-widgets/controls"
          }
        },
        "2ed6ee0875cc432fa5024421b2ae25c3": {
          "model_module": "@jupyter-widgets/base",
          "model_name": "LayoutModel",
          "model_module_version": "1.2.0",
          "state": {
            "_view_name": "LayoutView",
            "grid_template_rows": null,
            "right": null,
            "justify_content": null,
            "_view_module": "@jupyter-widgets/base",
            "overflow": null,
            "_model_module_version": "1.2.0",
            "_view_count": null,
            "flex_flow": null,
            "width": null,
            "min_width": null,
            "border": null,
            "align_items": null,
            "bottom": null,
            "_model_module": "@jupyter-widgets/base",
            "top": null,
            "grid_column": null,
            "overflow_y": null,
            "overflow_x": null,
            "grid_auto_flow": null,
            "grid_area": null,
            "grid_template_columns": null,
            "flex": null,
            "_model_name": "LayoutModel",
            "justify_items": null,
            "grid_row": null,
            "max_height": null,
            "align_content": null,
            "visibility": null,
            "align_self": null,
            "height": null,
            "min_height": null,
            "padding": null,
            "grid_auto_rows": null,
            "grid_gap": null,
            "max_width": null,
            "order": null,
            "_view_module_version": "1.2.0",
            "grid_template_areas": null,
            "object_position": null,
            "object_fit": null,
            "grid_auto_columns": null,
            "margin": null,
            "display": null,
            "left": null
          }
        },
        "052871f9467540d390967c38da9d250f": {
          "model_module": "@jupyter-widgets/controls",
          "model_name": "DescriptionStyleModel",
          "model_module_version": "1.5.0",
          "state": {
            "_view_name": "StyleView",
            "_model_name": "DescriptionStyleModel",
            "description_width": "",
            "_view_module": "@jupyter-widgets/base",
            "_model_module_version": "1.5.0",
            "_view_count": null,
            "_view_module_version": "1.2.0",
            "_model_module": "@jupyter-widgets/controls"
          }
        },
        "4739d15c165646ea9f7220a8849ee081": {
          "model_module": "@jupyter-widgets/base",
          "model_name": "LayoutModel",
          "model_module_version": "1.2.0",
          "state": {
            "_view_name": "LayoutView",
            "grid_template_rows": null,
            "right": null,
            "justify_content": null,
            "_view_module": "@jupyter-widgets/base",
            "overflow": null,
            "_model_module_version": "1.2.0",
            "_view_count": null,
            "flex_flow": null,
            "width": null,
            "min_width": null,
            "border": null,
            "align_items": null,
            "bottom": null,
            "_model_module": "@jupyter-widgets/base",
            "top": null,
            "grid_column": null,
            "overflow_y": null,
            "overflow_x": null,
            "grid_auto_flow": null,
            "grid_area": null,
            "grid_template_columns": null,
            "flex": null,
            "_model_name": "LayoutModel",
            "justify_items": null,
            "grid_row": null,
            "max_height": null,
            "align_content": null,
            "visibility": null,
            "align_self": null,
            "height": null,
            "min_height": null,
            "padding": null,
            "grid_auto_rows": null,
            "grid_gap": null,
            "max_width": null,
            "order": null,
            "_view_module_version": "1.2.0",
            "grid_template_areas": null,
            "object_position": null,
            "object_fit": null,
            "grid_auto_columns": null,
            "margin": null,
            "display": null,
            "left": null
          }
        }
      }
    }
  },
  "cells": [
    {
      "cell_type": "markdown",
      "metadata": {
        "id": "view-in-github",
        "colab_type": "text"
      },
      "source": [
        "<a href=\"https://colab.research.google.com/github/yashkens/course3-4-NLP/blob/master/hw5_collocations_reviews.ipynb\" target=\"_parent\"><img src=\"https://colab.research.google.com/assets/colab-badge.svg\" alt=\"Open In Colab\"/></a>"
      ]
    },
    {
      "cell_type": "markdown",
      "metadata": {
        "id": "gmMKQYycbVat"
      },
      "source": [
        "Рекомендую открыть тетрадку в колабе,  чтобы удобно скрывать ненужные разделы  \n",
        "Используется датасет категории Games 🎮"
      ]
    },
    {
      "cell_type": "markdown",
      "metadata": {
        "id": "CRKYLXho_m0d"
      },
      "source": [
        "### Импорты и загрузки"
      ]
    },
    {
      "cell_type": "code",
      "metadata": {
        "colab": {
          "base_uri": "https://localhost:8080/"
        },
        "id": "HU1XMxX3n2HS",
        "outputId": "b6e246ce-bf08-4da5-f69c-ef5e0cc5cc59"
      },
      "source": [
        "!pip install allennlp==2.1.0 allennlp-models==2.1.0"
      ],
      "execution_count": 1,
      "outputs": [
        {
          "output_type": "stream",
          "name": "stdout",
          "text": [
            "Collecting allennlp==2.1.0\n",
            "  Downloading allennlp-2.1.0-py3-none-any.whl (585 kB)\n",
            "\u001b[K     |████████████████████████████████| 585 kB 5.3 MB/s \n",
            "\u001b[?25hCollecting allennlp-models==2.1.0\n",
            "  Downloading allennlp_models-2.1.0-py3-none-any.whl (407 kB)\n",
            "\u001b[K     |████████████████████████████████| 407 kB 38.8 MB/s \n",
            "\u001b[?25hRequirement already satisfied: pytest in /usr/local/lib/python3.7/dist-packages (from allennlp==2.1.0) (3.6.4)\n",
            "Requirement already satisfied: scipy in /usr/local/lib/python3.7/dist-packages (from allennlp==2.1.0) (1.4.1)\n",
            "Requirement already satisfied: tqdm>=4.19 in /usr/local/lib/python3.7/dist-packages (from allennlp==2.1.0) (4.62.3)\n",
            "Requirement already satisfied: spacy<3.1,>=2.1.0 in /usr/local/lib/python3.7/dist-packages (from allennlp==2.1.0) (2.2.4)\n",
            "Collecting boto3<2.0,>=1.14\n",
            "  Downloading boto3-1.20.19-py3-none-any.whl (131 kB)\n",
            "\u001b[K     |████████████████████████████████| 131 kB 50.0 MB/s \n",
            "\u001b[?25hCollecting jsonpickle\n",
            "  Downloading jsonpickle-2.0.0-py2.py3-none-any.whl (37 kB)\n",
            "Requirement already satisfied: more-itertools in /usr/local/lib/python3.7/dist-packages (from allennlp==2.1.0) (8.12.0)\n",
            "Collecting transformers<4.4,>=4.1\n",
            "  Downloading transformers-4.3.3-py3-none-any.whl (1.9 MB)\n",
            "\u001b[K     |████████████████████████████████| 1.9 MB 33.0 MB/s \n",
            "\u001b[?25hRequirement already satisfied: numpy in /usr/local/lib/python3.7/dist-packages (from allennlp==2.1.0) (1.19.5)\n",
            "Requirement already satisfied: h5py in /usr/local/lib/python3.7/dist-packages (from allennlp==2.1.0) (3.1.0)\n",
            "Requirement already satisfied: scikit-learn in /usr/local/lib/python3.7/dist-packages (from allennlp==2.1.0) (1.0.1)\n",
            "Collecting torch<1.8.0,>=1.6.0\n",
            "  Downloading torch-1.7.1-cp37-cp37m-manylinux1_x86_64.whl (776.8 MB)\n",
            "\u001b[K     |████████████████████████████████| 776.8 MB 18 kB/s \n",
            "\u001b[?25hRequirement already satisfied: requests>=2.18 in /usr/local/lib/python3.7/dist-packages (from allennlp==2.1.0) (2.23.0)\n",
            "Collecting filelock<3.1,>=3.0\n",
            "  Downloading filelock-3.0.12-py3-none-any.whl (7.6 kB)\n",
            "Collecting torchvision<0.9.0,>=0.8.1\n",
            "  Downloading torchvision-0.8.2-cp37-cp37m-manylinux1_x86_64.whl (12.8 MB)\n",
            "\u001b[K     |████████████████████████████████| 12.8 MB 23.5 MB/s \n",
            "\u001b[?25hRequirement already satisfied: nltk in /usr/local/lib/python3.7/dist-packages (from allennlp==2.1.0) (3.2.5)\n",
            "Collecting jsonnet>=0.10.0\n",
            "  Downloading jsonnet-0.17.0.tar.gz (259 kB)\n",
            "\u001b[K     |████████████████████████████████| 259 kB 53.4 MB/s \n",
            "\u001b[?25hCollecting sentencepiece\n",
            "  Downloading sentencepiece-0.1.96-cp37-cp37m-manylinux_2_17_x86_64.manylinux2014_x86_64.whl (1.2 MB)\n",
            "\u001b[K     |████████████████████████████████| 1.2 MB 17.2 MB/s \n",
            "\u001b[?25hCollecting tensorboardX>=1.2\n",
            "  Downloading tensorboardX-2.4.1-py2.py3-none-any.whl (124 kB)\n",
            "\u001b[K     |████████████████████████████████| 124 kB 55.3 MB/s \n",
            "\u001b[?25hCollecting overrides==3.1.0\n",
            "  Downloading overrides-3.1.0.tar.gz (11 kB)\n",
            "Requirement already satisfied: lmdb in /usr/local/lib/python3.7/dist-packages (from allennlp==2.1.0) (0.99)\n",
            "Collecting py-rouge==1.1\n",
            "  Downloading py_rouge-1.1-py3-none-any.whl (56 kB)\n",
            "\u001b[K     |████████████████████████████████| 56 kB 3.9 MB/s \n",
            "\u001b[?25hCollecting conllu==4.4\n",
            "  Downloading conllu-4.4-py2.py3-none-any.whl (15 kB)\n",
            "Collecting word2number>=1.1\n",
            "  Downloading word2number-1.1.zip (9.7 kB)\n",
            "Collecting ftfy\n",
            "  Downloading ftfy-6.0.3.tar.gz (64 kB)\n",
            "\u001b[K     |████████████████████████████████| 64 kB 2.6 MB/s \n",
            "\u001b[?25hCollecting botocore<1.24.0,>=1.23.19\n",
            "  Downloading botocore-1.23.19-py3-none-any.whl (8.4 MB)\n",
            "\u001b[K     |████████████████████████████████| 8.4 MB 52.1 MB/s \n",
            "\u001b[?25hCollecting jmespath<1.0.0,>=0.7.1\n",
            "  Downloading jmespath-0.10.0-py2.py3-none-any.whl (24 kB)\n",
            "Collecting s3transfer<0.6.0,>=0.5.0\n",
            "  Downloading s3transfer-0.5.0-py3-none-any.whl (79 kB)\n",
            "\u001b[K     |████████████████████████████████| 79 kB 6.6 MB/s \n",
            "\u001b[?25hRequirement already satisfied: python-dateutil<3.0.0,>=2.1 in /usr/local/lib/python3.7/dist-packages (from botocore<1.24.0,>=1.23.19->boto3<2.0,>=1.14->allennlp==2.1.0) (2.8.2)\n",
            "Collecting urllib3<1.27,>=1.25.4\n",
            "  Downloading urllib3-1.26.7-py2.py3-none-any.whl (138 kB)\n",
            "\u001b[K     |████████████████████████████████| 138 kB 50.2 MB/s \n",
            "\u001b[?25hRequirement already satisfied: six>=1.5 in /usr/local/lib/python3.7/dist-packages (from python-dateutil<3.0.0,>=2.1->botocore<1.24.0,>=1.23.19->boto3<2.0,>=1.14->allennlp==2.1.0) (1.15.0)\n",
            "Requirement already satisfied: idna<3,>=2.5 in /usr/local/lib/python3.7/dist-packages (from requests>=2.18->allennlp==2.1.0) (2.10)\n",
            "Requirement already satisfied: chardet<4,>=3.0.2 in /usr/local/lib/python3.7/dist-packages (from requests>=2.18->allennlp==2.1.0) (3.0.4)\n",
            "Requirement already satisfied: certifi>=2017.4.17 in /usr/local/lib/python3.7/dist-packages (from requests>=2.18->allennlp==2.1.0) (2021.10.8)\n",
            "  Downloading urllib3-1.25.11-py2.py3-none-any.whl (127 kB)\n",
            "\u001b[K     |████████████████████████████████| 127 kB 38.8 MB/s \n",
            "\u001b[?25hRequirement already satisfied: preshed<3.1.0,>=3.0.2 in /usr/local/lib/python3.7/dist-packages (from spacy<3.1,>=2.1.0->allennlp==2.1.0) (3.0.6)\n",
            "Requirement already satisfied: murmurhash<1.1.0,>=0.28.0 in /usr/local/lib/python3.7/dist-packages (from spacy<3.1,>=2.1.0->allennlp==2.1.0) (1.0.6)\n",
            "Requirement already satisfied: plac<1.2.0,>=0.9.6 in /usr/local/lib/python3.7/dist-packages (from spacy<3.1,>=2.1.0->allennlp==2.1.0) (1.1.3)\n",
            "Requirement already satisfied: thinc==7.4.0 in /usr/local/lib/python3.7/dist-packages (from spacy<3.1,>=2.1.0->allennlp==2.1.0) (7.4.0)\n",
            "Requirement already satisfied: srsly<1.1.0,>=1.0.2 in /usr/local/lib/python3.7/dist-packages (from spacy<3.1,>=2.1.0->allennlp==2.1.0) (1.0.5)\n",
            "Requirement already satisfied: catalogue<1.1.0,>=0.0.7 in /usr/local/lib/python3.7/dist-packages (from spacy<3.1,>=2.1.0->allennlp==2.1.0) (1.0.0)\n",
            "Requirement already satisfied: setuptools in /usr/local/lib/python3.7/dist-packages (from spacy<3.1,>=2.1.0->allennlp==2.1.0) (57.4.0)\n",
            "Requirement already satisfied: blis<0.5.0,>=0.4.0 in /usr/local/lib/python3.7/dist-packages (from spacy<3.1,>=2.1.0->allennlp==2.1.0) (0.4.1)\n",
            "Requirement already satisfied: wasabi<1.1.0,>=0.4.0 in /usr/local/lib/python3.7/dist-packages (from spacy<3.1,>=2.1.0->allennlp==2.1.0) (0.8.2)\n",
            "Requirement already satisfied: cymem<2.1.0,>=2.0.2 in /usr/local/lib/python3.7/dist-packages (from spacy<3.1,>=2.1.0->allennlp==2.1.0) (2.0.6)\n",
            "Requirement already satisfied: importlib-metadata>=0.20 in /usr/local/lib/python3.7/dist-packages (from catalogue<1.1.0,>=0.0.7->spacy<3.1,>=2.1.0->allennlp==2.1.0) (4.8.2)\n",
            "Requirement already satisfied: typing-extensions>=3.6.4 in /usr/local/lib/python3.7/dist-packages (from importlib-metadata>=0.20->catalogue<1.1.0,>=0.0.7->spacy<3.1,>=2.1.0->allennlp==2.1.0) (3.10.0.2)\n",
            "Requirement already satisfied: zipp>=0.5 in /usr/local/lib/python3.7/dist-packages (from importlib-metadata>=0.20->catalogue<1.1.0,>=0.0.7->spacy<3.1,>=2.1.0->allennlp==2.1.0) (3.6.0)\n",
            "Requirement already satisfied: protobuf>=3.8.0 in /usr/local/lib/python3.7/dist-packages (from tensorboardX>=1.2->allennlp==2.1.0) (3.17.3)\n",
            "Requirement already satisfied: pillow>=4.1.1 in /usr/local/lib/python3.7/dist-packages (from torchvision<0.9.0,>=0.8.1->allennlp==2.1.0) (7.1.2)\n",
            "Requirement already satisfied: regex!=2019.12.17 in /usr/local/lib/python3.7/dist-packages (from transformers<4.4,>=4.1->allennlp==2.1.0) (2019.12.20)\n",
            "Collecting tokenizers<0.11,>=0.10.1\n",
            "  Downloading tokenizers-0.10.3-cp37-cp37m-manylinux_2_5_x86_64.manylinux1_x86_64.manylinux_2_12_x86_64.manylinux2010_x86_64.whl (3.3 MB)\n",
            "\u001b[K     |████████████████████████████████| 3.3 MB 36.1 MB/s \n",
            "\u001b[?25hCollecting sacremoses\n",
            "  Downloading sacremoses-0.0.46-py3-none-any.whl (895 kB)\n",
            "\u001b[K     |████████████████████████████████| 895 kB 28.2 MB/s \n",
            "\u001b[?25hRequirement already satisfied: packaging in /usr/local/lib/python3.7/dist-packages (from transformers<4.4,>=4.1->allennlp==2.1.0) (21.3)\n",
            "Requirement already satisfied: wcwidth in /usr/local/lib/python3.7/dist-packages (from ftfy->allennlp-models==2.1.0) (0.2.5)\n",
            "Requirement already satisfied: cached-property in /usr/local/lib/python3.7/dist-packages (from h5py->allennlp==2.1.0) (1.5.2)\n",
            "Requirement already satisfied: pyparsing!=3.0.5,>=2.0.2 in /usr/local/lib/python3.7/dist-packages (from packaging->transformers<4.4,>=4.1->allennlp==2.1.0) (3.0.6)\n",
            "Requirement already satisfied: attrs>=17.4.0 in /usr/local/lib/python3.7/dist-packages (from pytest->allennlp==2.1.0) (21.2.0)\n",
            "Requirement already satisfied: py>=1.5.0 in /usr/local/lib/python3.7/dist-packages (from pytest->allennlp==2.1.0) (1.11.0)\n",
            "Requirement already satisfied: pluggy<0.8,>=0.5 in /usr/local/lib/python3.7/dist-packages (from pytest->allennlp==2.1.0) (0.7.1)\n",
            "Requirement already satisfied: atomicwrites>=1.0 in /usr/local/lib/python3.7/dist-packages (from pytest->allennlp==2.1.0) (1.4.0)\n",
            "Requirement already satisfied: click in /usr/local/lib/python3.7/dist-packages (from sacremoses->transformers<4.4,>=4.1->allennlp==2.1.0) (7.1.2)\n",
            "Requirement already satisfied: joblib in /usr/local/lib/python3.7/dist-packages (from sacremoses->transformers<4.4,>=4.1->allennlp==2.1.0) (1.1.0)\n",
            "Requirement already satisfied: threadpoolctl>=2.0.0 in /usr/local/lib/python3.7/dist-packages (from scikit-learn->allennlp==2.1.0) (3.0.0)\n",
            "Building wheels for collected packages: overrides, jsonnet, word2number, ftfy\n",
            "  Building wheel for overrides (setup.py) ... \u001b[?25l\u001b[?25hdone\n",
            "  Created wheel for overrides: filename=overrides-3.1.0-py3-none-any.whl size=10186 sha256=0d84c10532ef1ec4368e8eed68ed53303c1b8378e3c5b34bffa8f017170270e7\n",
            "  Stored in directory: /root/.cache/pip/wheels/3a/0d/38/01a9bc6e20dcfaf0a6a7b552d03137558ba1c38aea47644682\n",
            "  Building wheel for jsonnet (setup.py) ... \u001b[?25l\u001b[?25hdone\n",
            "  Created wheel for jsonnet: filename=jsonnet-0.17.0-cp37-cp37m-linux_x86_64.whl size=3388671 sha256=d04257b30d9002ef6d7ca4a82490ed12b2bd55a79160b11231e76a462caa501a\n",
            "  Stored in directory: /root/.cache/pip/wheels/1c/28/7e/287c6b19f7161bb03c6986a3c46b51d0d7d9a1805346634e3a\n",
            "  Building wheel for word2number (setup.py) ... \u001b[?25l\u001b[?25hdone\n",
            "  Created wheel for word2number: filename=word2number-1.1-py3-none-any.whl size=5580 sha256=bbf583fac3be2e0d46467f274447c3a0f033f79b93455fc43af251cb34a35d6c\n",
            "  Stored in directory: /root/.cache/pip/wheels/4b/c3/77/a5f48aeb0d3efb7cd5ad61cbd3da30bbf9ffc9662b07c9f879\n",
            "  Building wheel for ftfy (setup.py) ... \u001b[?25l\u001b[?25hdone\n",
            "  Created wheel for ftfy: filename=ftfy-6.0.3-py3-none-any.whl size=41933 sha256=13531f6c75aba3bc30bcb84521501b553b58de5468d235a879718f6da148eaa7\n",
            "  Stored in directory: /root/.cache/pip/wheels/19/f5/38/273eb3b5e76dfd850619312f693716ac4518b498f5ffb6f56d\n",
            "Successfully built overrides jsonnet word2number ftfy\n",
            "Installing collected packages: urllib3, jmespath, botocore, torch, tokenizers, sacremoses, s3transfer, filelock, transformers, torchvision, tensorboardX, sentencepiece, overrides, jsonpickle, jsonnet, boto3, word2number, py-rouge, ftfy, conllu, allennlp, allennlp-models\n",
            "  Attempting uninstall: urllib3\n",
            "    Found existing installation: urllib3 1.24.3\n",
            "    Uninstalling urllib3-1.24.3:\n",
            "      Successfully uninstalled urllib3-1.24.3\n",
            "  Attempting uninstall: torch\n",
            "    Found existing installation: torch 1.10.0+cu111\n",
            "    Uninstalling torch-1.10.0+cu111:\n",
            "      Successfully uninstalled torch-1.10.0+cu111\n",
            "  Attempting uninstall: filelock\n",
            "    Found existing installation: filelock 3.4.0\n",
            "    Uninstalling filelock-3.4.0:\n",
            "      Successfully uninstalled filelock-3.4.0\n",
            "  Attempting uninstall: torchvision\n",
            "    Found existing installation: torchvision 0.11.1+cu111\n",
            "    Uninstalling torchvision-0.11.1+cu111:\n",
            "      Successfully uninstalled torchvision-0.11.1+cu111\n",
            "\u001b[31mERROR: pip's dependency resolver does not currently take into account all the packages that are installed. This behaviour is the source of the following dependency conflicts.\n",
            "torchtext 0.11.0 requires torch==1.10.0, but you have torch 1.7.1 which is incompatible.\n",
            "torchaudio 0.10.0+cu111 requires torch==1.10.0, but you have torch 1.7.1 which is incompatible.\n",
            "datascience 0.10.6 requires folium==0.2.1, but you have folium 0.8.3 which is incompatible.\u001b[0m\n",
            "Successfully installed allennlp-2.1.0 allennlp-models-2.1.0 boto3-1.20.19 botocore-1.23.19 conllu-4.4 filelock-3.0.12 ftfy-6.0.3 jmespath-0.10.0 jsonnet-0.17.0 jsonpickle-2.0.0 overrides-3.1.0 py-rouge-1.1 s3transfer-0.5.0 sacremoses-0.0.46 sentencepiece-0.1.96 tensorboardX-2.4.1 tokenizers-0.10.3 torch-1.7.1 torchvision-0.8.2 transformers-4.3.3 urllib3-1.25.11 word2number-1.1\n"
          ]
        }
      ]
    },
    {
      "cell_type": "code",
      "metadata": {
        "colab": {
          "base_uri": "https://localhost:8080/"
        },
        "id": "NiuBmr9Q_gYN",
        "outputId": "143a020e-1e12-4acb-8f08-a7ffc0cb7d0d"
      },
      "source": [
        "!pip install transformers"
      ],
      "execution_count": 2,
      "outputs": [
        {
          "output_type": "stream",
          "name": "stdout",
          "text": [
            "Requirement already satisfied: transformers in /usr/local/lib/python3.7/dist-packages (4.3.3)\n",
            "Requirement already satisfied: regex!=2019.12.17 in /usr/local/lib/python3.7/dist-packages (from transformers) (2019.12.20)\n",
            "Requirement already satisfied: tokenizers<0.11,>=0.10.1 in /usr/local/lib/python3.7/dist-packages (from transformers) (0.10.3)\n",
            "Requirement already satisfied: importlib-metadata in /usr/local/lib/python3.7/dist-packages (from transformers) (4.8.2)\n",
            "Requirement already satisfied: sacremoses in /usr/local/lib/python3.7/dist-packages (from transformers) (0.0.46)\n",
            "Requirement already satisfied: requests in /usr/local/lib/python3.7/dist-packages (from transformers) (2.23.0)\n",
            "Requirement already satisfied: filelock in /usr/local/lib/python3.7/dist-packages (from transformers) (3.0.12)\n",
            "Requirement already satisfied: numpy>=1.17 in /usr/local/lib/python3.7/dist-packages (from transformers) (1.19.5)\n",
            "Requirement already satisfied: packaging in /usr/local/lib/python3.7/dist-packages (from transformers) (21.3)\n",
            "Requirement already satisfied: tqdm>=4.27 in /usr/local/lib/python3.7/dist-packages (from transformers) (4.62.3)\n",
            "Requirement already satisfied: typing-extensions>=3.6.4 in /usr/local/lib/python3.7/dist-packages (from importlib-metadata->transformers) (3.10.0.2)\n",
            "Requirement already satisfied: zipp>=0.5 in /usr/local/lib/python3.7/dist-packages (from importlib-metadata->transformers) (3.6.0)\n",
            "Requirement already satisfied: pyparsing!=3.0.5,>=2.0.2 in /usr/local/lib/python3.7/dist-packages (from packaging->transformers) (3.0.6)\n",
            "Requirement already satisfied: urllib3!=1.25.0,!=1.25.1,<1.26,>=1.21.1 in /usr/local/lib/python3.7/dist-packages (from requests->transformers) (1.25.11)\n",
            "Requirement already satisfied: certifi>=2017.4.17 in /usr/local/lib/python3.7/dist-packages (from requests->transformers) (2021.10.8)\n",
            "Requirement already satisfied: chardet<4,>=3.0.2 in /usr/local/lib/python3.7/dist-packages (from requests->transformers) (3.0.4)\n",
            "Requirement already satisfied: idna<3,>=2.5 in /usr/local/lib/python3.7/dist-packages (from requests->transformers) (2.10)\n",
            "Requirement already satisfied: click in /usr/local/lib/python3.7/dist-packages (from sacremoses->transformers) (7.1.2)\n",
            "Requirement already satisfied: six in /usr/local/lib/python3.7/dist-packages (from sacremoses->transformers) (1.15.0)\n",
            "Requirement already satisfied: joblib in /usr/local/lib/python3.7/dist-packages (from sacremoses->transformers) (1.1.0)\n"
          ]
        }
      ]
    },
    {
      "cell_type": "code",
      "metadata": {
        "colab": {
          "base_uri": "https://localhost:8080/"
        },
        "id": "jrlyWXoZ-kJw",
        "outputId": "5c45c8d5-df7a-4170-ce29-3dc074196b6a"
      },
      "source": [
        "!wget http://snap.stanford.edu/data/amazon/Video_Games.txt.gz"
      ],
      "execution_count": 3,
      "outputs": [
        {
          "output_type": "stream",
          "name": "stdout",
          "text": [
            "--2021-12-03 08:34:49--  http://snap.stanford.edu/data/amazon/Video_Games.txt.gz\n",
            "Resolving snap.stanford.edu (snap.stanford.edu)... 171.64.75.80\n",
            "Connecting to snap.stanford.edu (snap.stanford.edu)|171.64.75.80|:80... connected.\n",
            "HTTP request sent, awaiting response... 200 OK\n",
            "Length: 158584958 (151M) [application/x-gzip]\n",
            "Saving to: ‘Video_Games.txt.gz’\n",
            "\n",
            "Video_Games.txt.gz  100%[===================>] 151.24M  2.34MB/s    in 19s     \n",
            "\n",
            "2021-12-03 08:35:08 (8.14 MB/s) - ‘Video_Games.txt.gz’ saved [158584958/158584958]\n",
            "\n"
          ]
        }
      ]
    },
    {
      "cell_type": "code",
      "metadata": {
        "id": "rCZzydnA84r4",
        "colab": {
          "base_uri": "https://localhost:8080/"
        },
        "outputId": "dc2293d4-14fd-48b5-d58b-1b6a431e8a41"
      },
      "source": [
        "import gzip\n",
        "import pandas as pd\n",
        "import torch\n",
        "import numpy as np\n",
        "from sklearn.metrics.pairwise import cosine_similarity\n",
        "import matplotlib.pyplot as plt\n",
        "from tqdm import tqdm\n",
        "from collections import Counter\n",
        "import random\n",
        "\n",
        "from IPython.display import HTML, display_html\n",
        "\n",
        "from wordcloud import WordCloud, STOPWORDS\n",
        "stopwords = set(STOPWORDS)\n",
        "\n",
        "from sklearn.feature_extraction.text import CountVectorizer\n",
        "import nltk\n",
        "from nltk import word_tokenize\n",
        "nltk.download('averaged_perceptron_tagger')"
      ],
      "execution_count": 4,
      "outputs": [
        {
          "output_type": "stream",
          "name": "stdout",
          "text": [
            "[nltk_data] Downloading package averaged_perceptron_tagger to\n",
            "[nltk_data]     /root/nltk_data...\n",
            "[nltk_data]   Unzipping taggers/averaged_perceptron_tagger.zip.\n"
          ]
        },
        {
          "output_type": "execute_result",
          "data": {
            "text/plain": [
              "True"
            ]
          },
          "metadata": {},
          "execution_count": 4
        }
      ]
    },
    {
      "cell_type": "code",
      "metadata": {
        "id": "luJiVUoXzhz4",
        "colab": {
          "base_uri": "https://localhost:8080/",
          "height": 177,
          "referenced_widgets": [
            "02f8e7bc25d14ff2aa8053ab409b3ed1",
            "cf3c4893f09b4ae99d8aa1de3c5d5803",
            "f9b987437fd04f79a802f4caa46b42cd",
            "a2d222b324444a73ae5d0993407bffd8",
            "c02e4ae4f7634e24abdd12cac3500403",
            "e46ce93f55364997ab188633e2115fed",
            "45d50f9dac4c45cf9824c80a64f77a28",
            "2693e5c61eac41c0bdc18e983c104071",
            "c0c5b12f63e4436f87d8ce0a139f2842",
            "53d5f65c47df4f5e9ad0a29688a67aa0",
            "6002f68372324eadb091ac4641d1331d",
            "8d0f199f03064e14b3c7ab74496461c0",
            "022a4f6a35584cc99a54090614421c27",
            "6e5a7bf218ba4601b9a390e35791b3da",
            "c13eebf4dcdc425b984b40e07a16e90d",
            "419da9a029464f8daab403e7d02e97a9",
            "099c6e64fb544575a4c976004bba574f",
            "48925c10fda240c491ac54138cd8ef1b",
            "dcc897dcaabb44b6a0918fa29c7479f8",
            "5a7f8c9c4d0542e2a8a70f0c6362ade2",
            "ce297270215841d5aa89c02af28277ef",
            "3c99172dbf7d468b9ac4c4668079ca1b",
            "a369fb3eaf5148eb80ef1e13df7cdcdd",
            "dc099c7b9fa747538f6fc64bf52aa8ae",
            "6ecdfd0e1d6e45ecb0c63b1d96404176",
            "776949b507e443a38b64282d83165c25",
            "7a6ac9ff63ba40c79696a1f5bcf395f4",
            "e5a5f09458b449ac967cfff9fafe6e04",
            "d95b551cd4274cd886dc24d64444b477",
            "a52139b99ea94664a667280b2b391da1",
            "65ebdcf9cf4f4b1d8cbb4950a7e2fded",
            "98a038d5732846c5885be41c3274882b",
            "2f22d198fda1466eb33057456e70dbaf",
            "ae0cdcaf853f47c0812911f27a401176",
            "35e668f69dcb4e0fb0865758fb00d138",
            "970c961cd695433ba416799bc5fbaead",
            "44d7370f050945e580830b9182265172",
            "b92aaa5613674def9fa9d67bbeb27b7d",
            "bcb0e8cacab84061b1001115da2f2895",
            "a4b4a3194df64c1fb7e1c65e362adc68",
            "46ce4577dafe45a4ab316455b5783cff",
            "0816a1c0d64149e1aad9f6a3c11596a4",
            "57a8eee4aa3546cd8b71c52c2c149a2c",
            "abc11d6afcd743179a9fa868c244c671",
            "e09346be931d4c5dbf43cfd9efb1ee79",
            "aef1109d1b3e4f0c92b9446765c4a9ff",
            "12785e20151848118c7760d5fbc0e3ea",
            "f9372702f8fb4977b1152b6432d90f23",
            "7d63164f945749ee86e33264722af734",
            "6484ada8fc424650bcb3a7c2d6f16d31",
            "490ebfc990f4449d94c5600b5559ef43",
            "3ba183e1fb5e49aeb3850fcaa2415db0",
            "41fed5ac76724443aeebf0805f5a7083",
            "db44a2b1ccea4639b44ffc4f8d2fbd21",
            "543171da10724f598d0221683f13e4d2"
          ]
        },
        "outputId": "b5a621d4-53ff-4df5-c5ce-b50e65f97a17"
      },
      "source": [
        "from transformers import AutoTokenizer, AutoModel\n",
        "  \n",
        "tokenizer = AutoTokenizer.from_pretrained(\"shtoshni/spanbert_coreference_large\")\n",
        "model = AutoModel.from_pretrained(\"shtoshni/spanbert_coreference_large\")"
      ],
      "execution_count": 5,
      "outputs": [
        {
          "output_type": "display_data",
          "data": {
            "application/vnd.jupyter.widget-view+json": {
              "model_id": "02f8e7bc25d14ff2aa8053ab409b3ed1",
              "version_minor": 0,
              "version_major": 2
            },
            "text/plain": [
              "Downloading:   0%|          | 0.00/521 [00:00<?, ?B/s]"
            ]
          },
          "metadata": {}
        },
        {
          "output_type": "display_data",
          "data": {
            "application/vnd.jupyter.widget-view+json": {
              "model_id": "8d0f199f03064e14b3c7ab74496461c0",
              "version_minor": 0,
              "version_major": 2
            },
            "text/plain": [
              "Downloading:   0%|          | 0.00/213k [00:00<?, ?B/s]"
            ]
          },
          "metadata": {}
        },
        {
          "output_type": "display_data",
          "data": {
            "application/vnd.jupyter.widget-view+json": {
              "model_id": "a369fb3eaf5148eb80ef1e13df7cdcdd",
              "version_minor": 0,
              "version_major": 2
            },
            "text/plain": [
              "Downloading:   0%|          | 0.00/112 [00:00<?, ?B/s]"
            ]
          },
          "metadata": {}
        },
        {
          "output_type": "display_data",
          "data": {
            "application/vnd.jupyter.widget-view+json": {
              "model_id": "ae0cdcaf853f47c0812911f27a401176",
              "version_minor": 0,
              "version_major": 2
            },
            "text/plain": [
              "Downloading:   0%|          | 0.00/252 [00:00<?, ?B/s]"
            ]
          },
          "metadata": {}
        },
        {
          "output_type": "display_data",
          "data": {
            "application/vnd.jupyter.widget-view+json": {
              "model_id": "e09346be931d4c5dbf43cfd9efb1ee79",
              "version_minor": 0,
              "version_major": 2
            },
            "text/plain": [
              "Downloading:   0%|          | 0.00/1.33G [00:00<?, ?B/s]"
            ]
          },
          "metadata": {}
        }
      ]
    },
    {
      "cell_type": "code",
      "metadata": {
        "colab": {
          "base_uri": "https://localhost:8080/",
          "height": 272,
          "referenced_widgets": [
            "1c18ca5ca40344dd8677d64c2e47d253",
            "00e42c3c739b416083ae2149ba032a71",
            "264428a03a364ba082b1f3b10344ef67",
            "360485de7a9e4713b15fc09cdbb58951",
            "6529459ffd034937b0f58f88e5804194",
            "95867a6b34014dd0981a37cbc09a0095",
            "7665e26d22ef4b60bbf7ee1e167aa253",
            "c04d9be00cb74173ad319417ffd02f7e",
            "c0ec6c8dfb384ff78d1d9dfcd874f012",
            "e33671833990414aa164c05a104c2363",
            "839a5e6f144b470c92f12e0d503ab816",
            "729cab0ff18343c0bc317c7081d679c4",
            "3e77e3b797a24db5a67a0f8e8a35e9a4",
            "4ca99d3a6ff444faaeff759d912641b0",
            "ce1325afb42e469c99e723f063b549c0",
            "3db9890e81cb4232a2a6c667bf5276fd",
            "fd2e2752fa064e50b66f3eef45301020",
            "6a19ce1c5a5d4fa5950ada0cef6d36b1",
            "12957058c69947e9aec0bb89daa2616e",
            "5ad9fdae680449f3b840fa2fc5249525",
            "269c5d5b9dd640c58d81dc7e979640d2",
            "bf9f63782962467c813d4fec5ca905d9",
            "f2046ee849744e838de49692c359f9e4",
            "ec31a78397ce4ee29af72f85d0c6986f",
            "6a37d00145eb4840a5e43e3a01389eb3",
            "14a0a11c6d5b481a93108061a34d4bc9",
            "ae0c54a9db124320bf382804c50959a2",
            "fa7437f6d40f46b4aa64282640ca4607",
            "4007dbe0a471483c86ce3990b3ec9eb8",
            "123aa01f05e84becbc91fbc807b40804",
            "2ed6ee0875cc432fa5024421b2ae25c3",
            "052871f9467540d390967c38da9d250f",
            "4739d15c165646ea9f7220a8849ee081"
          ]
        },
        "id": "Mk-VZDSDodEu",
        "outputId": "286f75fb-c3fd-4398-9fa9-97edaccc5364"
      },
      "source": [
        "from allennlp.predictors.predictor import Predictor\n",
        "import allennlp_models.tagging\n",
        "\n",
        "predictor = Predictor.from_path(\"https://storage.googleapis.com/allennlp-public-models/coref-spanbert-large-2021.03.10.tar.gz\", cuda_device=0)"
      ],
      "execution_count": 6,
      "outputs": [
        {
          "output_type": "stream",
          "name": "stdout",
          "text": [
            "[nltk_data] Downloading package punkt to /root/nltk_data...\n",
            "[nltk_data]   Unzipping tokenizers/punkt.zip.\n",
            "[nltk_data] Downloading package wordnet to /root/nltk_data...\n",
            "[nltk_data]   Unzipping corpora/wordnet.zip.\n"
          ]
        },
        {
          "output_type": "stream",
          "name": "stderr",
          "text": [
            "Plugin allennlp_models could not be loaded: No module named 'nltk.translate.meteor_score'\n",
            "downloading: 100%|##########| 1345986155/1345986155 [00:43<00:00, 31091910.26B/s]\n"
          ]
        },
        {
          "output_type": "display_data",
          "data": {
            "application/vnd.jupyter.widget-view+json": {
              "model_id": "1c18ca5ca40344dd8677d64c2e47d253",
              "version_minor": 0,
              "version_major": 2
            },
            "text/plain": [
              "Downloading:   0%|          | 0.00/414 [00:00<?, ?B/s]"
            ]
          },
          "metadata": {}
        },
        {
          "output_type": "display_data",
          "data": {
            "application/vnd.jupyter.widget-view+json": {
              "model_id": "729cab0ff18343c0bc317c7081d679c4",
              "version_minor": 0,
              "version_major": 2
            },
            "text/plain": [
              "Downloading:   0%|          | 0.00/213k [00:00<?, ?B/s]"
            ]
          },
          "metadata": {}
        },
        {
          "output_type": "display_data",
          "data": {
            "application/vnd.jupyter.widget-view+json": {
              "model_id": "f2046ee849744e838de49692c359f9e4",
              "version_minor": 0,
              "version_major": 2
            },
            "text/plain": [
              "Downloading:   0%|          | 0.00/665M [00:00<?, ?B/s]"
            ]
          },
          "metadata": {}
        },
        {
          "output_type": "stream",
          "name": "stderr",
          "text": [
            "Some weights of BertModel were not initialized from the model checkpoint at SpanBERT/spanbert-large-cased and are newly initialized: ['bert.pooler.dense.weight', 'bert.pooler.dense.bias']\n",
            "You should probably TRAIN this model on a down-stream task to be able to use it for predictions and inference.\n"
          ]
        }
      ]
    },
    {
      "cell_type": "markdown",
      "metadata": {
        "id": "ES3ec8o6_tPJ"
      },
      "source": [
        "### Подготовка данных"
      ]
    },
    {
      "cell_type": "code",
      "metadata": {
        "id": "O_GsuUj7_nHE"
      },
      "source": [
        "def parse(filename):\n",
        "  f = gzip.open(filename, 'r')\n",
        "  entry = {}\n",
        "  for l in f:\n",
        "    l = l.strip().decode('utf-8')\n",
        "    colonPos = l.find(':')\n",
        "    if colonPos == -1:\n",
        "      yield entry\n",
        "      entry = {}\n",
        "      continue\n",
        "    eName = l[:colonPos]\n",
        "    rest = l[colonPos+2:]\n",
        "    entry[eName] = rest\n",
        "  yield entry\n",
        "\n",
        "json_list = []\n",
        "for e in parse(\"/content/Video_Games.txt.gz\"):\n",
        "  json_list.append(e)"
      ],
      "execution_count": 12,
      "outputs": []
    },
    {
      "cell_type": "code",
      "metadata": {
        "id": "skfEO21UGBrU"
      },
      "source": [
        "df = pd.DataFrame(json_list)"
      ],
      "execution_count": 13,
      "outputs": []
    },
    {
      "cell_type": "code",
      "metadata": {
        "id": "LHorog2MGnq4"
      },
      "source": [
        "df = df.drop(['product/price', 'review/userId', 'review/profileName', 'review/helpfulness', 'review/time'], axis=1)\n",
        "df = df.dropna()"
      ],
      "execution_count": 14,
      "outputs": []
    },
    {
      "cell_type": "code",
      "metadata": {
        "colab": {
          "base_uri": "https://localhost:8080/",
          "height": 0
        },
        "id": "w8Bi_rH7IcFD",
        "outputId": "86cea528-22c0-478f-d405-7c3b1270026b"
      },
      "source": [
        "df.head()"
      ],
      "execution_count": 15,
      "outputs": [
        {
          "output_type": "execute_result",
          "data": {
            "text/html": [
              "<div>\n",
              "<style scoped>\n",
              "    .dataframe tbody tr th:only-of-type {\n",
              "        vertical-align: middle;\n",
              "    }\n",
              "\n",
              "    .dataframe tbody tr th {\n",
              "        vertical-align: top;\n",
              "    }\n",
              "\n",
              "    .dataframe thead th {\n",
              "        text-align: right;\n",
              "    }\n",
              "</style>\n",
              "<table border=\"1\" class=\"dataframe\">\n",
              "  <thead>\n",
              "    <tr style=\"text-align: right;\">\n",
              "      <th></th>\n",
              "      <th>product/productId</th>\n",
              "      <th>product/title</th>\n",
              "      <th>review/score</th>\n",
              "      <th>review/summary</th>\n",
              "      <th>review/text</th>\n",
              "    </tr>\n",
              "  </thead>\n",
              "  <tbody>\n",
              "    <tr>\n",
              "      <th>0</th>\n",
              "      <td>B000068VBQ</td>\n",
              "      <td>Fisher-Price Rescue Heroes: Lava Landslide</td>\n",
              "      <td>2.0</td>\n",
              "      <td>Requires too much coordination</td>\n",
              "      <td>I bought this software for my 5 year old. He h...</td>\n",
              "    </tr>\n",
              "    <tr>\n",
              "      <th>1</th>\n",
              "      <td>B000068VBQ</td>\n",
              "      <td>Fisher-Price Rescue Heroes: Lava Landslide</td>\n",
              "      <td>2.0</td>\n",
              "      <td>You can't pick which parts you want to play!</td>\n",
              "      <td>I got this for my 4 year old son because he re...</td>\n",
              "    </tr>\n",
              "    <tr>\n",
              "      <th>2</th>\n",
              "      <td>B000068VBQ</td>\n",
              "      <td>Fisher-Price Rescue Heroes: Lava Landslide</td>\n",
              "      <td>1.0</td>\n",
              "      <td>Doesn't work on a Mac</td>\n",
              "      <td>It clearly says on line this will work on a Ma...</td>\n",
              "    </tr>\n",
              "    <tr>\n",
              "      <th>3</th>\n",
              "      <td>B000068VBQ</td>\n",
              "      <td>Fisher-Price Rescue Heroes: Lava Landslide</td>\n",
              "      <td>1.0</td>\n",
              "      <td>Very Frustrating</td>\n",
              "      <td>My three year old son was very excited to get ...</td>\n",
              "    </tr>\n",
              "    <tr>\n",
              "      <th>4</th>\n",
              "      <td>B000068VBQ</td>\n",
              "      <td>Fisher-Price Rescue Heroes: Lava Landslide</td>\n",
              "      <td>4.0</td>\n",
              "      <td>enjoyable</td>\n",
              "      <td>My almost four year old loves this game. It ca...</td>\n",
              "    </tr>\n",
              "  </tbody>\n",
              "</table>\n",
              "</div>"
            ],
            "text/plain": [
              "  product/productId  ...                                        review/text\n",
              "0        B000068VBQ  ...  I bought this software for my 5 year old. He h...\n",
              "1        B000068VBQ  ...  I got this for my 4 year old son because he re...\n",
              "2        B000068VBQ  ...  It clearly says on line this will work on a Ma...\n",
              "3        B000068VBQ  ...  My three year old son was very excited to get ...\n",
              "4        B000068VBQ  ...  My almost four year old loves this game. It ca...\n",
              "\n",
              "[5 rows x 5 columns]"
            ]
          },
          "metadata": {},
          "execution_count": 15
        }
      ]
    },
    {
      "cell_type": "code",
      "metadata": {
        "id": "QxnKr3sEzX-U"
      },
      "source": [
        "texts = df['review/text'].values"
      ],
      "execution_count": 16,
      "outputs": []
    },
    {
      "cell_type": "markdown",
      "metadata": {
        "id": "0J5TEsaKzQ60"
      },
      "source": [
        "### 3 способа извлечь упоминания товаров"
      ]
    },
    {
      "cell_type": "markdown",
      "metadata": {
        "id": "HdBIT40GleoD"
      },
      "source": [
        "**1. Составить словарь по какой-либо базе данных**  \n",
        "Например, можно было бы взять все синонимы и гипонимы слова *game* из WordNet. Но я посмотрела и не обнаружила там нужного значения этого слова.  \n",
        "Могу предложить другие базы данных: [IGDB](https://www.igdb.com/api) (есть собственный API) или [WikiData](https://www.wikidata.org/wiki/Wikidata:WikiProject_Video_games/Lists/Genres). Также есть еще только зарождающаяся база [Glitchwave](https://glitchwave.com/games/genre/). Из них можно достать множество жанров игр, по пользователи могут отсылать к купленной игре.  \n",
        "**Плюсы:** быстро - не нужно иметь много данных и долго вытаскивать из них entity. Также список жанров обещает быть полным, местами даже избыточным.  \n",
        "**Есть минусы:** другие описательные названия игр вроде *CD, product, system*, program таким образом не отловятся. Также не получится таким образом собрать название техники, связанной с играми (а она есть в датасете), например *console, keyboard, headset*.\n"
      ]
    },
    {
      "cell_type": "markdown",
      "metadata": {
        "id": "vhaFOy9jnQPA"
      },
      "source": [
        "**2. Использовать контекстуальные эмбеддинги**  \n",
        "Предполагается, что языковая модель, учитывающая контекст, дает близкие вектора словам, относящимся к одной и той же сущности. Так мы можем специально вставить необходимый нам гипероним к тексту (*game* или *product*), получить эмбеддинги всего текста. Затем вытащить вектор целевого слова и сравнивать его косинусную близость со всеми остальными словами. Слова с близостью выше некоторого порога - то, что нам нужно.  \n",
        "**Плюсы:** найдутся сущности различных типов, включая все синонимы слова game, названия игр, техника, связанная с играми и т.д.  \n",
        "**Минусы:**найдется слишком много сущностей, вкючая местоимения и глаголы, которые часто встречаются с целевым словом - но это легко фильтруется. Другой минус - сложно работать с н-граммами, то есть нужно приложить больше усилий, чтобы найти например н-грамм video game.\n",
        "\n",
        "*Этот способ я начну реализовывать ниже и продемонстрирую плюсы и минусы.*"
      ]
    },
    {
      "cell_type": "markdown",
      "metadata": {
        "id": "ezx53jyWqHxc"
      },
      "source": [
        "**3. Использовать инструмент для разрешения кореференции**  \n",
        "Такие инструменты способны находить все упоминания той или иной сущности в тексте. Чтобы мы могли проконтроллировать, что нашлись упоминания нужной сущности, нужно добавить ее упоминание к началу текста самим. Я буду добавлять строку \"I brought this product,\".  \n",
        "**Плюсы:** можно найти все типы сущностей, игры, их названия, игровую технику. Может брать н-граммы в качестве сущностей. Не нужно изобретать велосипед.  \n",
        "**Минусы:** будут находится и местоимения, обозначающие сущность (но глаголы и т.п. как во 2 методе не будут). Иногда сущность может быть очень длинной, например, включать относительное придаточное.\n",
        "\n",
        "*Этот способ я выберу для этой домашки и реализую его.*"
      ]
    },
    {
      "cell_type": "markdown",
      "metadata": {
        "id": "yzdJlkzTzVOG"
      },
      "source": [
        "### Реализация одного из способов"
      ]
    },
    {
      "cell_type": "code",
      "metadata": {
        "id": "sUmgCCMLzoeP"
      },
      "source": [
        "device = 'cuda'\n",
        "model = model.to(device)"
      ],
      "execution_count": null,
      "outputs": []
    },
    {
      "cell_type": "code",
      "metadata": {
        "id": "oKZWX2uKz3JC"
      },
      "source": [
        "def get_embeddings(text):\n",
        "  tokenized_text = tokenizer.tokenize(text)\n",
        "  indexed_tokens = tokenizer.convert_tokens_to_ids(tokenized_text)\n",
        "  segments_ids = [1]*len(indexed_tokens)\n",
        "\n",
        "  tokens_tensor = torch.tensor([indexed_tokens], device=device)\n",
        "  segments_tensors = torch.tensor([segments_ids], device=device)\n",
        "  outputs = model(tokens_tensor, segments_tensors, output_hidden_states = True)\n",
        "  hidden_states = outputs[2][1:]\n",
        "\n",
        "  token_embeddings = hidden_states[-1]\n",
        "  token_embeddings = torch.squeeze(token_embeddings, dim=0)\n",
        "  embeddings = [token_embed.tolist() for token_embed in token_embeddings]\n",
        "  return tokenized_text, embeddings"
      ],
      "execution_count": null,
      "outputs": []
    },
    {
      "cell_type": "code",
      "metadata": {
        "id": "ODj7evvL0BBp"
      },
      "source": [
        "# объединяет OOV токены и их эмбеддинги\n",
        "def join_emb_by_token(tokens, embeds):\n",
        "  new_tokens = []\n",
        "  new_embeds = []\n",
        "  i = 0\n",
        "  j = 0\n",
        "  while i < len(tokens):\n",
        "    if tokens[i].startswith('##'):\n",
        "      part = tokens[i][2:]\n",
        "      new_embeds[j-1].append(embeds[i])\n",
        "      new_tokens[j-1] += part\n",
        "      i += 1\n",
        "    else:\n",
        "      new_tokens.append(tokens[i])\n",
        "      new_embeds.append([embeds[i]])\n",
        "      i += 1\n",
        "      j += 1\n",
        "  for i, emb in enumerate(new_embeds):\n",
        "    new_embeds[i] = np.mean(emb, axis=0)\n",
        "  return new_tokens, new_embeds"
      ],
      "execution_count": null,
      "outputs": []
    },
    {
      "cell_type": "markdown",
      "metadata": {
        "id": "5ruVKExr1Efs"
      },
      "source": [
        "#### SpanBert\n",
        "Идея: с помощью контекстуальных эмбеддингов найти токены, которые наиболее близки (по косинусной близости) к слову game.   \n",
        "Эмбеддинг слова game также беру из контекста (добавляю это слово в виде строки \"About the game:\" к тексту).  \n",
        "Для получения эбеддингов выбрала SpanBert, потому что это дообученный Bert в том числе для задачи coreference resolution."
      ]
    },
    {
      "cell_type": "code",
      "metadata": {
        "id": "RF8IpDjz0Hgx"
      },
      "source": [
        "def get_token_weights(text):\n",
        "  text = 'About the game:' + text\n",
        "  tokens, embs = get_embeddings(text)\n",
        "  tokens, embs = join_emb_by_token(tokens, embs)\n",
        "  target_emb = embs[2]\n",
        "  left_tokens = tokens[4:]\n",
        "  similarities = cosine_similarity(target_emb.reshape(1, -1), embs[4:])[0]\n",
        "\n",
        "  # изменим значения близостей для лучшего отображения на картинке\n",
        "  similarities = similarities**10\n",
        "  similarities -= similarities.min()\n",
        "  similarities /= similarities.max()\n",
        "  return left_tokens, similarities"
      ],
      "execution_count": null,
      "outputs": []
    },
    {
      "cell_type": "code",
      "metadata": {
        "id": "QL5geV6-1DAg"
      },
      "source": [
        "def draw_html(tokens_and_weights, cmap=plt.get_cmap(\"bwr\"), display=True,\n",
        "              token_template=\"\"\"<span style=\"background-color: {color_hex}\">{token}</span>\"\"\",\n",
        "              font_style=\"font-size:14px;\"\n",
        "             ):\n",
        "    \n",
        "    def get_color_hex(weight):\n",
        "        rgba = cmap(0.5 - weight/2, bytes=True)\n",
        "        return '#%02X%02X%02X' % rgba[:3]\n",
        "    \n",
        "    tokens_html = [\n",
        "        token_template.format(token=token, color_hex=get_color_hex(weight))\n",
        "        for token, weight in tokens_and_weights\n",
        "    ]\n",
        "    \n",
        "    raw_html = \"\"\"<p style=\"{}\">{}</p>\"\"\".format(font_style, ' '.join(tokens_html))\n",
        "    if display:\n",
        "        display_html(HTML(raw_html))\n",
        "        \n",
        "    return raw_html"
      ],
      "execution_count": null,
      "outputs": []
    },
    {
      "cell_type": "markdown",
      "metadata": {
        "id": "1jfteiUv2hrc"
      },
      "source": [
        "**Пример 1**  \n",
        "Видим, что выделяются слова *software, game, games, it*. По контексту понятно, что все этим слова действительно отсылают к товару.\n",
        "Есть и лишние слова - артикли *the* и местоимение *this* можно отсеять по части речи, но *exercise* нет."
      ]
    },
    {
      "cell_type": "code",
      "metadata": {
        "id": "vNSM9qxI19ng"
      },
      "source": [
        "tokens, weights = get_token_weights(texts[0])\n",
        "tokens_and_weights = list(zip(tokens, weights))"
      ],
      "execution_count": null,
      "outputs": []
    },
    {
      "cell_type": "code",
      "metadata": {
        "colab": {
          "base_uri": "https://localhost:8080/",
          "height": 151
        },
        "id": "P0FuL-VK1z4_",
        "outputId": "6b6c79a2-6608-47f7-cbb1-b6024bead201"
      },
      "source": [
        "draw_html([(tok, weight * 5) for tok, weight in tokens_and_weights], font_style='font-size:14px;');"
      ],
      "execution_count": null,
      "outputs": [
        {
          "output_type": "display_data",
          "data": {
            "text/html": [
              "<p style=\"font-size:14px;\"><span style=\"background-color: #F6F6FF\">I</span> <span style=\"background-color: #FEFEFF\">bought</span> <span style=\"background-color: #ACACFF\">this</span> <span style=\"background-color: #8383FF\">software</span> <span style=\"background-color: #FEFEFF\">for</span> <span style=\"background-color: #FEFEFF\">my</span> <span style=\"background-color: #FEFEFF\">5</span> <span style=\"background-color: #FEFEFF\">year</span> <span style=\"background-color: #FCFCFF\">old</span> <span style=\"background-color: #FEFEFF\">.</span> <span style=\"background-color: #FCFCFF\">He</span> <span style=\"background-color: #FEFEFF\">has</span> <span style=\"background-color: #FEFEFF\">a</span> <span style=\"background-color: #FEFEFF\">couple</span> <span style=\"background-color: #FEFEFF\">of</span> <span style=\"background-color: #FEFEFF\">the</span> <span style=\"background-color: #FEFEFF\">other</span> <span style=\"background-color: #FEFEFF\">RH</span> <span style=\"background-color: #FEFEFF\">software</span> <span style=\"background-color: #E3E3FF\">games</span> <span style=\"background-color: #FEFEFF\">and</span> <span style=\"background-color: #FEFEFF\">he</span> <span style=\"background-color: #FEFEFF\">likes</span> <span style=\"background-color: #FCFCFF\">them</span> <span style=\"background-color: #FEFEFF\">a</span> <span style=\"background-color: #FEFEFF\">lot</span> <span style=\"background-color: #FEFEFF\">.</span> <span style=\"background-color: #C0C0FF\">This</span> <span style=\"background-color: #0000FF\">game</span> <span style=\"background-color: #FEFEFF\">,</span> <span style=\"background-color: #FEFEFF\">however</span> <span style=\"background-color: #FEFEFF\">,</span> <span style=\"background-color: #FEFEFF\">was</span> <span style=\"background-color: #FEFEFF\">too</span> <span style=\"background-color: #FEFEFF\">challenging</span> <span style=\"background-color: #FEFEFF\">for</span> <span style=\"background-color: #FAFAFF\">him</span> <span style=\"background-color: #FEFEFF\">.</span> <span style=\"background-color: #FEFEFF\">The</span> <span style=\"background-color: #FEFEFF\">biggest</span> <span style=\"background-color: #FEFEFF\">problem</span> <span style=\"background-color: #FCFCFF\">I</span> <span style=\"background-color: #FEFEFF\">see</span> <span style=\"background-color: #FEFEFF\">is</span> <span style=\"background-color: #FEFEFF\">that</span> <span style=\"background-color: #D3D3FF\">the</span> <span style=\"background-color: #0000FF\">game</span> <span style=\"background-color: #FEFEFF\">requires</span> <span style=\"background-color: #FEFEFF\">the</span> <span style=\"background-color: #FEFEFF\">child</span> <span style=\"background-color: #FEFEFF\">to</span> <span style=\"background-color: #FEFEFF\">be</span> <span style=\"background-color: #FEFEFF\">able</span> <span style=\"background-color: #FEFEFF\">to</span> <span style=\"background-color: #FEFEFF\">maneuver</span> <span style=\"background-color: #FEFEFF\">the</span> <span style=\"background-color: #FEFEFF\">vehicle</span> <span style=\"background-color: #FEFEFF\">using</span> <span style=\"background-color: #FEFEFF\">all</span> <span style=\"background-color: #FEFEFF\">4</span> <span style=\"background-color: #FEFEFF\">scroll</span> <span style=\"background-color: #FEFEFF\">keys</span> <span style=\"background-color: #FEFEFF\">on</span> <span style=\"background-color: #FEFEFF\">the</span> <span style=\"background-color: #FEFEFF\">keyboard</span> <span style=\"background-color: #FEFEFF\">.</span> <span style=\"background-color: #FEFEFF\">During</span> <span style=\"background-color: #FEFEFF\">one</span> <span style=\"background-color: #FCFCFF\">exercise</span> <span style=\"background-color: #FEFEFF\">,</span> <span style=\"background-color: #FEFEFF\">which</span> <span style=\"background-color: #FEFEFF\">by</span> <span style=\"background-color: #FEFEFF\">the</span> <span style=\"background-color: #FEFEFF\">way</span> <span style=\"background-color: #FEFEFF\">you</span> <span style=\"background-color: #FEFEFF\">can</span> <span style=\"background-color: #FEFEFF\">'</span> <span style=\"background-color: #FEFEFF\">t</span> <span style=\"background-color: #FEFEFF\">get</span> <span style=\"background-color: #FEFEFF\">to</span> <span style=\"background-color: #FEFEFF\">the</span> <span style=\"background-color: #FEFEFF\">next</span> <span style=\"background-color: #FEFEFF\">level</span> <span style=\"background-color: #FEFEFF\">until</span> <span style=\"background-color: #FEFEFF\">you</span> <span style=\"background-color: #FEFEFF\">complete</span> <span style=\"background-color: #FCFCFF\">this</span> <span style=\"background-color: #F3F3FF\">exercise</span> <span style=\"background-color: #FEFEFF\">,</span> <span style=\"background-color: #DEDEFF\">the</span> <span style=\"background-color: #0000FF\">game</span> <span style=\"background-color: #FEFEFF\">requires</span> <span style=\"background-color: #FEFEFF\">that</span> <span style=\"background-color: #FEFEFF\">you</span> <span style=\"background-color: #FEFEFF\">use</span> <span style=\"background-color: #FEFEFF\">the</span> <span style=\"background-color: #FEFEFF\">keys</span> <span style=\"background-color: #FEFEFF\">to</span> <span style=\"background-color: #FEFEFF\">move</span> <span style=\"background-color: #FEFEFF\">while</span> <span style=\"background-color: #FEFEFF\">watching</span> <span style=\"background-color: #FEFEFF\">out</span> <span style=\"background-color: #FEFEFF\">for</span> <span style=\"background-color: #FEFEFF\">falling</span> <span style=\"background-color: #FEFEFF\">lava</span> <span style=\"background-color: #FEFEFF\">rocks</span> <span style=\"background-color: #FEFEFF\">and</span> <span style=\"background-color: #FEFEFF\">clouds</span> <span style=\"background-color: #FFFEFE\">,</span> <span style=\"background-color: #FEFEFF\">monitor</span> <span style=\"background-color: #FEFEFF\">a</span> <span style=\"background-color: #FEFEFF\">fuel</span> <span style=\"background-color: #FEFEFF\">gauge</span> <span style=\"background-color: #FEFEFF\">,</span> <span style=\"background-color: #FEFEFF\">watch</span> <span style=\"background-color: #FEFEFF\">arrow</span> <span style=\"background-color: #FEFEFF\">indicators</span> <span style=\"background-color: #FEFEFF\">that</span> <span style=\"background-color: #FEFEFF\">help</span> <span style=\"background-color: #FEFEFF\">you</span> <span style=\"background-color: #FEFEFF\">determine</span> <span style=\"background-color: #FEFEFF\">where</span> <span style=\"background-color: #FEFEFF\">objects</span> <span style=\"background-color: #FEFEFF\">are</span> <span style=\"background-color: #FEFEFF\">in</span> <span style=\"background-color: #FEFEFF\">the</span> <span style=\"background-color: #FEFEFF\">arena</span> <span style=\"background-color: #FEFEFF\">below</span> <span style=\"background-color: #FEFEFF\">,</span> <span style=\"background-color: #FEFEFF\">and</span> <span style=\"background-color: #FEFEFF\">watch</span> <span style=\"background-color: #FEFEFF\">a</span> <span style=\"background-color: #FEFEFF\">scope</span> <span style=\"background-color: #FEFEFF\">that</span> <span style=\"background-color: #FEFEFF\">shows</span> <span style=\"background-color: #FAFAFF\">animals</span> <span style=\"background-color: #FEFEFF\">when</span> <span style=\"background-color: #FEFEFF\">you</span> <span style=\"background-color: #FEFEFF\">'</span> <span style=\"background-color: #FEFEFF\">re</span> <span style=\"background-color: #FEFEFF\">hovering</span> <span style=\"background-color: #FEFEFF\">over</span> <span style=\"background-color: #FEFEFF\">the</span> <span style=\"background-color: #FEFEFF\">top</span> <span style=\"background-color: #FEFEFF\">of</span> <span style=\"background-color: #FCFCFF\">them</span> <span style=\"background-color: #FEFEFF\">.</span> <span style=\"background-color: #FCFCFF\">I</span> <span style=\"background-color: #FEFEFF\">tried</span> <span style=\"background-color: #FEFEFF\">to</span> <span style=\"background-color: #FEFEFF\">perform</span> <span style=\"background-color: #FCFCFF\">this</span> <span style=\"background-color: #FCFCFF\">exercise</span> <span style=\"background-color: #FEFEFF\">myself</span> <span style=\"background-color: #FEFEFF\">and</span> <span style=\"background-color: #FEFEFF\">got</span> <span style=\"background-color: #FEFEFF\">frustrated</span> <span style=\"background-color: #FEFEFF\">.</span> <span style=\"background-color: #FEFEFF\">It</span> <span style=\"background-color: #FEFEFF\">'</span> <span style=\"background-color: #FEFEFF\">s</span> <span style=\"background-color: #FEFEFF\">just</span> <span style=\"background-color: #FEFEFF\">too</span> <span style=\"background-color: #FEFEFF\">hard</span> <span style=\"background-color: #FEFEFF\">to</span> <span style=\"background-color: #FEFEFF\">expect</span> <span style=\"background-color: #FEFEFF\">even</span> <span style=\"background-color: #FEFEFF\">a</span> <span style=\"background-color: #FEFEFF\">7</span> <span style=\"background-color: #FEFEFF\">year</span> <span style=\"background-color: #FEFEFF\">old</span> <span style=\"background-color: #FEFEFF\">to</span> <span style=\"background-color: #FEFEFF\">complete</span> <span style=\"background-color: #FEFEFF\">this</span> <span style=\"background-color: #FEFEFF\">exercise</span> <span style=\"background-color: #FEFEFF\">let</span> <span style=\"background-color: #FEFEFF\">alone</span> <span style=\"background-color: #FEFEFF\">a</span> <span style=\"background-color: #FEFEFF\">5</span> <span style=\"background-color: #FEFEFF\">year</span> <span style=\"background-color: #FEFEFF\">old</span> <span style=\"background-color: #FEFEFF\">.</span> <span style=\"background-color: #FEFEFF\">There</span> <span style=\"background-color: #FEFEFF\">are</span> <span style=\"background-color: #FEFEFF\">some</span> <span style=\"background-color: #FEFEFF\">exercises</span> <span style=\"background-color: #FCFCFF\">he</span> <span style=\"background-color: #FEFEFF\">can</span> <span style=\"background-color: #FEFEFF\">complete</span> <span style=\"background-color: #FEFEFF\">himself</span> <span style=\"background-color: #FEFEFF\">but</span> <span style=\"background-color: #FEFEFF\">they</span> <span style=\"background-color: #FEFEFF\">mostly</span> <span style=\"background-color: #FEFEFF\">require</span> <span style=\"background-color: #FEFEFF\">using</span> <span style=\"background-color: #FEFEFF\">the</span> <span style=\"background-color: #FEFEFF\">left</span> <span style=\"background-color: #FEFEFF\">,</span> <span style=\"background-color: #FEFEFF\">right</span> <span style=\"background-color: #FEFEFF\">keys</span> <span style=\"background-color: #FEFEFF\">.</span> <span style=\"background-color: #F6F6FF\">I</span> <span style=\"background-color: #FEFEFF\">don</span> <span style=\"background-color: #FEFEFF\">'</span> <span style=\"background-color: #FEFEFF\">t</span> <span style=\"background-color: #FEFEFF\">know</span> <span style=\"background-color: #FEFEFF\">who</span> <span style=\"background-color: #C2C2FF\">this</span> <span style=\"background-color: #0000FF\">game</span> <span style=\"background-color: #FEFEFF\">would</span> <span style=\"background-color: #FEFEFF\">be</span> <span style=\"background-color: #FEFEFF\">good</span> <span style=\"background-color: #FEFEFF\">for</span> <span style=\"background-color: #FEFEFF\">.</span> <span style=\"background-color: #FEFEFF\">Parts</span> <span style=\"background-color: #FEFEFF\">of</span> <span style=\"background-color: #4949FF\">it</span> <span style=\"background-color: #FEFEFF\">would</span> <span style=\"background-color: #FEFEFF\">be</span> <span style=\"background-color: #FEFEFF\">too</span> <span style=\"background-color: #FEFEFF\">easy</span> <span style=\"background-color: #FEFEFF\">for</span> <span style=\"background-color: #FEFEFF\">someone</span> <span style=\"background-color: #FEFEFF\">7</span> <span style=\"background-color: #FEFEFF\">or</span> <span style=\"background-color: #FEFEFF\">older</span> <span style=\"background-color: #FEFEFF\">.</span> <span style=\"background-color: #FEFEFF\">Yet</span> <span style=\"background-color: #FEFEFF\">some</span> <span style=\"background-color: #FEFEFF\">parts</span> <span style=\"background-color: #FEFEFF\">are</span> <span style=\"background-color: #FEFEFF\">too</span> <span style=\"background-color: #FEFEFF\">difficult</span> <span style=\"background-color: #FEFEFF\">for</span> <span style=\"background-color: #FEFEFF\">those</span> <span style=\"background-color: #FEFEFF\">younger</span> <span style=\"background-color: #FEFEFF\">than</span> <span style=\"background-color: #FEFEFF\">that</span> <span style=\"background-color: #FEFEFF\">.</span></p>"
            ]
          },
          "metadata": {}
        }
      ]
    },
    {
      "cell_type": "markdown",
      "metadata": {
        "id": "E71ftIAE4bEp"
      },
      "source": [
        "**Пример 2**  \n",
        "Здесь товар упоминается как *CD*. В первом случае наш метод обнаруживает это упоминание, а во второй - нет. Зато находится много лишнего, как *girls, creativity, played*."
      ]
    },
    {
      "cell_type": "code",
      "metadata": {
        "id": "nxlhz3Kg4NHz"
      },
      "source": [
        "tokens, weights = get_token_weights(texts[12])\n",
        "tokens_and_weights = list(zip(tokens, weights))"
      ],
      "execution_count": null,
      "outputs": []
    },
    {
      "cell_type": "code",
      "metadata": {
        "colab": {
          "base_uri": "https://localhost:8080/",
          "height": 64
        },
        "id": "SSZKiHzS4Pn7",
        "outputId": "895df968-3d58-4406-f90b-3d22e443f975"
      },
      "source": [
        "draw_html([(tok, weight * 5) for tok, weight in tokens_and_weights], font_style='font-size:14px;');"
      ],
      "execution_count": null,
      "outputs": [
        {
          "output_type": "display_data",
          "data": {
            "text/html": [
              "<p style=\"font-size:14px;\"><span style=\"background-color: #E2E2FF\">My</span> <span style=\"background-color: #D8D8FF\">four</span> <span style=\"background-color: #ECECFF\">-</span> <span style=\"background-color: #9292FF\">year</span> <span style=\"background-color: #E3E3FF\">-</span> <span style=\"background-color: #8686FF\">old</span> <span style=\"background-color: #F2F2FF\">loved</span> <span style=\"background-color: #D8D8FF\">this</span> <span style=\"background-color: #0000FF\">CD</span> <span style=\"background-color: #FEFEFF\">.</span> <span style=\"background-color: #F0F0FF\">She</span> <span style=\"background-color: #4E4EFF\">played</span> <span style=\"background-color: #DEDEFF\">it</span> <span style=\"background-color: #F8F8FF\">over</span> <span style=\"background-color: #FAFAFF\">and</span> <span style=\"background-color: #E2E2FF\">over</span> <span style=\"background-color: #FEFEFF\">until</span> <span style=\"background-color: #F3F3FF\">she</span> <span style=\"background-color: #FEFEFF\">exhausted</span> <span style=\"background-color: #FFFEFE\">the</span> <span style=\"background-color: #F8F8FF\">CD</span> <span style=\"background-color: #F3F3FF\">about</span> <span style=\"background-color: #EEEEFF\">10</span> <span style=\"background-color: #C6C6FF\">times</span> <span style=\"background-color: #FAFAFF\">.</span> <span style=\"background-color: #F2F2FF\">She</span> <span style=\"background-color: #F0F0FF\">was</span> <span style=\"background-color: #EEEEFF\">able</span> <span style=\"background-color: #AAAAFF\">to</span> <span style=\"background-color: #A3A3FF\">play</span> <span style=\"background-color: #BCBCFF\">it</span> <span style=\"background-color: #FCFCFF\">by</span> <span style=\"background-color: #E8E8FF\">herself</span> <span style=\"background-color: #F0F0FF\">.</span> <span style=\"background-color: #0000FF\">It</span> <span style=\"background-color: #F6F6FF\">is</span> <span style=\"background-color: #F0F0FF\">cleverly</span> <span style=\"background-color: #DCDCFF\">designed</span> <span style=\"background-color: #E3E3FF\">with</span> <span style=\"background-color: #0000FF\">games</span> <span style=\"background-color: #ECECFF\">that</span> <span style=\"background-color: #FAFAFF\">utilize</span> <span style=\"background-color: #F2F2FF\">a</span> <span style=\"background-color: #D3D3FF\">child</span> <span style=\"background-color: #F8F8FF\">'</span> <span style=\"background-color: #F2F2FF\">s</span> <span style=\"background-color: #6C6CFF\">creativity</span> <span style=\"background-color: #FAFAFF\">.</span> <span style=\"background-color: #8A8AFF\">I</span> <span style=\"background-color: #FEFEFF\">highly</span> <span style=\"background-color: #FEFEFF\">recommend</span> <span style=\"background-color: #A8A8FF\">it</span> <span style=\"background-color: #FAFAFF\">for</span> <span style=\"background-color: #F3F3FF\">young</span> <span style=\"background-color: #0000FF\">girls</span> <span style=\"background-color: #D6D6FF\">.</span></p>"
            ]
          },
          "metadata": {}
        }
      ]
    },
    {
      "cell_type": "code",
      "metadata": {
        "id": "24T65YuU5_CT"
      },
      "source": [
        "def get_game_similar(text):\n",
        "  text = 'About the game:' + text\n",
        "  tokens, embs = get_embeddings(text)\n",
        "  tokens, embs = join_emb_by_token(tokens, embs)\n",
        "  target_emb = embs[2]\n",
        "  left_tokens = tokens[4:]\n",
        "  similarities = cosine_similarity(target_emb.reshape(1, -1), embs[4:])[0]\n",
        "  non_zero_sim = similarities[similarities >= 0.5]\n",
        "  non_zero_tok = np.array(left_tokens)[similarities >= 0.5]\n",
        "  inds = np.argsort(non_zero_sim)[::-1]\n",
        "  words = np.array(non_zero_tok)[inds]\n",
        "  filtered_words = [word for word in words if word.isalpha() and word != 'game' and word != 'games']\n",
        "  return filtered_words"
      ],
      "execution_count": null,
      "outputs": []
    },
    {
      "cell_type": "markdown",
      "metadata": {
        "id": "DkE9x5SC7D-O"
      },
      "source": [
        "**Попробуем собрать самые все слова**  \n",
        "Текстов больше 400 тыс. Чтобы не терять времени, соберу слова только из 10 тыс.   \n",
        "Лишних слов получилось действительно много, но многие из них можно отсеять фильтром по частям речи. Например, можно было бы оставить только существительные.   \n",
        "Главный минус этого подхода - он не находит н-граммы. Это следующий этап улучшения. Можно было бы объединять в н-граммы все слова, находящиеся рядом и превышающие порог косинусной близости. \n",
        "Но я не хочу изобретать велосипед, поэтому воспользуюсь готовым иструментом от AllenAI. 😉"
      ]
    },
    {
      "cell_type": "code",
      "metadata": {
        "colab": {
          "base_uri": "https://localhost:8080/"
        },
        "id": "CES5gDJ96LWH",
        "outputId": "10593a1e-cb78-4420-e3aa-7249725cf8ec"
      },
      "source": [
        "game_words = []\n",
        "for text in tqdm(texts[:10000]):\n",
        "  try:\n",
        "    words = get_game_similar(text)\n",
        "    game_words.extend(words)\n",
        "  except:\n",
        "    pass"
      ],
      "execution_count": null,
      "outputs": [
        {
          "output_type": "stream",
          "name": "stderr",
          "text": [
            "  1%|          | 124/10000 [00:16<21:10,  7.78it/s]Token indices sequence length is longer than the specified maximum sequence length for this model (581 > 512). Running this sequence through the model will result in indexing errors\n",
            "100%|██████████| 10000/10000 [21:17<00:00,  7.83it/s]\n"
          ]
        }
      ]
    },
    {
      "cell_type": "code",
      "metadata": {
        "colab": {
          "base_uri": "https://localhost:8080/"
        },
        "id": "a94tHKa-ARi3",
        "outputId": "9eecdfac-bf00-420e-a640-b7e29ad76f66"
      },
      "source": [
        "Counter(game_words).most_common(15)"
      ],
      "execution_count": null,
      "outputs": [
        {
          "output_type": "execute_result",
          "data": {
            "text/plain": [
              "[('it', 9316),\n",
              " ('this', 8197),\n",
              " ('I', 6680),\n",
              " ('the', 4687),\n",
              " ('This', 2836),\n",
              " ('It', 2089),\n",
              " ('The', 923),\n",
              " ('one', 750),\n",
              " ('i', 576),\n",
              " ('you', 439),\n",
              " ('me', 415),\n",
              " ('they', 348),\n",
              " ('its', 314),\n",
              " ('my', 312),\n",
              " ('version', 296)]"
            ]
          },
          "metadata": {},
          "execution_count": 22
        }
      ]
    },
    {
      "cell_type": "markdown",
      "metadata": {
        "id": "yaLInBLEBwz2"
      },
      "source": [
        "* Есть слова, которые действительно отсылают к товару: product, program, software, system, CD, RPG и названия игр (Diablo, Kombat, Vexx)\n",
        "* Некоторые слова показывают необходимость н-грамм: video (game), adventure (game)\n",
        "* Самые частотные слова тоже отсылают к товарам, но они нам не нужны и их нужно отсеять через стоп-слова или фильтры частей речи: it, this. (часть из них я убрала стоп-словами, а часть осталась из-за заглавной буквы)\n",
        "* Уже на этом этапе можно отследить, как покупатели характеризуют товар: fun, great, new"
      ]
    },
    {
      "cell_type": "code",
      "metadata": {
        "colab": {
          "base_uri": "https://localhost:8080/",
          "height": 310
        },
        "id": "hj_vwr8KAcgQ",
        "outputId": "1dd95bb6-7755-4339-d6ef-9ad905690b62"
      },
      "source": [
        "wordcloud = WordCloud(stopwords=stopwords, background_color=\"white\")\n",
        "freq = {a: b for a, b in Counter(game_words).items() if a not in stopwords}\n",
        "wordcloud.generate_from_frequencies(frequencies=freq)\n",
        "plt.figure(figsize=(10, 15))\n",
        "plt.imshow(wordcloud, interpolation='bilinear')\n",
        "plt.axis(\"off\")\n",
        "plt.show()"
      ],
      "execution_count": null,
      "outputs": [
        {
          "output_type": "display_data",
          "data": {
            "image/png": "[encoded data removed]",
            "text/plain": [
              "<Figure size 720x1080 with 1 Axes>"
            ]
          },
          "metadata": {
            "needs_background": "light"
          }
        }
      ]
    },
    {
      "cell_type": "markdown",
      "metadata": {
        "id": "qi4URxKLnlaU"
      },
      "source": [
        "#### Allen AI Coreference Resolution"
      ]
    },
    {
      "cell_type": "code",
      "metadata": {
        "id": "4svhS9fJw3Yv"
      },
      "source": [
        "def draw_html(tokens_and_weights, cmap=plt.get_cmap(\"bwr\"), display=True,\n",
        "              token_template=\"\"\"<span style=\"background-color: {color_hex}\">{token}</span>\"\"\",\n",
        "              font_style=\"font-size:14px;\"\n",
        "             ):\n",
        "    \n",
        "    def get_color_hex(weight):\n",
        "        rgba = cmap(weight, bytes=True)\n",
        "        return '#%02X%02X%02X' % rgba[:3]\n",
        "    \n",
        "    tokens_html = [\n",
        "        token_template.format(token=token, color_hex=get_color_hex(weight))\n",
        "        for token, weight in tokens_and_weights\n",
        "    ]\n",
        "    \n",
        "    raw_html = \"\"\"<p style=\"{}\">{}</p>\"\"\".format(font_style, ' '.join(tokens_html))\n",
        "    if display:\n",
        "        display_html(HTML(raw_html))\n",
        "        \n",
        "    return raw_html"
      ],
      "execution_count": null,
      "outputs": []
    },
    {
      "cell_type": "code",
      "metadata": {
        "id": "SRokKlZEqE6Y"
      },
      "source": [
        "def find_game_words_ext(text):\n",
        "  text = 'I brought this product, ' + text\n",
        "  res = predictor.predict(document=text)\n",
        "  cluster_words = []\n",
        "  cluster_ngrams = []\n",
        "  for cluster in res['clusters']:\n",
        "    words = []\n",
        "    words_ngram = []\n",
        "    for item in cluster:\n",
        "      words.extend(res['document'][item[0]: item[1]+1])\n",
        "      words_ngram.append(' '.join(res['document'][item[0]: item[1]+1]).lower())\n",
        "    cluster_words.append(words)\n",
        "    cluster_ngrams.append(words_ngram)\n",
        "\n",
        "  for i, ngrams in enumerate(cluster_ngrams):\n",
        "    if 'this product' in ngrams:\n",
        "      index = i\n",
        "      break\n",
        "  cluster = [item for sublist in res['clusters'][i] for item in sublist]\n",
        "  return cluster, cluster_ngrams[i], res['document']"
      ],
      "execution_count": null,
      "outputs": []
    },
    {
      "cell_type": "markdown",
      "metadata": {
        "id": "xAysZecx1hou"
      },
      "source": [
        "**Пример 1**"
      ]
    },
    {
      "cell_type": "code",
      "metadata": {
        "id": "qSqlQTZpxffk"
      },
      "source": [
        "cluster, ngrams, tokens = find_game_words_ext(texts[0])\n",
        "\n",
        "weights = [0.5] * len(tokens)\n",
        "weights = np.array(weights)\n",
        "weights[cluster] = 0.3"
      ],
      "execution_count": null,
      "outputs": []
    },
    {
      "cell_type": "code",
      "metadata": {
        "colab": {
          "base_uri": "https://localhost:8080/",
          "height": 185
        },
        "id": "HOX6wZNWzu8k",
        "outputId": "a038314a-7287-4aa9-80cc-a703fd24d188"
      },
      "source": [
        "tokens_and_weights = list(zip(tokens, weights))\n",
        "draw_html([(tok, weight) for tok, weight in tokens_and_weights], font_style='font-size:14px;');"
      ],
      "execution_count": null,
      "outputs": [
        {
          "output_type": "display_data",
          "data": {
            "text/html": [
              "<p style=\"font-size:14px;\"><span style=\"background-color: #FFFEFE\">I</span> <span style=\"background-color: #FFFEFE\">brought</span> <span style=\"background-color: #9898FF\">this</span> <span style=\"background-color: #9898FF\">product</span> <span style=\"background-color: #FFFEFE\">,</span> <span style=\"background-color: #FFFEFE\">I</span> <span style=\"background-color: #FFFEFE\">bought</span> <span style=\"background-color: #9898FF\">this</span> <span style=\"background-color: #9898FF\">software</span> <span style=\"background-color: #FFFEFE\">for</span> <span style=\"background-color: #FFFEFE\">my</span> <span style=\"background-color: #FFFEFE\">5</span> <span style=\"background-color: #FFFEFE\">year</span> <span style=\"background-color: #FFFEFE\">old</span> <span style=\"background-color: #FFFEFE\">.</span> <span style=\"background-color: #FFFEFE\">He</span> <span style=\"background-color: #FFFEFE\">has</span> <span style=\"background-color: #FFFEFE\">a</span> <span style=\"background-color: #FFFEFE\">couple</span> <span style=\"background-color: #FFFEFE\">of</span> <span style=\"background-color: #FFFEFE\">the</span> <span style=\"background-color: #FFFEFE\">other</span> <span style=\"background-color: #FFFEFE\">RH</span> <span style=\"background-color: #FFFEFE\">software</span> <span style=\"background-color: #FFFEFE\">games</span> <span style=\"background-color: #FFFEFE\">and</span> <span style=\"background-color: #FFFEFE\">he</span> <span style=\"background-color: #FFFEFE\">likes</span> <span style=\"background-color: #FFFEFE\">them</span> <span style=\"background-color: #FFFEFE\">a</span> <span style=\"background-color: #FFFEFE\">lot</span> <span style=\"background-color: #FFFEFE\">.</span> <span style=\"background-color: #9898FF\">This</span> <span style=\"background-color: #9898FF\">game</span> <span style=\"background-color: #FFFEFE\">,</span> <span style=\"background-color: #FFFEFE\">however</span> <span style=\"background-color: #FFFEFE\">,</span> <span style=\"background-color: #FFFEFE\">was</span> <span style=\"background-color: #FFFEFE\">too</span> <span style=\"background-color: #FFFEFE\">challenging</span> <span style=\"background-color: #FFFEFE\">for</span> <span style=\"background-color: #FFFEFE\">him</span> <span style=\"background-color: #FFFEFE\">.</span> <span style=\"background-color: #FFFEFE\">The</span> <span style=\"background-color: #FFFEFE\">biggest</span> <span style=\"background-color: #FFFEFE\">problem</span> <span style=\"background-color: #FFFEFE\">I</span> <span style=\"background-color: #FFFEFE\">see</span> <span style=\"background-color: #FFFEFE\">is</span> <span style=\"background-color: #FFFEFE\">that</span> <span style=\"background-color: #9898FF\">the</span> <span style=\"background-color: #9898FF\">game</span> <span style=\"background-color: #FFFEFE\">requires</span> <span style=\"background-color: #FFFEFE\">the</span> <span style=\"background-color: #FFFEFE\">child</span> <span style=\"background-color: #FFFEFE\">to</span> <span style=\"background-color: #FFFEFE\">be</span> <span style=\"background-color: #FFFEFE\">able</span> <span style=\"background-color: #FFFEFE\">to</span> <span style=\"background-color: #FFFEFE\">maneuver</span> <span style=\"background-color: #FFFEFE\">the</span> <span style=\"background-color: #FFFEFE\">vehicle</span> <span style=\"background-color: #FFFEFE\">using</span> <span style=\"background-color: #FFFEFE\">all</span> <span style=\"background-color: #FFFEFE\">4</span> <span style=\"background-color: #FFFEFE\">scroll</span> <span style=\"background-color: #FFFEFE\">keys</span> <span style=\"background-color: #FFFEFE\">on</span> <span style=\"background-color: #FFFEFE\">the</span> <span style=\"background-color: #FFFEFE\">keyboard</span> <span style=\"background-color: #FFFEFE\">.</span> <span style=\"background-color: #FFFEFE\">During</span> <span style=\"background-color: #FFFEFE\">one</span> <span style=\"background-color: #FFFEFE\">exercise</span> <span style=\"background-color: #FFFEFE\">,</span> <span style=\"background-color: #FFFEFE\">which</span> <span style=\"background-color: #FFFEFE\">by</span> <span style=\"background-color: #FFFEFE\">the</span> <span style=\"background-color: #FFFEFE\">way</span> <span style=\"background-color: #FFFEFE\">you</span> <span style=\"background-color: #FFFEFE\">ca</span> <span style=\"background-color: #FFFEFE\">n't</span> <span style=\"background-color: #FFFEFE\">get</span> <span style=\"background-color: #FFFEFE\">to</span> <span style=\"background-color: #FFFEFE\">the</span> <span style=\"background-color: #FFFEFE\">next</span> <span style=\"background-color: #FFFEFE\">level</span> <span style=\"background-color: #FFFEFE\">until</span> <span style=\"background-color: #FFFEFE\">you</span> <span style=\"background-color: #FFFEFE\">complete</span> <span style=\"background-color: #FFFEFE\">this</span> <span style=\"background-color: #FFFEFE\">exercise</span> <span style=\"background-color: #FFFEFE\">,</span> <span style=\"background-color: #9898FF\">the</span> <span style=\"background-color: #9898FF\">game</span> <span style=\"background-color: #FFFEFE\">requires</span> <span style=\"background-color: #FFFEFE\">that</span> <span style=\"background-color: #FFFEFE\">you</span> <span style=\"background-color: #FFFEFE\">use</span> <span style=\"background-color: #FFFEFE\">the</span> <span style=\"background-color: #FFFEFE\">keys</span> <span style=\"background-color: #FFFEFE\">to</span> <span style=\"background-color: #FFFEFE\">move</span> <span style=\"background-color: #FFFEFE\">while</span> <span style=\"background-color: #FFFEFE\">watching</span> <span style=\"background-color: #FFFEFE\">out</span> <span style=\"background-color: #FFFEFE\">for</span> <span style=\"background-color: #FFFEFE\">falling</span> <span style=\"background-color: #FFFEFE\">lava</span> <span style=\"background-color: #FFFEFE\">rocks</span> <span style=\"background-color: #FFFEFE\">and</span> <span style=\"background-color: #FFFEFE\">clouds</span> <span style=\"background-color: #FFFEFE\">,</span> <span style=\"background-color: #FFFEFE\">monitor</span> <span style=\"background-color: #FFFEFE\">a</span> <span style=\"background-color: #FFFEFE\">fuel</span> <span style=\"background-color: #FFFEFE\">gauge</span> <span style=\"background-color: #FFFEFE\">,</span> <span style=\"background-color: #FFFEFE\">watch</span> <span style=\"background-color: #FFFEFE\">arrow</span> <span style=\"background-color: #FFFEFE\">indicators</span> <span style=\"background-color: #FFFEFE\">that</span> <span style=\"background-color: #FFFEFE\">help</span> <span style=\"background-color: #FFFEFE\">you</span> <span style=\"background-color: #FFFEFE\">determine</span> <span style=\"background-color: #FFFEFE\">where</span> <span style=\"background-color: #FFFEFE\">objects</span> <span style=\"background-color: #FFFEFE\">are</span> <span style=\"background-color: #FFFEFE\">in</span> <span style=\"background-color: #FFFEFE\">the</span> <span style=\"background-color: #FFFEFE\">arena</span> <span style=\"background-color: #FFFEFE\">below</span> <span style=\"background-color: #FFFEFE\">,</span> <span style=\"background-color: #FFFEFE\">and</span> <span style=\"background-color: #FFFEFE\">watch</span> <span style=\"background-color: #FFFEFE\">a</span> <span style=\"background-color: #FFFEFE\">scope</span> <span style=\"background-color: #FFFEFE\">that</span> <span style=\"background-color: #FFFEFE\">shows</span> <span style=\"background-color: #FFFEFE\">animals</span> <span style=\"background-color: #FFFEFE\">when</span> <span style=\"background-color: #FFFEFE\">you</span> <span style=\"background-color: #FFFEFE\">'re</span> <span style=\"background-color: #FFFEFE\">hovering</span> <span style=\"background-color: #FFFEFE\">over</span> <span style=\"background-color: #FFFEFE\">the</span> <span style=\"background-color: #FFFEFE\">top</span> <span style=\"background-color: #FFFEFE\">of</span> <span style=\"background-color: #FFFEFE\">them</span> <span style=\"background-color: #FFFEFE\">.</span> <span style=\"background-color: #FFFEFE\">I</span> <span style=\"background-color: #FFFEFE\">tried</span> <span style=\"background-color: #FFFEFE\">to</span> <span style=\"background-color: #FFFEFE\">perform</span> <span style=\"background-color: #FFFEFE\">this</span> <span style=\"background-color: #FFFEFE\">exercise</span> <span style=\"background-color: #FFFEFE\">myself</span> <span style=\"background-color: #FFFEFE\">and</span> <span style=\"background-color: #FFFEFE\">got</span> <span style=\"background-color: #FFFEFE\">frustrated</span> <span style=\"background-color: #FFFEFE\">.</span> <span style=\"background-color: #FFFEFE\">It</span> <span style=\"background-color: #FFFEFE\">'s</span> <span style=\"background-color: #FFFEFE\">just</span> <span style=\"background-color: #FFFEFE\">too</span> <span style=\"background-color: #FFFEFE\">hard</span> <span style=\"background-color: #FFFEFE\">to</span> <span style=\"background-color: #FFFEFE\">expect</span> <span style=\"background-color: #FFFEFE\">even</span> <span style=\"background-color: #FFFEFE\">a</span> <span style=\"background-color: #FFFEFE\">7</span> <span style=\"background-color: #FFFEFE\">year</span> <span style=\"background-color: #FFFEFE\">old</span> <span style=\"background-color: #FFFEFE\">to</span> <span style=\"background-color: #FFFEFE\">complete</span> <span style=\"background-color: #FFFEFE\">this</span> <span style=\"background-color: #FFFEFE\">exercise</span> <span style=\"background-color: #FFFEFE\">let</span> <span style=\"background-color: #FFFEFE\">alone</span> <span style=\"background-color: #FFFEFE\">a</span> <span style=\"background-color: #FFFEFE\">5</span> <span style=\"background-color: #FFFEFE\">year</span> <span style=\"background-color: #FFFEFE\">old</span> <span style=\"background-color: #FFFEFE\">.</span> <span style=\"background-color: #FFFEFE\">There</span> <span style=\"background-color: #FFFEFE\">are</span> <span style=\"background-color: #FFFEFE\">some</span> <span style=\"background-color: #FFFEFE\">exercises</span> <span style=\"background-color: #FFFEFE\">he</span> <span style=\"background-color: #FFFEFE\">can</span> <span style=\"background-color: #FFFEFE\">complete</span> <span style=\"background-color: #FFFEFE\">himself</span> <span style=\"background-color: #FFFEFE\">but</span> <span style=\"background-color: #FFFEFE\">they</span> <span style=\"background-color: #FFFEFE\">mostly</span> <span style=\"background-color: #FFFEFE\">require</span> <span style=\"background-color: #FFFEFE\">using</span> <span style=\"background-color: #FFFEFE\">the</span> <span style=\"background-color: #FFFEFE\">left</span> <span style=\"background-color: #FFFEFE\">,</span> <span style=\"background-color: #FFFEFE\">right</span> <span style=\"background-color: #FFFEFE\">keys</span> <span style=\"background-color: #FFFEFE\">.</span> <span style=\"background-color: #FFFEFE\">I</span> <span style=\"background-color: #FFFEFE\">do</span> <span style=\"background-color: #FFFEFE\">n't</span> <span style=\"background-color: #FFFEFE\">know</span> <span style=\"background-color: #FFFEFE\">who</span> <span style=\"background-color: #9898FF\">this</span> <span style=\"background-color: #9898FF\">game</span> <span style=\"background-color: #FFFEFE\">would</span> <span style=\"background-color: #FFFEFE\">be</span> <span style=\"background-color: #FFFEFE\">good</span> <span style=\"background-color: #FFFEFE\">for</span> <span style=\"background-color: #FFFEFE\">.</span> <span style=\"background-color: #FFFEFE\">Parts</span> <span style=\"background-color: #FFFEFE\">of</span> <span style=\"background-color: #9898FF\">it</span> <span style=\"background-color: #FFFEFE\">would</span> <span style=\"background-color: #FFFEFE\">be</span> <span style=\"background-color: #FFFEFE\">too</span> <span style=\"background-color: #FFFEFE\">easy</span> <span style=\"background-color: #FFFEFE\">for</span> <span style=\"background-color: #FFFEFE\">someone</span> <span style=\"background-color: #FFFEFE\">7</span> <span style=\"background-color: #FFFEFE\">or</span> <span style=\"background-color: #FFFEFE\">older</span> <span style=\"background-color: #FFFEFE\">.</span> <span style=\"background-color: #FFFEFE\">Yet</span> <span style=\"background-color: #FFFEFE\">some</span> <span style=\"background-color: #FFFEFE\">parts</span> <span style=\"background-color: #FFFEFE\">are</span> <span style=\"background-color: #FFFEFE\">too</span> <span style=\"background-color: #FFFEFE\">difficult</span> <span style=\"background-color: #FFFEFE\">for</span> <span style=\"background-color: #FFFEFE\">those</span> <span style=\"background-color: #FFFEFE\">younger</span> <span style=\"background-color: #FFFEFE\">than</span> <span style=\"background-color: #FFFEFE\">that</span> <span style=\"background-color: #FFFEFE\">.</span></p>"
            ]
          },
          "metadata": {}
        }
      ]
    },
    {
      "cell_type": "markdown",
      "metadata": {
        "id": "3wkzDxx81miH"
      },
      "source": [
        "**Пример 2**"
      ]
    },
    {
      "cell_type": "code",
      "metadata": {
        "id": "_GXY0U6I1Lrv"
      },
      "source": [
        "cluster, ngrams, tokens = find_game_words_ext(texts[12])\n",
        "\n",
        "weights = [0.5] * len(tokens)\n",
        "weights = np.array(weights)\n",
        "weights[cluster] = 0.3"
      ],
      "execution_count": null,
      "outputs": []
    },
    {
      "cell_type": "code",
      "metadata": {
        "colab": {
          "base_uri": "https://localhost:8080/",
          "height": 64
        },
        "id": "vNTX5txs1UlV",
        "outputId": "bbd3b642-d5be-43fa-afe9-060ceb122529"
      },
      "source": [
        "tokens_and_weights = list(zip(tokens, weights))\n",
        "draw_html([(tok, weight) for tok, weight in tokens_and_weights], font_style='font-size:14px;');"
      ],
      "execution_count": null,
      "outputs": [
        {
          "output_type": "display_data",
          "data": {
            "text/html": [
              "<p style=\"font-size:14px;\"><span style=\"background-color: #FFFEFE\">I</span> <span style=\"background-color: #FFFEFE\">brought</span> <span style=\"background-color: #9898FF\">this</span> <span style=\"background-color: #9898FF\">product</span> <span style=\"background-color: #FFFEFE\">,</span> <span style=\"background-color: #FFFEFE\">My</span> <span style=\"background-color: #FFFEFE\">four</span> <span style=\"background-color: #FFFEFE\">-</span> <span style=\"background-color: #FFFEFE\">year</span> <span style=\"background-color: #FFFEFE\">-</span> <span style=\"background-color: #FFFEFE\">old</span> <span style=\"background-color: #FFFEFE\">loved</span> <span style=\"background-color: #9898FF\">this</span> <span style=\"background-color: #9898FF\">CD</span> <span style=\"background-color: #FFFEFE\">.</span> <span style=\"background-color: #FFFEFE\">She</span> <span style=\"background-color: #FFFEFE\">played</span> <span style=\"background-color: #9898FF\">it</span> <span style=\"background-color: #FFFEFE\">over</span> <span style=\"background-color: #FFFEFE\">and</span> <span style=\"background-color: #FFFEFE\">over</span> <span style=\"background-color: #FFFEFE\">until</span> <span style=\"background-color: #FFFEFE\">she</span> <span style=\"background-color: #FFFEFE\">exhausted</span> <span style=\"background-color: #9898FF\">the</span> <span style=\"background-color: #9898FF\">CD</span> <span style=\"background-color: #FFFEFE\">about</span> <span style=\"background-color: #FFFEFE\">10</span> <span style=\"background-color: #FFFEFE\">times</span> <span style=\"background-color: #FFFEFE\">.</span> <span style=\"background-color: #FFFEFE\">She</span> <span style=\"background-color: #FFFEFE\">was</span> <span style=\"background-color: #FFFEFE\">able</span> <span style=\"background-color: #FFFEFE\">to</span> <span style=\"background-color: #FFFEFE\">play</span> <span style=\"background-color: #9898FF\">it</span> <span style=\"background-color: #FFFEFE\">by</span> <span style=\"background-color: #FFFEFE\">herself</span> <span style=\"background-color: #FFFEFE\">.</span> <span style=\"background-color: #9898FF\">It</span> <span style=\"background-color: #FFFEFE\">is</span> <span style=\"background-color: #FFFEFE\">cleverly</span> <span style=\"background-color: #FFFEFE\">designed</span> <span style=\"background-color: #FFFEFE\">with</span> <span style=\"background-color: #FFFEFE\">games</span> <span style=\"background-color: #FFFEFE\">that</span> <span style=\"background-color: #FFFEFE\">utilize</span> <span style=\"background-color: #FFFEFE\">a</span> <span style=\"background-color: #FFFEFE\">child</span> <span style=\"background-color: #FFFEFE\">'s</span> <span style=\"background-color: #FFFEFE\">creativity</span> <span style=\"background-color: #FFFEFE\">.</span> <span style=\"background-color: #FFFEFE\">I</span> <span style=\"background-color: #FFFEFE\">highly</span> <span style=\"background-color: #FFFEFE\">recommend</span> <span style=\"background-color: #9898FF\">it</span> <span style=\"background-color: #FFFEFE\">for</span> <span style=\"background-color: #FFFEFE\">young</span> <span style=\"background-color: #FFFEFE\">girls</span> <span style=\"background-color: #FFFEFE\">.</span></p>"
            ]
          },
          "metadata": {}
        }
      ]
    },
    {
      "cell_type": "markdown",
      "metadata": {
        "id": "vY-gOIBm1ul6"
      },
      "source": [
        "**Размечаем все**"
      ]
    },
    {
      "cell_type": "code",
      "metadata": {
        "id": "OTH26xSP1wSY"
      },
      "source": [
        "def find_game_words(text):\n",
        "  text = 'I brought this product, ' + text\n",
        "  res = predictor.predict(document=text)\n",
        "  cluster_ngrams = []\n",
        "  for cluster in res['clusters']:\n",
        "    words_ngram = []\n",
        "    for item in cluster:\n",
        "      words_ngram.append(' '.join(res['document'][item[0]: item[1]+1]).lower())\n",
        "    cluster_ngrams.append(words_ngram)\n",
        "\n",
        "  index = -1\n",
        "  for i, ngrams in enumerate(cluster_ngrams):\n",
        "    if 'this product' in ngrams:\n",
        "      index = i\n",
        "      break\n",
        "  if index != -1:\n",
        "    return cluster_ngrams[index]\n",
        "  else:\n",
        "    return []"
      ],
      "execution_count": null,
      "outputs": []
    },
    {
      "cell_type": "code",
      "metadata": {
        "id": "6TzSnm0L5Ygo"
      },
      "source": [
        "random.shuffle(texts)"
      ],
      "execution_count": null,
      "outputs": []
    },
    {
      "cell_type": "code",
      "metadata": {
        "id": "JD_4LT5ijKjR"
      },
      "source": [
        "game_words = []"
      ],
      "execution_count": null,
      "outputs": []
    },
    {
      "cell_type": "code",
      "metadata": {
        "colab": {
          "base_uri": "https://localhost:8080/"
        },
        "id": "CR_8tTKP2HkV",
        "outputId": "d67ed2af-ba7f-4436-f543-55c2bccdebb8"
      },
      "source": [
        "for i in tqdm(range(30000, 40000)):\n",
        "  if len(texts[i]) > 4000:\n",
        "    continue\n",
        "  game_words.extend(find_game_words(texts[i]))"
      ],
      "execution_count": null,
      "outputs": [
        {
          "output_type": "stream",
          "name": "stderr",
          "text": [
            "100%|█████████▉| 9996/10000 [57:00<00:00,  6.64it/s]"
          ]
        }
      ]
    },
    {
      "cell_type": "code",
      "metadata": {
        "id": "_t96i_PFl8hM"
      },
      "source": [
        "# with open('game_words.txt', 'w', encoding='utf-8') as f:\n",
        "#   f.write('\\n'.join(game_words))"
      ],
      "execution_count": null,
      "outputs": []
    },
    {
      "cell_type": "markdown",
      "metadata": {
        "id": "6421YvcJXeIB"
      },
      "source": [
        "#### Посмотрим, что получилось\n",
        "Я загружаю из файла, потому что колаб сыграл со мной злую шутку и сломался спустя 3+ часа обработки. Второй раз уже сохраняла в файл..."
      ]
    },
    {
      "cell_type": "code",
      "metadata": {
        "id": "OPX-ZhuPXp8D"
      },
      "source": [
        "with open('game_words.txt', 'r', encoding='utf-8') as f:\n",
        "  text = f.read()\n",
        "game_words = text.split('\\n')"
      ],
      "execution_count": 7,
      "outputs": []
    },
    {
      "cell_type": "code",
      "metadata": {
        "id": "nQJU4lijhEKU",
        "colab": {
          "base_uri": "https://localhost:8080/"
        },
        "outputId": "baf18cd8-19ab-4dd5-cfc9-9ad821969aa6"
      },
      "source": [
        "# 15 most common\n",
        "Counter(game_words).most_common(15)"
      ],
      "execution_count": null,
      "outputs": [
        {
          "output_type": "execute_result",
          "data": {
            "text/plain": [
              "[('it', 50995),\n",
              " ('this product', 30974),\n",
              " ('this game', 29581),\n",
              " ('the game', 17301),\n",
              " ('this', 13131),\n",
              " ('its', 3871),\n",
              " ('this one', 2043),\n",
              " (\"it 's\", 443),\n",
              " ('itself', 373),\n",
              " ('they', 327),\n",
              " (\"the game 's\", 314),\n",
              " ('the game itself', 283),\n",
              " ('the product', 277),\n",
              " ('this controller', 263),\n",
              " ('this title', 253)]"
            ]
          },
          "metadata": {},
          "execution_count": 14
        }
      ]
    },
    {
      "cell_type": "code",
      "metadata": {
        "colab": {
          "base_uri": "https://localhost:8080/"
        },
        "id": "KxSVa89PYit3",
        "outputId": "d97e8938-25e1-4057-8a95-a5e3a13fe9d7"
      },
      "source": [
        "# 15 least common\n",
        "Counter(game_words).most_common()[:-15:-1]"
      ],
      "execution_count": null,
      "outputs": [
        {
          "output_type": "execute_result",
          "data": {
            "text/plain": [
              "[('sargeant rico', 1),\n",
              " (\"republic 's\", 1),\n",
              " ('\" elf bowling \"', 1),\n",
              " ('this zboard', 1),\n",
              " ('the dora the explorer animal adventures game', 1),\n",
              " ('this good of a game!it', 1),\n",
              " ('not so great game', 1),\n",
              " ('imho', 1),\n",
              " ('bof', 1),\n",
              " ('this sweet bmx title', 1),\n",
              " ('this hype game', 1),\n",
              " ('this latest installment in the metal gear series', 1),\n",
              " ('well done masterpiece of a game', 1),\n",
              " ('lousy game .', 1)]"
            ]
          },
          "metadata": {},
          "execution_count": 15
        }
      ]
    },
    {
      "cell_type": "code",
      "metadata": {
        "id": "XnofumnkauPE"
      },
      "source": [
        "def filter_product_names(product_names):\n",
        "  banned_pos = ['DT', 'PRP', 'PRP$', 'DT$']\n",
        "  filtered = []\n",
        "  for name in product_names:\n",
        "    res = nltk.pos_tag(word_tokenize(name))\n",
        "    final = [pair for pair in res if pair[1] not in banned_pos]\n",
        "    if \" 's\" in name:\n",
        "      final = []\n",
        "    if final:\n",
        "      filtered.append(name)\n",
        "  return filtered"
      ],
      "execution_count": 9,
      "outputs": []
    },
    {
      "cell_type": "code",
      "metadata": {
        "colab": {
          "base_uri": "https://localhost:8080/"
        },
        "id": "YoDQxXLcY3_-",
        "outputId": "69b633e5-100a-4bee-d8f5-e4eb9b7fea33"
      },
      "source": [
        "c = Counter(game_words).most_common()\n",
        "print(f'Количество найденных названий: {len(c)}')\n",
        "product_names = [pair[0] for pair in c if pair[1] >= 30]\n",
        "product_names = filter_product_names(product_names)\n",
        "print(f'Количество названий после фильтров: {len(product_names)}')"
      ],
      "execution_count": 10,
      "outputs": [
        {
          "output_type": "stream",
          "name": "stdout",
          "text": [
            "Количество найденных названий: 7721\n",
            "Количество названий после фильтров: 88\n"
          ]
        }
      ]
    },
    {
      "cell_type": "code",
      "metadata": {
        "colab": {
          "base_uri": "https://localhost:8080/"
        },
        "id": "hvDZZFjbZoG8",
        "outputId": "f789bac8-472b-4301-a65f-7dd961b6ed75"
      },
      "source": [
        "product_names[:10]"
      ],
      "execution_count": null,
      "outputs": [
        {
          "output_type": "execute_result",
          "data": {
            "text/plain": [
              "['this product',\n",
              " 'this game',\n",
              " 'the game',\n",
              " 'this one',\n",
              " 'the game itself',\n",
              " 'the product',\n",
              " 'this controller',\n",
              " 'this title',\n",
              " 'this thing',\n",
              " 'this item']"
            ]
          },
          "metadata": {},
          "execution_count": 18
        }
      ]
    },
    {
      "cell_type": "markdown",
      "metadata": {
        "id": "mHqKAQwne32d"
      },
      "source": [
        "## Выделение коллокаций"
      ]
    },
    {
      "cell_type": "markdown",
      "metadata": {
        "id": "gsvjSZi31ITE"
      },
      "source": [
        "#### Считаем то, что пригодится для всех коллокаций"
      ]
    },
    {
      "cell_type": "code",
      "metadata": {
        "colab": {
          "base_uri": "https://localhost:8080/"
        },
        "id": "37KhNdl6e1Ad",
        "outputId": "46d691bc-b003-47dc-9d25-8d40070694f3"
      },
      "source": [
        "tokenized_texts = []\n",
        "for text in tqdm(texts):\n",
        "  tokenized_texts.append(word_tokenize(text))"
      ],
      "execution_count": 17,
      "outputs": [
        {
          "output_type": "stream",
          "name": "stderr",
          "text": [
            "100%|██████████| 463669/463669 [09:17<00:00, 831.05it/s]\n"
          ]
        }
      ]
    },
    {
      "cell_type": "code",
      "metadata": {
        "colab": {
          "base_uri": "https://localhost:8080/"
        },
        "id": "ZWyTHjsdr9ZT",
        "outputId": "e14d9c3e-8079-432c-d532-cc1acbde901e"
      },
      "source": [
        "vectorizer = CountVectorizer()\n",
        "count_vecs = vectorizer.fit_transform(texts)\n",
        "features = vectorizer.get_feature_names()"
      ],
      "execution_count": 18,
      "outputs": [
        {
          "output_type": "stream",
          "name": "stderr",
          "text": [
            "/usr/local/lib/python3.7/dist-packages/sklearn/utils/deprecation.py:87: FutureWarning: Function get_feature_names is deprecated; get_feature_names is deprecated in 1.0 and will be removed in 1.2. Please use get_feature_names_out instead.\n",
            "  warnings.warn(msg, category=FutureWarning)\n"
          ]
        }
      ]
    },
    {
      "cell_type": "code",
      "metadata": {
        "id": "EwU7eyfZwhsp"
      },
      "source": [
        "lens = [len(tokens) for tokens in tokenized_texts]\n",
        "all_words_in_corpus = sum(lens)"
      ],
      "execution_count": 19,
      "outputs": []
    },
    {
      "cell_type": "markdown",
      "metadata": {
        "id": "yJqezZne1P_3"
      },
      "source": [
        "#### Функция для выделения коллокаций"
      ]
    },
    {
      "cell_type": "code",
      "metadata": {
        "id": "3BNOcL2J0My3"
      },
      "source": [
        "def find_ngrams(product_name):\n",
        "  curr_name = product_name.split()\n",
        "  before_words = []\n",
        "  after_words = []\n",
        "  curr_name_count = 0\n",
        "  for tokens in tqdm(tokenized_texts):\n",
        "    for i in range(len(tokens)-len(curr_name)+1):\n",
        "      if tokens[i:i+len(curr_name)] == curr_name:\n",
        "        if i > 0 and tokens[i-1].isalpha():\n",
        "          before_words.append(tokens[i-1])\n",
        "        if i+len(curr_name) < len(tokens) and tokens[i+len(curr_name)].isalpha():\n",
        "          after_words.append(tokens[i+len(curr_name)])\n",
        "        curr_name_count += 1\n",
        "  return before_words, after_words, curr_name_count"
      ],
      "execution_count": 20,
      "outputs": []
    },
    {
      "cell_type": "code",
      "metadata": {
        "colab": {
          "base_uri": "https://localhost:8080/"
        },
        "id": "zUJKqkKV2W7V",
        "outputId": "b97975d9-7ead-45a9-8787-6e724f4a3c0f"
      },
      "source": [
        "before_grams, after_grams, curr_name_count = find_ngrams('this product')"
      ],
      "execution_count": null,
      "outputs": [
        {
          "output_type": "stream",
          "name": "stderr",
          "text": [
            "100%|██████████| 463669/463669 [00:18<00:00, 25085.62it/s]\n"
          ]
        }
      ]
    },
    {
      "cell_type": "code",
      "metadata": {
        "colab": {
          "base_uri": "https://localhost:8080/"
        },
        "id": "mBAahNeH2kH4",
        "outputId": "d86e2462-8adb-46f8-8801-875d213f77b3"
      },
      "source": [
        "Counter(before_words).most_common(15)"
      ],
      "execution_count": null,
      "outputs": [
        {
          "output_type": "execute_result",
          "data": {
            "text/plain": [
              "[('recommend', 788),\n",
              " ('with', 664),\n",
              " ('of', 514),\n",
              " ('buy', 413),\n",
              " ('bought', 343),\n",
              " ('for', 336),\n",
              " ('about', 280),\n",
              " ('on', 225),\n",
              " ('purchased', 194),\n",
              " ('buying', 179),\n",
              " ('that', 170),\n",
              " ('give', 104),\n",
              " ('ordered', 93),\n",
              " ('purchasing', 92),\n",
              " ('to', 90)]"
            ]
          },
          "metadata": {},
          "execution_count": 56
        }
      ]
    },
    {
      "cell_type": "code",
      "metadata": {
        "colab": {
          "base_uri": "https://localhost:8080/"
        },
        "id": "ZmjI0eNI2n7d",
        "outputId": "4682406a-1015-42a8-8bb5-eaec55a06803"
      },
      "source": [
        "Counter(after_words).most_common(15)"
      ],
      "execution_count": null,
      "outputs": [
        {
          "output_type": "execute_result",
          "data": {
            "text/plain": [
              "[('is', 710),\n",
              " ('to', 481),\n",
              " ('and', 381),\n",
              " ('for', 377),\n",
              " ('was', 184),\n",
              " ('because', 144),\n",
              " ('as', 109),\n",
              " ('if', 104),\n",
              " ('a', 92),\n",
              " ('at', 86),\n",
              " ('on', 76),\n",
              " ('will', 74),\n",
              " ('does', 73),\n",
              " ('in', 71),\n",
              " ('I', 68)]"
            ]
          },
          "metadata": {},
          "execution_count": 57
        }
      ]
    },
    {
      "cell_type": "markdown",
      "metadata": {
        "id": "HbcQS_nu1U8p"
      },
      "source": [
        "#### PMI"
      ]
    },
    {
      "cell_type": "code",
      "metadata": {
        "id": "oULJB1h2w7ZE"
      },
      "source": [
        "def count_w2_P(word, ind):\n",
        "  p = count_vecs[:,ind].sum()/all_words_in_corpus\n",
        "  return p"
      ],
      "execution_count": 21,
      "outputs": []
    },
    {
      "cell_type": "code",
      "metadata": {
        "id": "pSTaUWwl0t_N"
      },
      "source": [
        "def count_PMI(gram_word, together_c, curr_name_count):\n",
        "  if gram_word.lower() not in features:\n",
        "    return -np.inf\n",
        "  ind = features.index(gram_word.lower())\n",
        "  up = together_c/all_words_in_corpus\n",
        "  down = count_w2_P(gram_word, ind)*curr_name_count/all_words_in_corpus\n",
        "  return np.log2(up/down)"
      ],
      "execution_count": 30,
      "outputs": []
    },
    {
      "cell_type": "code",
      "metadata": {
        "colab": {
          "base_uri": "https://localhost:8080/"
        },
        "id": "XGOb6jzt0aPE",
        "outputId": "46d5363a-b129-4bff-a058-ae68ff558914"
      },
      "source": [
        "main_colloc = product_names[0]\n",
        "print(f'Название продукта: {main_colloc}')\n",
        "before_grams, after_grams, curr_name_count = find_ngrams(main_colloc)\n",
        "# берем только 30 самых частотных слов\n",
        "cut_b_words = [pair[0] for pair in Counter(before_grams).most_common(30)]\n",
        "cut_a_words = [pair[0] for pair in Counter(after_grams).most_common(30)]\n",
        "b_pmis = []\n",
        "a_pmis = []\n",
        "for gram_word in tqdm(cut_b_words):\n",
        "  pmi = count_PMI(gram_word, before_grams.count(gram_word), curr_name_count)\n",
        "  b_pmis.append(pmi)\n",
        "for gram_word in tqdm(cut_a_words):\n",
        "  pmi = count_PMI(gram_word, after_grams.count(gram_word), curr_name_count)\n",
        "  a_pmis.append(pmi)"
      ],
      "execution_count": 23,
      "outputs": [
        {
          "output_type": "stream",
          "name": "stdout",
          "text": [
            "Название продукта: this product\n"
          ]
        },
        {
          "output_type": "stream",
          "name": "stderr",
          "text": [
            "100%|██████████| 463669/463669 [00:20<00:00, 22901.28it/s]\n",
            "100%|██████████| 30/30 [00:09<00:00,  3.06it/s]\n",
            "100%|██████████| 30/30 [00:07<00:00,  4.02it/s]\n"
          ]
        }
      ]
    },
    {
      "cell_type": "code",
      "metadata": {
        "colab": {
          "base_uri": "https://localhost:8080/"
        },
        "id": "FKD_shoT60nD",
        "outputId": "6a2562bc-606e-4542-ae9e-bda4458abd14"
      },
      "source": [
        "sorted_b_words = np.array(cut_b_words)[np.argsort(b_pmis)][::-1]\n",
        "sorted_a_words = np.array(cut_a_words)[np.argsort(a_pmis)][::-1]\n",
        "print(f'Название продукта: {main_colloc}\\n-----')\n",
        "for word in list(sorted_b_words)[:5]:\n",
        "  print(word, main_colloc)\n",
        "print('-----')\n",
        "for word in list(sorted_a_words)[:5]:\n",
        "  print(main_colloc, word)"
      ],
      "execution_count": null,
      "outputs": [
        {
          "output_type": "stream",
          "name": "stdout",
          "text": [
            "Название продукта: this product\n",
            "-----\n",
            "purchasing this product\n",
            "recommend this product\n",
            "ordered this product\n",
            "purchased this product\n",
            "recomend this product\n",
            "-----\n",
            "this product unless\n",
            "this product works\n",
            "this product came\n",
            "this product does\n",
            "this product because\n"
          ]
        }
      ]
    },
    {
      "cell_type": "code",
      "metadata": {
        "colab": {
          "base_uri": "https://localhost:8080/"
        },
        "id": "wPycZNog791a",
        "outputId": "a98849d6-c916-46d3-f045-d9cc42a7a020"
      },
      "source": [
        "main_colloc = 'the wii'\n",
        "print(f'Название продукта: {main_colloc}')\n",
        "before_grams, after_grams, curr_name_count = find_ngrams(main_colloc)\n",
        "# берем только 30 самых частотных слов\n",
        "cut_b_words = [pair[0] for pair in Counter(before_grams).most_common(30)]\n",
        "cut_a_words = [pair[0] for pair in Counter(after_grams).most_common(30)]\n",
        "b_pmis = []\n",
        "a_pmis = []\n",
        "for gram_word in tqdm(cut_b_words):\n",
        "  pmi = count_PMI(gram_word, before_grams.count(gram_word), curr_name_count)\n",
        "  b_pmis.append(pmi)\n",
        "for gram_word in tqdm(cut_a_words):\n",
        "  pmi = count_PMI(gram_word, after_grams.count(gram_word), curr_name_count)\n",
        "  a_pmis.append(pmi)"
      ],
      "execution_count": null,
      "outputs": [
        {
          "output_type": "stream",
          "name": "stdout",
          "text": [
            "Название продукта: the wii\n"
          ]
        },
        {
          "output_type": "stream",
          "name": "stderr",
          "text": [
            "100%|██████████| 463669/463669 [00:18<00:00, 24561.40it/s]\n",
            "100%|██████████| 30/30 [00:09<00:00,  3.26it/s]\n",
            "100%|██████████| 30/30 [00:08<00:00,  3.41it/s]\n"
          ]
        }
      ]
    },
    {
      "cell_type": "code",
      "metadata": {
        "colab": {
          "base_uri": "https://localhost:8080/"
        },
        "id": "IgmhjyZK8KoU",
        "outputId": "f3072691-3bc9-4a31-97f2-b98cc9305714"
      },
      "source": [
        "sorted_b_words = np.array(cut_b_words)[np.argsort(b_pmis)][::-1]\n",
        "sorted_a_words = np.array(cut_a_words)[np.argsort(a_pmis)][::-1]\n",
        "print(f'Название продукта: {main_colloc}\\n-----')\n",
        "for word in list(sorted_b_words)[:5]:\n",
        "  print(word, main_colloc)\n",
        "print('-----')\n",
        "for word in list(sorted_a_words)[:5]:\n",
        "  print(main_colloc, word)"
      ],
      "execution_count": null,
      "outputs": [
        {
          "output_type": "stream",
          "name": "stdout",
          "text": [
            "Название продукта: the wii\n",
            "-----\n",
            "using the wii\n",
            "use the wii\n",
            "on the wii\n",
            "with the wii\n",
            "bought the wii\n",
            "-----\n",
            "the wii mote\n",
            "the wii zapper\n",
            "the wii remote\n",
            "the wii remotes\n",
            "the wii shop\n"
          ]
        }
      ]
    },
    {
      "cell_type": "markdown",
      "metadata": {
        "id": "IJGD-ZHF-aON"
      },
      "source": [
        "#### t-score"
      ]
    },
    {
      "cell_type": "code",
      "metadata": {
        "id": "vCOWoAzP9aq6"
      },
      "source": [
        "def count_T_score(gram_word, together_c, curr_name_count):\n",
        "  if gram_word.lower() not in features:\n",
        "    return -np.inf\n",
        "  ind = features.index(gram_word.lower())\n",
        "  up = together_c/all_words_in_corpus - count_w2_P(gram_word, ind)*curr_name_count/all_words_in_corpus\n",
        "  down = (together_c/all_words_in_corpus)**0.5\n",
        "  return up/down"
      ],
      "execution_count": 31,
      "outputs": []
    },
    {
      "cell_type": "code",
      "metadata": {
        "colab": {
          "base_uri": "https://localhost:8080/"
        },
        "id": "tHPTfcaW_UHD",
        "outputId": "64d2471c-2eaf-4af5-c135-2da16f3bb52f"
      },
      "source": [
        "main_colloc = product_names[0]\n",
        "print(f'Название продукта: {main_colloc}')\n",
        "before_grams, after_grams, curr_name_count = find_ngrams(main_colloc)\n",
        "# берем только 30 самых частотных слов\n",
        "cut_b_words = [pair[0] for pair in Counter(before_grams).most_common(30)]\n",
        "cut_a_words = [pair[0] for pair in Counter(after_grams).most_common(30)]\n",
        "b_scores = []\n",
        "a_scores = []\n",
        "for gram_word in tqdm(cut_b_words):\n",
        "  score = count_T_score(gram_word, before_grams.count(gram_word), curr_name_count)\n",
        "  b_scores.append(score)\n",
        "for gram_word in tqdm(cut_a_words):\n",
        "  score = count_T_score(gram_word, after_grams.count(gram_word), curr_name_count)\n",
        "  a_scores.append(score)"
      ],
      "execution_count": null,
      "outputs": [
        {
          "output_type": "stream",
          "name": "stdout",
          "text": [
            "Название продукта: this product\n"
          ]
        },
        {
          "output_type": "stream",
          "name": "stderr",
          "text": [
            "100%|██████████| 463669/463669 [00:18<00:00, 25033.71it/s]\n",
            "100%|██████████| 30/30 [00:09<00:00,  3.22it/s]\n",
            "100%|██████████| 30/30 [00:06<00:00,  4.29it/s]\n"
          ]
        }
      ]
    },
    {
      "cell_type": "code",
      "metadata": {
        "colab": {
          "base_uri": "https://localhost:8080/"
        },
        "id": "17Td6N20CMD3",
        "outputId": "21a6ab48-91fa-4266-82d1-ad35185aa1a1"
      },
      "source": [
        "sorted_b_words = np.array(cut_b_words)[np.argsort(b_pmis)][::-1]\n",
        "sorted_a_words = np.array(cut_a_words)[np.argsort(a_pmis)][::-1]\n",
        "print(f'Название продукта: {main_colloc}\\n-----')\n",
        "for word in list(sorted_b_words)[:5]:\n",
        "  print(word, main_colloc)\n",
        "print('-----')\n",
        "for word in list(sorted_a_words)[:5]:\n",
        "  print(main_colloc, word)"
      ],
      "execution_count": null,
      "outputs": [
        {
          "output_type": "stream",
          "name": "stdout",
          "text": [
            "Название продукта: this product\n",
            "-----\n",
            "buying this product\n",
            "bought this product\n",
            "with this product\n",
            "of this product\n",
            "like this product\n",
            "-----\n",
            "this product because\n",
            "this product it\n",
            "this product is\n",
            "this product in\n",
            "this product came\n"
          ]
        }
      ]
    },
    {
      "cell_type": "markdown",
      "metadata": {
        "id": "W1M1uKQXC6oF"
      },
      "source": [
        "#### Jaccard"
      ]
    },
    {
      "cell_type": "code",
      "metadata": {
        "id": "EJ3mED9xDpHx"
      },
      "source": [
        "def count_jaccard(gram_word, together_c, curr_name_count):\n",
        "  if gram_word.lower() not in features:\n",
        "    return -np.inf\n",
        "  ind = features.index(gram_word.lower())\n",
        "  up = together_c\n",
        "  down = count_vecs[:,ind].sum() + curr_name_count - together_c\n",
        "  return up/down"
      ],
      "execution_count": null,
      "outputs": []
    },
    {
      "cell_type": "code",
      "metadata": {
        "colab": {
          "base_uri": "https://localhost:8080/"
        },
        "id": "Cl5BCbcJFWWh",
        "outputId": "bad0c81f-2371-4f35-ddbc-bd48d18dc642"
      },
      "source": [
        "main_colloc = product_names[0]\n",
        "print(f'Название продукта: {main_colloc}')\n",
        "before_grams, after_grams, curr_name_count = find_ngrams(main_colloc)\n",
        "# берем только 30 самых частотных слов\n",
        "cut_b_words = [pair[0] for pair in Counter(before_grams).most_common(30)]\n",
        "cut_a_words = [pair[0] for pair in Counter(after_grams).most_common(30)]\n",
        "b_scores = []\n",
        "a_scores = []\n",
        "for gram_word in tqdm(cut_b_words):\n",
        "  score = count_jaccard(gram_word, before_grams.count(gram_word), curr_name_count)\n",
        "  b_scores.append(score)\n",
        "for gram_word in tqdm(cut_a_words):\n",
        "  score = count_jaccard(gram_word, after_grams.count(gram_word), curr_name_count)\n",
        "  a_scores.append(score)"
      ],
      "execution_count": null,
      "outputs": [
        {
          "output_type": "stream",
          "name": "stdout",
          "text": [
            "Название продукта: this product\n"
          ]
        },
        {
          "output_type": "stream",
          "name": "stderr",
          "text": [
            "100%|██████████| 463669/463669 [00:18<00:00, 24811.55it/s]\n",
            "100%|██████████| 30/30 [00:09<00:00,  3.28it/s]\n",
            "100%|██████████| 30/30 [00:06<00:00,  4.34it/s]\n"
          ]
        }
      ]
    },
    {
      "cell_type": "code",
      "metadata": {
        "colab": {
          "base_uri": "https://localhost:8080/"
        },
        "id": "MA2RUhVmF9bg",
        "outputId": "bba88ed1-14ca-4dd8-9c7a-841bc20c1446"
      },
      "source": [
        "sorted_b_words = np.array(cut_b_words)[np.argsort(b_pmis)][::-1]\n",
        "sorted_a_words = np.array(cut_a_words)[np.argsort(a_pmis)][::-1]\n",
        "print(f'Название продукта: {main_colloc}\\n-----')\n",
        "for word in list(sorted_b_words)[:5]:\n",
        "  print(word, main_colloc)\n",
        "print('-----')\n",
        "for word in list(sorted_a_words)[:5]:\n",
        "  print(main_colloc, word)"
      ],
      "execution_count": null,
      "outputs": [
        {
          "output_type": "stream",
          "name": "stdout",
          "text": [
            "Название продукта: this product\n",
            "-----\n",
            "buying this product\n",
            "bought this product\n",
            "with this product\n",
            "of this product\n",
            "like this product\n",
            "-----\n",
            "this product because\n",
            "this product it\n",
            "this product is\n",
            "this product in\n",
            "this product came\n"
          ]
        }
      ]
    },
    {
      "cell_type": "markdown",
      "metadata": {
        "id": "H_2O4FKUGFT-"
      },
      "source": [
        "## 5 примеров и итог"
      ]
    },
    {
      "cell_type": "markdown",
      "metadata": {
        "id": "hTxPrLJ6kmX8"
      },
      "source": [
        "Я попробовала все 3 метрики на 3-5 примерах. Я решила, что PMI выдает больше релевантных для нас коллокаций, поэтому я буду использовать ее далее.\n",
        "T-score и Jaccard ставят выше по рангу особо частотные слова, но это не всегда лучше."
      ]
    },
    {
      "cell_type": "markdown",
      "metadata": {
        "id": "AfdQ71RZjChE"
      },
      "source": [
        "Предлагаю посмотреть на следующие названия продуктов:\n",
        "* Разные названия игр: собственно **the game**, **this product** уже видели выше и какое-нибудь конкретное название игры - **halo**.\n",
        "* Товары, связанные с играми: **this controller, this headset, this keyboard, this mouse**\n",
        "* Различные консоли: **the wii** (этот пример выше), **the psp**\n",
        "\n",
        "Хуже всего почему-то коллокации выделяются для консолей. В топ-30 н-грамм с ними в принципе входит мало осмысленных слов."
      ]
    },
    {
      "cell_type": "code",
      "metadata": {
        "id": "oHeBNK2dGQGc"
      },
      "source": [
        "def rank_by_PMI(cut_b_words, cut_a_words, before_grams, after_grams, curr_name_count):\n",
        "  b_scores = []\n",
        "  a_scores = []\n",
        "  for gram_word in tqdm(cut_b_words):\n",
        "    score = count_PMI(gram_word, before_grams.count(gram_word), curr_name_count)\n",
        "    b_scores.append(score)\n",
        "  for gram_word in tqdm(cut_a_words):\n",
        "    score = count_PMI(gram_word, after_grams.count(gram_word), curr_name_count)\n",
        "    a_scores.append(score)\n",
        "  sorted_b_words = np.array(cut_b_words)[np.argsort(b_pmis)][::-1]\n",
        "  sorted_a_words = np.array(cut_a_words)[np.argsort(a_pmis)][::-1]\n",
        "  return sorted_b_words, sorted_a_words"
      ],
      "execution_count": 32,
      "outputs": []
    },
    {
      "cell_type": "code",
      "metadata": {
        "colab": {
          "base_uri": "https://localhost:8080/"
        },
        "id": "TSXdT8qlGJqi",
        "outputId": "f7ac753d-7a71-4841-df0c-bd1fa0aea33e"
      },
      "source": [
        "main_colloc = product_names[1]\n",
        "print(f'Название продукта: {main_colloc}')\n",
        "before_grams, after_grams, curr_name_count = find_ngrams(main_colloc)\n",
        "cut_b_words = [pair[0] for pair in Counter(before_grams).most_common(30)]\n",
        "cut_a_words = [pair[0] for pair in Counter(after_grams).most_common(30)]\n",
        "sorted_b_words, sorted_a_words = rank_by_PMI(cut_b_words, cut_a_words, before_grams, after_grams, curr_name_count)\n",
        "\n",
        "print(f'Название продукта: {main_colloc}\\n-----')\n",
        "for word in list(sorted_b_words)[:5]:\n",
        "  print(word, main_colloc)\n",
        "print('-----')\n",
        "for word in list(sorted_a_words)[:5]:\n",
        "  print(main_colloc, word)"
      ],
      "execution_count": null,
      "outputs": [
        {
          "output_type": "stream",
          "name": "stdout",
          "text": [
            "Название продукта: this game\n"
          ]
        },
        {
          "output_type": "stream",
          "name": "stderr",
          "text": [
            "100%|██████████| 463669/463669 [00:19<00:00, 24093.81it/s]\n",
            "100%|██████████| 30/30 [00:10<00:00,  2.85it/s]\n",
            "100%|██████████| 30/30 [00:08<00:00,  3.69it/s]"
          ]
        },
        {
          "output_type": "stream",
          "name": "stdout",
          "text": [
            "Название продукта: this game\n",
            "-----\n",
            "that this game\n",
            "love this game\n",
            "of this game\n",
            "about this game\n",
            "but this game\n",
            "-----\n",
            "this game has\n",
            "this game but\n",
            "this game is\n",
            "this game if\n",
            "this game that\n"
          ]
        },
        {
          "output_type": "stream",
          "name": "stderr",
          "text": [
            "\n"
          ]
        }
      ]
    },
    {
      "cell_type": "code",
      "metadata": {
        "colab": {
          "base_uri": "https://localhost:8080/"
        },
        "id": "9MF1VCsaHgyp",
        "outputId": "609c884f-58eb-4dad-b7c5-fc7548100fd4"
      },
      "source": [
        "main_colloc = product_names[6]\n",
        "before_grams, after_grams, curr_name_count = find_ngrams(main_colloc)\n",
        "cut_b_words = [pair[0] for pair in Counter(before_grams).most_common(30)]\n",
        "cut_a_words = [pair[0] for pair in Counter(after_grams).most_common(30)]\n",
        "sorted_b_words, sorted_a_words = rank_by_PMI(cut_b_words, cut_a_words, before_grams, after_grams, curr_name_count)\n",
        "\n",
        "print(f'Название продукта: {main_colloc}\\n-----')\n",
        "for word in list(sorted_b_words)[:5]:\n",
        "  print(word, main_colloc)\n",
        "print('-----')\n",
        "for word in list(sorted_a_words)[:5]:\n",
        "  print(main_colloc, word)"
      ],
      "execution_count": null,
      "outputs": [
        {
          "output_type": "stream",
          "name": "stderr",
          "text": [
            "100%|██████████| 463669/463669 [00:18<00:00, 24843.59it/s]\n",
            "100%|██████████| 30/30 [00:08<00:00,  3.42it/s]\n",
            "100%|██████████| 30/30 [00:07<00:00,  4.04it/s]"
          ]
        },
        {
          "output_type": "stream",
          "name": "stdout",
          "text": [
            "Название продукта: this controller\n",
            "-----\n",
            "using this controller\n",
            "recommend this controller\n",
            "bought this controller\n",
            "of this controller\n",
            "to this controller\n",
            "-----\n",
            "this controller was\n",
            "this controller on\n",
            "this controller is\n",
            "this controller so\n",
            "this controller at\n"
          ]
        },
        {
          "output_type": "stream",
          "name": "stderr",
          "text": [
            "\n"
          ]
        }
      ]
    },
    {
      "cell_type": "code",
      "metadata": {
        "colab": {
          "base_uri": "https://localhost:8080/"
        },
        "id": "Y0LTcEf_IKSs",
        "outputId": "77319c1c-8a02-4823-e58d-bb5a0e006fee"
      },
      "source": [
        "main_colloc = product_names[17]\n",
        "before_grams, after_grams, curr_name_count = find_ngrams(main_colloc)\n",
        "cut_b_words = [pair[0] for pair in Counter(before_grams).most_common(30)]\n",
        "cut_a_words = [pair[0] for pair in Counter(after_grams).most_common(30)]\n",
        "sorted_b_words, sorted_a_words = rank_by_PMI(cut_b_words, cut_a_words, before_grams, after_grams, curr_name_count)\n",
        "\n",
        "print(f'\\nНазвание продукта: {main_colloc}\\n-----')\n",
        "for word in list(sorted_b_words)[:5]:\n",
        "  print(word, main_colloc)\n",
        "print('-----')\n",
        "for word in list(sorted_a_words)[:5]:\n",
        "  print(main_colloc, word)"
      ],
      "execution_count": 49,
      "outputs": [
        {
          "output_type": "stream",
          "name": "stderr",
          "text": [
            "100%|██████████| 463669/463669 [00:20<00:00, 22816.92it/s]\n",
            "100%|██████████| 30/30 [00:09<00:00,  3.19it/s]\n",
            "100%|██████████| 30/30 [00:08<00:00,  3.57it/s]"
          ]
        },
        {
          "output_type": "stream",
          "name": "stdout",
          "text": [
            "\n",
            "Название продукта: the psp\n",
            "-----\n",
            "then the psp\n",
            "for the psp\n",
            "as the psp\n",
            "about the psp\n",
            "is the psp\n",
            "-----\n",
            "the psp at\n",
            "the psp as\n",
            "the psp are\n",
            "the psp so\n",
            "the psp for\n"
          ]
        },
        {
          "output_type": "stream",
          "name": "stderr",
          "text": [
            "\n"
          ]
        }
      ]
    },
    {
      "cell_type": "code",
      "metadata": {
        "colab": {
          "base_uri": "https://localhost:8080/"
        },
        "id": "Pt2zyhKOiV6f",
        "outputId": "6b3b8927-73f9-46db-c0b7-ed093298ba2a"
      },
      "source": [
        "print('Все слова для the psp')\n",
        "print(sorted_b_words)\n",
        "print(sorted_a_words)"
      ],
      "execution_count": 52,
      "outputs": [
        {
          "output_type": "stream",
          "name": "stdout",
          "text": [
            "Все слова для the psp\n",
            "['then' 'for' 'as' 'about' 'is' 'have' 'from' 'get' 'of' 'when' 'that'\n",
            " 'play' 'in' 'and' 'on' 'think' 'what' 'holding' 'with' 'than' 'protect'\n",
            " 'to' 'buy' 'put' 'but' 'bought' 'over' 'got' 'like' 'while']\n",
            "['at' 'as' 'are' 'so' 'for' 'that' 'a' 'but' 'is' 'version' 'in' 'screen'\n",
            " 'out' 'to' 'while' 'system' 'and' 'can' 'itself' 'or' 'has' 'was' 'i'\n",
            " 'if' 'with' 'games' 'because' 'the' 'it' 'will']\n"
          ]
        }
      ]
    },
    {
      "cell_type": "code",
      "metadata": {
        "colab": {
          "base_uri": "https://localhost:8080/"
        },
        "id": "mhuhtuyBIXYp",
        "outputId": "6ea43bed-a3ca-4c6b-8639-59b162ebdbc9"
      },
      "source": [
        "main_colloc = product_names[14]\n",
        "before_grams, after_grams, curr_name_count = find_ngrams(main_colloc)\n",
        "cut_b_words = [pair[0] for pair in Counter(before_grams).most_common(30)]\n",
        "cut_a_words = [pair[0] for pair in Counter(after_grams).most_common(30)]\n",
        "sorted_b_words, sorted_a_words = rank_by_PMI(cut_b_words, cut_a_words, before_grams, after_grams, curr_name_count)\n",
        "\n",
        "print(f'\\nНазвание продукта: {main_colloc}\\n-----')\n",
        "for word in list(sorted_b_words)[:5]:\n",
        "  print(word, main_colloc)\n",
        "print('-----')\n",
        "for word in list(sorted_a_words)[:5]:\n",
        "  print(main_colloc, word)"
      ],
      "execution_count": 34,
      "outputs": [
        {
          "output_type": "stream",
          "name": "stderr",
          "text": [
            "100%|██████████| 463669/463669 [00:20<00:00, 23129.34it/s]\n",
            "100%|██████████| 30/30 [00:09<00:00,  3.05it/s]\n",
            "100%|██████████| 30/30 [00:09<00:00,  3.30it/s]"
          ]
        },
        {
          "output_type": "stream",
          "name": "stdout",
          "text": [
            "\n",
            "Название продукта: halo\n",
            "-----\n",
            "with halo\n",
            "like halo\n",
            "played halo\n",
            "to halo\n",
            "but halo\n",
            "-----\n",
            "halo i\n",
            "halo where\n",
            "halo one\n",
            "halo killer\n",
            "halo for\n"
          ]
        },
        {
          "output_type": "stream",
          "name": "stderr",
          "text": [
            "\n"
          ]
        }
      ]
    },
    {
      "cell_type": "code",
      "metadata": {
        "colab": {
          "base_uri": "https://localhost:8080/"
        },
        "id": "SCRJ0mzbJ59f",
        "outputId": "fb0b784d-7d3d-4ae1-b911-94803e241f3e"
      },
      "source": [
        "main_colloc = product_names[43]\n",
        "before_grams, after_grams, curr_name_count = find_ngrams(main_colloc)\n",
        "cut_b_words = [pair[0] for pair in Counter(before_grams).most_common(30)]\n",
        "cut_a_words = [pair[0] for pair in Counter(after_grams).most_common(30)]\n",
        "sorted_b_words, sorted_a_words = rank_by_PMI(cut_b_words, cut_a_words, before_grams, after_grams, curr_name_count)\n",
        "\n",
        "print(f'\\nНазвание продукта: {main_colloc}\\n-----')\n",
        "for word in list(sorted_b_words)[:5]:\n",
        "  print(word, main_colloc)\n",
        "print('-----')\n",
        "for word in list(sorted_a_words)[:5]:\n",
        "  print(main_colloc, word)"
      ],
      "execution_count": null,
      "outputs": [
        {
          "output_type": "stream",
          "name": "stderr",
          "text": [
            "100%|██████████| 463669/463669 [00:18<00:00, 25144.64it/s]\n",
            "100%|██████████| 30/30 [00:08<00:00,  3.50it/s]\n",
            "100%|██████████| 30/30 [00:07<00:00,  3.87it/s]"
          ]
        },
        {
          "output_type": "stream",
          "name": "stdout",
          "text": [
            "\n",
            "Название продукта: this keyboard\n",
            "-----\n",
            "purchased this keyboard\n",
            "of this keyboard\n",
            "bought this keyboard\n",
            "love this keyboard\n",
            "buying this keyboard\n",
            "-----\n",
            "this keyboard was\n",
            "this keyboard with\n",
            "this keyboard is\n",
            "this keyboard does\n",
            "this keyboard looks\n"
          ]
        },
        {
          "output_type": "stream",
          "name": "stderr",
          "text": [
            "\n"
          ]
        }
      ]
    },
    {
      "cell_type": "code",
      "metadata": {
        "colab": {
          "base_uri": "https://localhost:8080/"
        },
        "id": "sqbOL6bFKY5L",
        "outputId": "78627ae9-754e-4d78-c011-a47fe2f90b66"
      },
      "source": [
        "main_colloc = product_names[29]\n",
        "before_grams, after_grams, curr_name_count = find_ngrams(main_colloc)\n",
        "cut_b_words = [pair[0] for pair in Counter(before_grams).most_common(30)]\n",
        "cut_a_words = [pair[0] for pair in Counter(after_grams).most_common(30)]\n",
        "sorted_b_words, sorted_a_words = rank_by_PMI(cut_b_words, cut_a_words, before_grams, after_grams, curr_name_count)\n",
        "\n",
        "print(f'\\nНазвание продукта: {main_colloc}\\n-----')\n",
        "for word in list(sorted_b_words)[:5]:\n",
        "  print(word, main_colloc)\n",
        "print('-----')\n",
        "for word in list(sorted_a_words)[:5]:\n",
        "  print(main_colloc, word)"
      ],
      "execution_count": null,
      "outputs": [
        {
          "output_type": "stream",
          "name": "stderr",
          "text": [
            "100%|██████████| 463669/463669 [00:18<00:00, 25185.12it/s]\n",
            "100%|██████████| 30/30 [00:09<00:00,  3.22it/s]\n",
            "100%|██████████| 30/30 [00:07<00:00,  4.23it/s]"
          ]
        },
        {
          "output_type": "stream",
          "name": "stdout",
          "text": [
            "\n",
            "Название продукта: this headset\n",
            "-----\n",
            "got this headset\n",
            "about this headset\n",
            "with this headset\n",
            "of this headset\n",
            "used this headset\n",
            "-----\n",
            "this headset was\n",
            "this headset would\n",
            "this headset is\n",
            "this headset when\n",
            "this headset if\n"
          ]
        },
        {
          "output_type": "stream",
          "name": "stderr",
          "text": [
            "\n"
          ]
        }
      ]
    },
    {
      "cell_type": "code",
      "metadata": {
        "colab": {
          "base_uri": "https://localhost:8080/"
        },
        "id": "VWSUY5zhKe7L",
        "outputId": "a3f25d00-8c6f-474c-a55b-e5b3f9f4386b"
      },
      "source": [
        "main_colloc = product_names[42]\n",
        "before_grams, after_grams, curr_name_count = find_ngrams(main_colloc)\n",
        "cut_b_words = [pair[0] for pair in Counter(before_grams).most_common(30)]\n",
        "cut_a_words = [pair[0] for pair in Counter(after_grams).most_common(30)]\n",
        "sorted_b_words, sorted_a_words = rank_by_PMI(cut_b_words, cut_a_words, before_grams, after_grams, curr_name_count)\n",
        "\n",
        "print(f'\\nНазвание продукта: {main_colloc}\\n-----')\n",
        "for word in list(sorted_b_words)[:5]:\n",
        "  print(word, main_colloc)\n",
        "print('-----')\n",
        "for word in list(sorted_a_words)[:5]:\n",
        "  print(main_colloc, word)"
      ],
      "execution_count": null,
      "outputs": [
        {
          "output_type": "stream",
          "name": "stderr",
          "text": [
            "100%|██████████| 463669/463669 [00:18<00:00, 24632.41it/s]\n",
            "100%|██████████| 30/30 [00:08<00:00,  3.35it/s]\n",
            "100%|██████████| 30/30 [00:07<00:00,  3.92it/s]"
          ]
        },
        {
          "output_type": "stream",
          "name": "stdout",
          "text": [
            "\n",
            "Название продукта: this mouse\n",
            "-----\n",
            "for this mouse\n",
            "love this mouse\n",
            "bought this mouse\n",
            "of this mouse\n",
            "owned this mouse\n",
            "-----\n",
            "this mouse has\n",
            "this mouse so\n",
            "this mouse is\n",
            "this mouse on\n",
            "this mouse just\n"
          ]
        },
        {
          "output_type": "stream",
          "name": "stderr",
          "text": [
            "\n"
          ]
        }
      ]
    }
  ]
}